{
  "cells": [
    {
      "cell_type": "markdown",
      "metadata": {
        "id": "view-in-github",
        "colab_type": "text"
      },
      "source": [
        "<a href=\"https://colab.research.google.com/github/manu123416/c2q_study/blob/master/linear_classifier_random_data.ipynb\" target=\"_parent\"><img src=\"https://colab.research.google.com/assets/colab-badge.svg\" alt=\"Open In Colab\"/></a>"
      ]
    },
    {
      "cell_type": "code",
      "execution_count": null,
      "metadata": {
        "id": "3WjFlIW_YH3p"
      },
      "outputs": [],
      "source": [
        "import numpy as np\n",
        "import matplotlib.pyplot as plt \n",
        "\n",
        "# Generate a random dataset with 2 features and two classes\n",
        "np.random.seed(42)\n",
        "x = np.random.randn(100,2)\n",
        "y = np.concatenate([np.ones(50), -1*np.ones(50)])\n"
      ]
    },
    {
      "cell_type": "code",
      "execution_count": null,
      "metadata": {
        "id": "BmkMQjU0YH3q"
      },
      "outputs": [],
      "source": [
        "# Generate a random test set with the same number of features\n",
        "\n",
        "X_test = np.random.randn(50,2)\n",
        "y_test = np.concatenate([np.ones(25), -1*np.ones(25)])"
      ]
    },
    {
      "cell_type": "code",
      "execution_count": null,
      "metadata": {
        "id": "EpioABNJYH3r"
      },
      "outputs": [],
      "source": [
        "\n",
        "\n",
        "# Define a function to train a linear classifier on the data\n",
        "\n",
        "def linear_classifier(X, y, learning_rate=0.01, num_epochs=100):\n",
        "    num_features = X.shape[1] \n",
        "    weights = np.zeros(num_features)\n",
        "    bias = 0\n",
        "    \n",
        "    for epoch in range(num_epochs):\n",
        "        for i in range(X.shape[0]):\n",
        "            linear_output = np.dot(X[i], weights) + bias\n",
        "           \n",
        "            y_pred = np.sign(linear_output)\n",
        "            \n",
        "           \n",
        "            error = y[i] - y_pred\n",
        "            # print(\"The value of error=\", error)\n",
        "            weights = weights + learning_rate * error * X[i]\n",
        "\n",
        "            bias += learning_rate * error\n",
        "            \n",
        "    return weights, bias\n"
      ]
    },
    {
      "cell_type": "code",
      "execution_count": null,
      "metadata": {
        "id": "tn7gVtYkYH3s"
      },
      "outputs": [],
      "source": [
        "# Train the linear classifier on the training set \n",
        "weights, bias = linear_classifier(x, y) "
      ]
    },
    {
      "cell_type": "code",
      "execution_count": null,
      "metadata": {
        "id": "WcloNFM7YH3s",
        "outputId": "f2284f56-860b-43eb-d280-86f8d0da8df0"
      },
      "outputs": [
        {
          "data": {
            "text/plain": [
              "array([-0.01710364, -0.00402255])"
            ]
          },
          "execution_count": 128,
          "metadata": {},
          "output_type": "execute_result"
        }
      ],
      "source": [
        "weights"
      ]
    },
    {
      "cell_type": "code",
      "execution_count": null,
      "metadata": {
        "id": "zeuKDEE2YH3s",
        "outputId": "1252a312-d300-4a68-bc1d-50c9e0293018"
      },
      "outputs": [
        {
          "data": {
            "text/plain": [
              "-0.07"
            ]
          },
          "execution_count": 129,
          "metadata": {},
          "output_type": "execute_result"
        }
      ],
      "source": [
        "bias"
      ]
    },
    {
      "cell_type": "code",
      "execution_count": null,
      "metadata": {
        "id": "saMpKOkZYH3t",
        "outputId": "961183fd-57c6-4cbd-8857-c706ad19addc"
      },
      "outputs": [
        {
          "data": {
            "text/plain": [
              "array([-0.07837525, -0.09276308, -0.0426644 , -0.0808757 , -0.09430698,\n",
              "       -0.08433217, -0.08893715, -0.06766074, -0.05582927, -0.06202786,\n",
              "       -0.10207792, -0.07525032, -0.0663086 , -0.06676414, -0.06049942,\n",
              "       -0.05837879, -0.06815835, -0.10921921, -0.03611272, -0.06211   ,\n",
              "       -0.05598348, -0.08211966, -0.04812502, -0.05924866, -0.10182474,\n",
              "       -0.05212644, -0.11044972, -0.0420654 , -0.08882215, -0.08070693,\n",
              "       -0.05390668, -0.0104419 , -0.0606609 , -0.09216736, -0.06299955,\n",
              "       -0.08887519, -0.08993549, -0.05507147, -0.07099024, -0.06964393,\n",
              "       -0.07460501, -0.09214748, -0.09863026, -0.06977046, -0.07230115,\n",
              "       -0.06445723, -0.06333728, -0.073319  , -0.08662255, -0.08643561])"
            ]
          },
          "execution_count": 130,
          "metadata": {},
          "output_type": "execute_result"
        }
      ],
      "source": [
        "# Apply the learned weights and bias to the test set\n",
        "linear_output = np.dot(X_test, weights) + bias\n",
        "linear_output"
      ]
    },
    {
      "cell_type": "code",
      "execution_count": null,
      "metadata": {
        "id": "nbX-1c8YYH3t"
      },
      "outputs": [],
      "source": [
        "y_pred = np.sign(linear_output)"
      ]
    },
    {
      "cell_type": "code",
      "execution_count": null,
      "metadata": {
        "id": "3qhfQRciYH3t",
        "outputId": "8a2c40ae-0a38-4ccc-eade-555268cb644a"
      },
      "outputs": [
        {
          "name": "stdout",
          "output_type": "stream",
          "text": [
            "Accuracy: 0.5\n"
          ]
        }
      ],
      "source": [
        "# Compute the accuracy of the classifier on the test set\n",
        "accuracy = np.mean(y_pred == y_test)\n",
        "print(\"Accuracy:\", accuracy)"
      ]
    },
    {
      "cell_type": "code",
      "execution_count": null,
      "metadata": {
        "id": "QbsSQfEZYH3t",
        "outputId": "f479521e-24e5-4cc6-84c0-d65683630de1"
      },
      "outputs": [
        {
          "data": {
            "text/plain": [
              "<matplotlib.collections.PathCollection at 0x1996ddf91c0>"
            ]
          },
          "execution_count": 133,
          "metadata": {},
          "output_type": "execute_result"
        },
        {
          "data": {
            "image/png": "[encoded data removed]",
            "text/plain": [
              "<Figure size 640x480 with 1 Axes>"
            ]
          },
          "metadata": {},
          "output_type": "display_data"
        }
      ],
      "source": [
        "# Plot the data points with different colors for different classes\n",
        "desired_colors = ['r' if label == 1 else 'g' for label in y]\n",
        "# plt.scatter(x[:, 0], x[:, 1], c=y)\n",
        "plt.scatter(x[:, 0], x[:, 1], c=desired_colors )\n"
      ]
    }
  ],
  "metadata": {
    "kernelspec": {
      "display_name": "learning_python",
      "language": "python",
      "name": "python3"
    },
    "language_info": {
      "codemirror_mode": {
        "name": "ipython",
        "version": 3
      },
      "file_extension": ".py",
      "mimetype": "text/x-python",
      "name": "python",
      "nbconvert_exporter": "python",
      "pygments_lexer": "ipython3",
      "version": "3.9.16"
    },
    "orig_nbformat": 4,
    "colab": {
      "provenance": [],
      "include_colab_link": true
    }
  },
  "nbformat": 4,
  "nbformat_minor": 0
}