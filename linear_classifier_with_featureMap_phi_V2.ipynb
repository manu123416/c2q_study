{
  "cells": [
    {
      "cell_type": "markdown",
      "metadata": {
        "id": "view-in-github",
        "colab_type": "text"
      },
      "source": [
        "<a href=\"https://colab.research.google.com/github/manu123416/c2q_study/blob/master/linear_classifier_with_featureMap_phi_V2.ipynb\" target=\"_parent\"><img src=\"https://colab.research.google.com/assets/colab-badge.svg\" alt=\"Open In Colab\"/></a>"
      ]
    },
    {
      "cell_type": "code",
      "execution_count": 3,
      "metadata": {
        "id": "QrhHOL6ETgMA"
      },
      "outputs": [],
      "source": [
        "import numpy as np \n",
        "from os import system as sys\n",
        "\n",
        "import matplotlib.pyplot as pyplot\n",
        "import pandas as pd \n",
        "from sklearn.model_selection import train_test_split \n",
        "from sklearn.metrics.pairwise import rbf_kernel "
      ]
    },
    {
      "cell_type": "markdown",
      "metadata": {
        "id": "G_SrZLYmTgMC"
      },
      "source": [
        "Implemnting the below formula:\n",
        "![image.png](data:image/png;base64,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)"
      ]
    },
    {
      "cell_type": "markdown",
      "source": [
        "![image.png](data:image/png;base64,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)"
      ],
      "metadata": {
        "id": "yKDCPJs4TzYr"
      }
    },
    {
      "cell_type": "code",
      "execution_count": 4,
      "metadata": {
        "colab": {
          "base_uri": "https://localhost:8080/",
          "height": 267
        },
        "id": "dOoc0obLTgMD",
        "outputId": "ae64b2f6-8533-4103-bc9d-be698e234e9f"
      },
      "outputs": [
        {
          "output_type": "execute_result",
          "data": {
            "text/plain": [
              "            MinTemp  MaxTemp  Rainfall  Evaporation  Sunshine WindGustDir  \\\n",
              "Date                                                                        \n",
              "2008-02-01     19.5     22.4      15.6          6.2       0.0         NaN   \n",
              "2008-02-02     19.5     25.6       6.0          3.4       2.7         NaN   \n",
              "2008-02-03     21.6     24.5       6.6          2.4       0.1         NaN   \n",
              "2008-02-04     20.2     22.8      18.8          2.2       0.0         NaN   \n",
              "2008-02-05     19.7     25.7      77.4          NaN       0.0         NaN   \n",
              "\n",
              "            WindGustSpeed WindDir9am WindDir3pm  WindSpeed9am  ...  \\\n",
              "Date                                                           ...   \n",
              "2008-02-01            NaN          S        SSW          17.0  ...   \n",
              "2008-02-02            NaN          W          E           9.0  ...   \n",
              "2008-02-03            NaN        ESE        ESE          17.0  ...   \n",
              "2008-02-04            NaN        NNE          E          22.0  ...   \n",
              "2008-02-05            NaN        NNE          W          11.0  ...   \n",
              "\n",
              "            Humidity3pm  Pressure9am  Pressure3pm  Cloud9am  Cloud3pm  \\\n",
              "Date                                                                    \n",
              "2008-02-01         84.0       1017.6       1017.4       8.0       8.0   \n",
              "2008-02-02         73.0       1017.9       1016.4       7.0       7.0   \n",
              "2008-02-03         86.0       1016.7       1015.6       7.0       8.0   \n",
              "2008-02-04         90.0       1014.2       1011.8       8.0       8.0   \n",
              "2008-02-05         74.0       1008.3       1004.8       8.0       8.0   \n",
              "\n",
              "            Temp9am  Temp3pm  RainToday  RISK_MM RainTomorrow  \n",
              "Date                                                           \n",
              "2008-02-01     20.7     20.9        Yes      6.0          Yes  \n",
              "2008-02-02     22.4     24.8        Yes      6.6          Yes  \n",
              "2008-02-03     23.5     23.0        Yes     18.8          Yes  \n",
              "2008-02-04     21.4     20.9        Yes     77.4          Yes  \n",
              "2008-02-05     22.5     25.5        Yes      1.6          Yes  \n",
              "\n",
              "[5 rows x 22 columns]"
            ],
            "text/html": [
              "\n",
              "  <div id=\"df-4dfc1858-64c4-465d-8c18-0f8dcce8adbc\">\n",
              "    <div class=\"colab-df-container\">\n",
              "      <div>\n",
              "<style scoped>\n",
              "    .dataframe tbody tr th:only-of-type {\n",
              "        vertical-align: middle;\n",
              "    }\n",
              "\n",
              "    .dataframe tbody tr th {\n",
              "        vertical-align: top;\n",
              "    }\n",
              "\n",
              "    .dataframe thead th {\n",
              "        text-align: right;\n",
              "    }\n",
              "</style>\n",
              "<table border=\"1\" class=\"dataframe\">\n",
              "  <thead>\n",
              "    <tr style=\"text-align: right;\">\n",
              "      <th></th>\n",
              "      <th>MinTemp</th>\n",
              "      <th>MaxTemp</th>\n",
              "      <th>Rainfall</th>\n",
              "      <th>Evaporation</th>\n",
              "      <th>Sunshine</th>\n",
              "      <th>WindGustDir</th>\n",
              "      <th>WindGustSpeed</th>\n",
              "      <th>WindDir9am</th>\n",
              "      <th>WindDir3pm</th>\n",
              "      <th>WindSpeed9am</th>\n",
              "      <th>...</th>\n",
              "      <th>Humidity3pm</th>\n",
              "      <th>Pressure9am</th>\n",
              "      <th>Pressure3pm</th>\n",
              "      <th>Cloud9am</th>\n",
              "      <th>Cloud3pm</th>\n",
              "      <th>Temp9am</th>\n",
              "      <th>Temp3pm</th>\n",
              "      <th>RainToday</th>\n",
              "      <th>RISK_MM</th>\n",
              "      <th>RainTomorrow</th>\n",
              "    </tr>\n",
              "    <tr>\n",
              "      <th>Date</th>\n",
              "      <th></th>\n",
              "      <th></th>\n",
              "      <th></th>\n",
              "      <th></th>\n",
              "      <th></th>\n",
              "      <th></th>\n",
              "      <th></th>\n",
              "      <th></th>\n",
              "      <th></th>\n",
              "      <th></th>\n",
              "      <th></th>\n",
              "      <th></th>\n",
              "      <th></th>\n",
              "      <th></th>\n",
              "      <th></th>\n",
              "      <th></th>\n",
              "      <th></th>\n",
              "      <th></th>\n",
              "      <th></th>\n",
              "      <th></th>\n",
              "      <th></th>\n",
              "    </tr>\n",
              "  </thead>\n",
              "  <tbody>\n",
              "    <tr>\n",
              "      <th>2008-02-01</th>\n",
              "      <td>19.5</td>\n",
              "      <td>22.4</td>\n",
              "      <td>15.6</td>\n",
              "      <td>6.2</td>\n",
              "      <td>0.0</td>\n",
              "      <td>NaN</td>\n",
              "      <td>NaN</td>\n",
              "      <td>S</td>\n",
              "      <td>SSW</td>\n",
              "      <td>17.0</td>\n",
              "      <td>...</td>\n",
              "      <td>84.0</td>\n",
              "      <td>1017.6</td>\n",
              "      <td>1017.4</td>\n",
              "      <td>8.0</td>\n",
              "      <td>8.0</td>\n",
              "      <td>20.7</td>\n",
              "      <td>20.9</td>\n",
              "      <td>Yes</td>\n",
              "      <td>6.0</td>\n",
              "      <td>Yes</td>\n",
              "    </tr>\n",
              "    <tr>\n",
              "      <th>2008-02-02</th>\n",
              "      <td>19.5</td>\n",
              "      <td>25.6</td>\n",
              "      <td>6.0</td>\n",
              "      <td>3.4</td>\n",
              "      <td>2.7</td>\n",
              "      <td>NaN</td>\n",
              "      <td>NaN</td>\n",
              "      <td>W</td>\n",
              "      <td>E</td>\n",
              "      <td>9.0</td>\n",
              "      <td>...</td>\n",
              "      <td>73.0</td>\n",
              "      <td>1017.9</td>\n",
              "      <td>1016.4</td>\n",
              "      <td>7.0</td>\n",
              "      <td>7.0</td>\n",
              "      <td>22.4</td>\n",
              "      <td>24.8</td>\n",
              "      <td>Yes</td>\n",
              "      <td>6.6</td>\n",
              "      <td>Yes</td>\n",
              "    </tr>\n",
              "    <tr>\n",
              "      <th>2008-02-03</th>\n",
              "      <td>21.6</td>\n",
              "      <td>24.5</td>\n",
              "      <td>6.6</td>\n",
              "      <td>2.4</td>\n",
              "      <td>0.1</td>\n",
              "      <td>NaN</td>\n",
              "      <td>NaN</td>\n",
              "      <td>ESE</td>\n",
              "      <td>ESE</td>\n",
              "      <td>17.0</td>\n",
              "      <td>...</td>\n",
              "      <td>86.0</td>\n",
              "      <td>1016.7</td>\n",
              "      <td>1015.6</td>\n",
              "      <td>7.0</td>\n",
              "      <td>8.0</td>\n",
              "      <td>23.5</td>\n",
              "      <td>23.0</td>\n",
              "      <td>Yes</td>\n",
              "      <td>18.8</td>\n",
              "      <td>Yes</td>\n",
              "    </tr>\n",
              "    <tr>\n",
              "      <th>2008-02-04</th>\n",
              "      <td>20.2</td>\n",
              "      <td>22.8</td>\n",
              "      <td>18.8</td>\n",
              "      <td>2.2</td>\n",
              "      <td>0.0</td>\n",
              "      <td>NaN</td>\n",
              "      <td>NaN</td>\n",
              "      <td>NNE</td>\n",
              "      <td>E</td>\n",
              "      <td>22.0</td>\n",
              "      <td>...</td>\n",
              "      <td>90.0</td>\n",
              "      <td>1014.2</td>\n",
              "      <td>1011.8</td>\n",
              "      <td>8.0</td>\n",
              "      <td>8.0</td>\n",
              "      <td>21.4</td>\n",
              "      <td>20.9</td>\n",
              "      <td>Yes</td>\n",
              "      <td>77.4</td>\n",
              "      <td>Yes</td>\n",
              "    </tr>\n",
              "    <tr>\n",
              "      <th>2008-02-05</th>\n",
              "      <td>19.7</td>\n",
              "      <td>25.7</td>\n",
              "      <td>77.4</td>\n",
              "      <td>NaN</td>\n",
              "      <td>0.0</td>\n",
              "      <td>NaN</td>\n",
              "      <td>NaN</td>\n",
              "      <td>NNE</td>\n",
              "      <td>W</td>\n",
              "      <td>11.0</td>\n",
              "      <td>...</td>\n",
              "      <td>74.0</td>\n",
              "      <td>1008.3</td>\n",
              "      <td>1004.8</td>\n",
              "      <td>8.0</td>\n",
              "      <td>8.0</td>\n",
              "      <td>22.5</td>\n",
              "      <td>25.5</td>\n",
              "      <td>Yes</td>\n",
              "      <td>1.6</td>\n",
              "      <td>Yes</td>\n",
              "    </tr>\n",
              "  </tbody>\n",
              "</table>\n",
              "<p>5 rows × 22 columns</p>\n",
              "</div>\n",
              "      <button class=\"colab-df-convert\" onclick=\"convertToInteractive('df-4dfc1858-64c4-465d-8c18-0f8dcce8adbc')\"\n",
              "              title=\"Convert this dataframe to an interactive table.\"\n",
              "              style=\"display:none;\">\n",
              "        \n",
              "  <svg xmlns=\"http://www.w3.org/2000/svg\" height=\"24px\"viewBox=\"0 0 24 24\"\n",
              "       width=\"24px\">\n",
              "    <path d=\"M0 0h24v24H0V0z\" fill=\"none\"/>\n",
              "    <path d=\"M18.56 5.44l.94 2.06.94-2.06 2.06-.94-2.06-.94-.94-2.06-.94 2.06-2.06.94zm-11 1L8.5 8.5l.94-2.06 2.06-.94-2.06-.94L8.5 2.5l-.94 2.06-2.06.94zm10 10l.94 2.06.94-2.06 2.06-.94-2.06-.94-.94-2.06-.94 2.06-2.06.94z\"/><path d=\"M17.41 7.96l-1.37-1.37c-.4-.4-.92-.59-1.43-.59-.52 0-1.04.2-1.43.59L10.3 9.45l-7.72 7.72c-.78.78-.78 2.05 0 2.83L4 21.41c.39.39.9.59 1.41.59.51 0 1.02-.2 1.41-.59l7.78-7.78 2.81-2.81c.8-.78.8-2.07 0-2.86zM5.41 20L4 18.59l7.72-7.72 1.47 1.35L5.41 20z\"/>\n",
              "  </svg>\n",
              "      </button>\n",
              "      \n",
              "  <style>\n",
              "    .colab-df-container {\n",
              "      display:flex;\n",
              "      flex-wrap:wrap;\n",
              "      gap: 12px;\n",
              "    }\n",
              "\n",
              "    .colab-df-convert {\n",
              "      background-color: #E8F0FE;\n",
              "      border: none;\n",
              "      border-radius: 50%;\n",
              "      cursor: pointer;\n",
              "      display: none;\n",
              "      fill: #1967D2;\n",
              "      height: 32px;\n",
              "      padding: 0 0 0 0;\n",
              "      width: 32px;\n",
              "    }\n",
              "\n",
              "    .colab-df-convert:hover {\n",
              "      background-color: #E2EBFA;\n",
              "      box-shadow: 0px 1px 2px rgba(60, 64, 67, 0.3), 0px 1px 3px 1px rgba(60, 64, 67, 0.15);\n",
              "      fill: #174EA6;\n",
              "    }\n",
              "\n",
              "    [theme=dark] .colab-df-convert {\n",
              "      background-color: #3B4455;\n",
              "      fill: #D2E3FC;\n",
              "    }\n",
              "\n",
              "    [theme=dark] .colab-df-convert:hover {\n",
              "      background-color: #434B5C;\n",
              "      box-shadow: 0px 1px 3px 1px rgba(0, 0, 0, 0.15);\n",
              "      filter: drop-shadow(0px 1px 2px rgba(0, 0, 0, 0.3));\n",
              "      fill: #FFFFFF;\n",
              "    }\n",
              "  </style>\n",
              "\n",
              "      <script>\n",
              "        const buttonEl =\n",
              "          document.querySelector('#df-4dfc1858-64c4-465d-8c18-0f8dcce8adbc button.colab-df-convert');\n",
              "        buttonEl.style.display =\n",
              "          google.colab.kernel.accessAllowed ? 'block' : 'none';\n",
              "\n",
              "        async function convertToInteractive(key) {\n",
              "          const element = document.querySelector('#df-4dfc1858-64c4-465d-8c18-0f8dcce8adbc');\n",
              "          const dataTable =\n",
              "            await google.colab.kernel.invokeFunction('convertToInteractive',\n",
              "                                                     [key], {});\n",
              "          if (!dataTable) return;\n",
              "\n",
              "          const docLinkHtml = 'Like what you see? Visit the ' +\n",
              "            '<a target=\"_blank\" href=https://colab.research.google.com/notebooks/data_table.ipynb>data table notebook</a>'\n",
              "            + ' to learn more about interactive tables.';\n",
              "          element.innerHTML = '';\n",
              "          dataTable['output_type'] = 'display_data';\n",
              "          await google.colab.output.renderOutput(dataTable, element);\n",
              "          const docLink = document.createElement('div');\n",
              "          docLink.innerHTML = docLinkHtml;\n",
              "          element.appendChild(docLink);\n",
              "        }\n",
              "      </script>\n",
              "    </div>\n",
              "  </div>\n",
              "  "
            ]
          },
          "metadata": {},
          "execution_count": 4
        }
      ],
      "source": [
        "data = pd.read_csv('weather.csv', parse_dates = True, index_col=0)\n",
        "data.head()"
      ]
    },
    {
      "cell_type": "code",
      "execution_count": 5,
      "metadata": {
        "colab": {
          "base_uri": "https://localhost:8080/"
        },
        "id": "9f2pgEpRTgME",
        "outputId": "5d3a7e8d-98d0-47f6-8f43-7faa6092afc8"
      },
      "outputs": [
        {
          "output_type": "execute_result",
          "data": {
            "text/plain": [
              "MinTemp             3\n",
              "MaxTemp             2\n",
              "Rainfall            6\n",
              "Evaporation        51\n",
              "Sunshine           16\n",
              "WindGustDir      1036\n",
              "WindGustSpeed    1036\n",
              "WindDir9am         56\n",
              "WindDir3pm         33\n",
              "WindSpeed9am       26\n",
              "WindSpeed3pm       25\n",
              "Humidity9am        14\n",
              "Humidity3pm        13\n",
              "Pressure9am        20\n",
              "Pressure3pm        19\n",
              "Cloud9am          566\n",
              "Cloud3pm          561\n",
              "Temp9am             4\n",
              "Temp3pm             4\n",
              "RainToday           6\n",
              "RISK_MM             0\n",
              "RainTomorrow        0\n",
              "dtype: int64"
            ]
          },
          "metadata": {},
          "execution_count": 5
        }
      ],
      "source": [
        "data.isnull().sum()"
      ]
    },
    {
      "cell_type": "code",
      "execution_count": 6,
      "metadata": {
        "id": "3qcvvjQXTgME"
      },
      "outputs": [],
      "source": [
        "dataset = data[['Humidity3pm','Pressure3pm','RainTomorrow']].dropna()"
      ]
    },
    {
      "cell_type": "code",
      "execution_count": 7,
      "metadata": {
        "id": "PLV6rVsITgME"
      },
      "outputs": [],
      "source": [
        "X = dataset[['Humidity3pm','Pressure3pm']].values\n",
        "y = dataset['RainTomorrow']\n",
        "y = np.array([-1 if value == 'No' else 1 for value in y])"
      ]
    },
    {
      "cell_type": "code",
      "execution_count": 8,
      "metadata": {
        "id": "0OpUkjKbTgMF"
      },
      "outputs": [],
      "source": [
        "X_train, X_test, y_train, y_test = train_test_split(X, y, random_state=0)"
      ]
    },
    {
      "cell_type": "code",
      "execution_count": 9,
      "metadata": {
        "id": "sKyTGfL-TgMF"
      },
      "outputs": [],
      "source": [
        "# Transform X \n",
        "def transform(X):\n",
        "    temp1 = X[:,0]*X[:,0]\n",
        "    temp1_vector = temp1[:, np.newaxis]\n",
        "   \n",
        "    temp2 = np.sqrt(2)* X[:,0]*X[:,1]\n",
        "    temp2_vector= temp2[:,np.newaxis]\n",
        "    temp3 = X[:,1]*X[:,1]\n",
        "    temp3_vector= temp3[:,np.newaxis] \n",
        "\n",
        "    phi = np.concatenate((temp1_vector,temp2_vector,temp3_vector), axis=1)\n",
        "   \n",
        "    return phi"
      ]
    },
    {
      "cell_type": "code",
      "execution_count": 10,
      "metadata": {
        "id": "gjrZpLlITgMF"
      },
      "outputs": [],
      "source": [
        "# Define a function to train a linear classifier on the data\n",
        "\n",
        "def linear_classifier(X, y, learning_rate=0.001, num_epochs=100):\n",
        "    phi= transform(X)\n",
        "   \n",
        "    num_features = phi.shape[1] \n",
        "\n",
        "    weights_prime = np.zeros(num_features)\n",
        "    bias = 0\n",
        "    \n",
        "    for epoch in range(num_epochs):\n",
        "        for i in range(phi.shape[0]):\n",
        "            linear_output = np.dot(phi[i], weights_prime) + bias\n",
        "           \n",
        "            y_pred = np.sign(linear_output)\n",
        "            error = y[i] - y_pred\n",
        "            weights_prime = weights_prime + learning_rate * error * phi[i]\n",
        "            bias = bias +  learning_rate * error\n",
        "            \n",
        "    return weights_prime, bias\n"
      ]
    },
    {
      "cell_type": "code",
      "execution_count": 11,
      "metadata": {
        "id": "Fu1M_JpuTgMF"
      },
      "outputs": [],
      "source": [
        "# Train a linear classifier using the RBF kernel\n",
        "\n",
        "weights_prime, bias = linear_classifier(X_train, y_train)"
      ]
    },
    {
      "cell_type": "code",
      "execution_count": 12,
      "metadata": {
        "colab": {
          "base_uri": "https://localhost:8080/"
        },
        "id": "SmM23chBTgMF",
        "outputId": "8f3b8acb-be34-4af8-e19b-9a3f98f34402"
      },
      "outputs": [
        {
          "output_type": "execute_result",
          "data": {
            "text/plain": [
              "array([ 9927.149     , 48527.88548063, -4526.32727   ])"
            ]
          },
          "metadata": {},
          "execution_count": 12
        }
      ],
      "source": [
        "weights_prime"
      ]
    },
    {
      "cell_type": "code",
      "execution_count": 13,
      "metadata": {
        "colab": {
          "base_uri": "https://localhost:8080/"
        },
        "id": "bEHZRpkaTgMF",
        "outputId": "fb312804-47e2-4d67-d772-1ac8799957a4"
      },
      "outputs": [
        {
          "output_type": "execute_result",
          "data": {
            "text/plain": [
              "0.08100000000000006"
            ]
          },
          "metadata": {},
          "execution_count": 13
        }
      ],
      "source": [
        "bias"
      ]
    },
    {
      "cell_type": "code",
      "execution_count": 14,
      "metadata": {
        "colab": {
          "base_uri": "https://localhost:8080/"
        },
        "id": "ICrfdaV4TgMG",
        "outputId": "f070a433-23f9-4a32-c138-2f04ce6cff67"
      },
      "outputs": [
        {
          "output_type": "execute_result",
          "data": {
            "text/plain": [
              "array([[   2209.        ,   67757.51735771, 1039176.36      ],\n",
              "       [   4096.        ,   92700.00195728, 1048985.64      ],\n",
              "       [   1681.        ,   59119.21807602, 1039584.16      ],\n",
              "       ...,\n",
              "       [   1444.        ,   54207.6543739 , 1017475.69      ],\n",
              "       [   2916.        ,   77635.23340546, 1033475.56      ],\n",
              "       [   3600.        ,   86100.1501044 , 1029616.09      ]])"
            ]
          },
          "metadata": {},
          "execution_count": 14
        }
      ],
      "source": [
        "# Apply the learned weights and bias to the test set\n",
        "phi_test = transform(X_test)\n",
        "phi_test\n"
      ]
    },
    {
      "cell_type": "code",
      "execution_count": 15,
      "metadata": {
        "colab": {
          "base_uri": "https://localhost:8080/"
        },
        "id": "mO5jdhQqTgMG",
        "outputId": "64554459-bf23-4952-d225-bd4838ce26aa"
      },
      "outputs": [
        {
          "output_type": "stream",
          "name": "stdout",
          "text": [
            "The shape of the linear_output= (828,)\n"
          ]
        },
        {
          "output_type": "execute_result",
          "data": {
            "text/plain": [
              "array([-1.39359418e+09, -2.08855627e+08, -1.81987995e+09,  2.91694144e+07,\n",
              "       -8.09491749e+08, -4.17141285e+08, -1.15481737e+09, -2.21361554e+09,\n",
              "       -1.52862652e+08, -1.78281764e+09, -9.14070405e+08, -7.76558313e+08,\n",
              "        1.38234749e+09, -1.93763664e+08, -1.02475862e+09, -2.09831705e+08,\n",
              "       -6.74577980e+08,  5.17360356e+08,  6.26744641e+08, -1.08247086e+09,\n",
              "        7.93028373e+08, -1.04796228e+09, -1.23630325e+09, -2.36053162e+09,\n",
              "       -9.65082394e+08, -1.93527430e+09, -1.12593644e+09, -4.52979476e+08,\n",
              "       -1.03491979e+09, -7.87858032e+08,  5.76911076e+07,  5.02701589e+08,\n",
              "       -6.10992274e+08, -5.55461315e+08, -4.72350570e+08, -1.60742677e+09,\n",
              "       -1.32150427e+09, -1.22371784e+09,  1.52367202e+08,  4.60557373e+08,\n",
              "       -5.99997545e+08, -9.10220426e+08, -2.43549730e+08, -2.39161199e+08,\n",
              "       -2.28602280e+09, -2.25184253e+09, -3.82707050e+08, -1.74038336e+09,\n",
              "        4.80695058e+07, -2.27253405e+09, -2.52469498e+07, -4.53701760e+08,\n",
              "        5.08997497e+08, -1.51333810e+09,  1.38534718e+09, -2.64132465e+09,\n",
              "        4.23593679e+08,  4.71052387e+08,  2.56754969e+08, -7.27403888e+08,\n",
              "       -9.37817596e+08, -6.20448101e+08, -4.72695015e+07,  8.81118389e+07,\n",
              "       -3.00113777e+08, -1.51207460e+09,  1.94993750e+08, -2.85142306e+07,\n",
              "       -2.64045970e+09, -1.97596143e+08,  2.02535477e+08, -4.60100025e+08,\n",
              "       -1.03152948e+09, -2.66790577e+09, -7.01351980e+08, -1.09262699e+09,\n",
              "       -9.79076743e+08, -1.47420335e+09, -3.02679281e+09, -1.74717818e+09,\n",
              "       -4.29708314e+08, -4.41319951e+08,  9.90877266e+07, -1.40561773e+09,\n",
              "       -2.30044601e+09, -3.20014729e+08, -1.49197547e+09, -2.49066118e+09,\n",
              "       -1.98628667e+08,  6.31314526e+08, -9.45029930e+08,  4.84116090e+08,\n",
              "       -4.25680709e+08, -8.31270308e+08, -2.97709061e+09, -1.90820029e+09,\n",
              "       -1.62048862e+09, -9.96127923e+08, -1.45990137e+09, -1.62770103e+09,\n",
              "       -6.54564553e+08, -2.19194240e+09, -1.55195211e+09, -1.16468844e+09,\n",
              "       -5.31104290e+08,  5.89793375e+08, -1.54210490e+09, -7.48659583e+08,\n",
              "       -1.06885352e+09, -8.04611534e+08, -3.17041075e+08, -4.27518334e+08,\n",
              "       -2.26343843e+09, -5.84360043e+08, -5.68089504e+07, -1.98930143e+09,\n",
              "       -6.77825421e+08, -5.04389108e+08, -4.04131595e+08, -2.38554817e+09,\n",
              "       -1.27199247e+09, -1.14728656e+09, -1.52614138e+09, -1.31320795e+09,\n",
              "        1.38966712e+09,  1.05911771e+09, -1.96583333e+09,  3.72386730e+08,\n",
              "        2.68586817e+08,  1.30651405e+09, -7.96494138e+08,  1.59046123e+09,\n",
              "       -3.68554354e+08, -5.33169443e+08,  1.26298562e+09, -2.40229105e+09,\n",
              "       -8.63883361e+08,  1.22271523e+09, -8.35572126e+08,  1.44492033e+09,\n",
              "       -1.36325205e+09, -2.76999392e+09, -1.26057617e+09, -3.10609337e+08,\n",
              "       -6.62474705e+08, -3.06395003e+09, -1.78600067e+09, -1.67512596e+09,\n",
              "       -9.90541671e+08,  1.76792439e+09, -7.49907092e+08, -2.19261789e+08,\n",
              "       -6.98176887e+08, -2.47456803e+08, -1.05703628e+09, -1.33993631e+09,\n",
              "       -2.55804135e+09, -1.10242295e+09, -3.54445993e+08, -1.91706120e+09,\n",
              "       -2.32047395e+09,  6.83455150e+08, -1.07962961e+09, -3.13575930e+08,\n",
              "        1.65656384e+09, -5.23372867e+08,  1.16043884e+09,  1.16359575e+08,\n",
              "       -4.69281088e+08, -1.83266019e+09, -9.83005300e+08, -1.33283733e+09,\n",
              "        9.20168150e+08, -1.17226046e+09,  1.18233777e+09, -1.28161125e+08,\n",
              "       -1.61115465e+09, -3.91086155e+08, -8.32130574e+08, -2.78490166e+09,\n",
              "       -4.03178071e+08, -2.01364779e+09, -7.40243308e+08, -1.71619655e+09,\n",
              "       -1.26380260e+09, -1.18372435e+09, -1.95945047e+09, -1.43423400e+09,\n",
              "        4.09656248e+08, -2.43300456e+09, -4.67748874e+08, -7.20566921e+08,\n",
              "       -2.02519944e+08,  2.75567140e+08, -4.12787819e+08, -2.02090979e+09,\n",
              "       -1.72088710e+09, -2.62319269e+09, -7.06612384e+08,  1.32550481e+09,\n",
              "       -8.55146140e+08,  5.77241612e+08,  2.64658922e+08, -1.93071437e+09,\n",
              "       -2.32357349e+07, -9.29036069e+08, -2.03612938e+09, -5.72944323e+08,\n",
              "        1.69012241e+09, -3.28164998e+09,  1.40712085e+09, -2.45616735e+09,\n",
              "       -3.48008874e+09, -2.13482325e+09,  1.89049535e+09, -5.04389108e+08,\n",
              "       -6.64059179e+08, -3.83426878e+07, -1.71040523e+09, -2.11296501e+08,\n",
              "       -9.48919832e+08, -1.93201675e+09,  1.96226388e+09, -9.36155383e+08,\n",
              "       -2.08217485e+09, -2.21565215e+09, -3.69053069e+08, -8.40570055e+08,\n",
              "       -6.37991796e+07,  1.57490776e+09, -1.43219701e+09,  2.08285028e+08,\n",
              "       -2.46812697e+09, -1.06149923e+09, -1.64324363e+09,  1.15663187e+09,\n",
              "       -3.02386278e+09, -3.32440035e+08,  1.11273754e+09,  7.83137308e+08,\n",
              "       -1.12363574e+09, -2.48923449e+08, -2.57740434e+08,  9.06952646e+08,\n",
              "       -1.07055284e+09, -4.94179217e+08, -4.95453380e+08,  1.61044862e+09,\n",
              "       -1.03548516e+09, -9.81065818e+08, -8.79778643e+08, -6.78886898e+08,\n",
              "       -2.46110404e+09, -1.99034816e+08, -2.60025112e+09, -1.31998948e+08,\n",
              "        5.36870541e+08, -3.80047704e+08, -7.92666548e+07, -4.99580202e+08,\n",
              "       -1.88094075e+09, -1.05811011e+09, -7.97034664e+08, -2.56759321e+08,\n",
              "       -9.19907717e+07, -7.10899570e+08, -2.30224408e+09, -7.45071534e+08,\n",
              "       -9.88625218e+08,  1.36644021e+08, -4.99064033e+08, -2.25245045e+09,\n",
              "       -2.21856543e+09, -1.91797454e+09, -1.91371307e+08, -1.02025196e+09,\n",
              "       -1.90299568e+09,  1.53185015e+08, -2.33632245e+09, -4.63157120e+08,\n",
              "       -2.06604535e+09, -8.91336546e+08, -6.10992274e+08, -2.72500589e+08,\n",
              "        7.84320653e+08, -1.83723697e+09, -5.74253006e+08, -2.70928404e+09,\n",
              "       -6.33570393e+08,  1.52620716e+09,  1.52652701e+09, -7.97034664e+08,\n",
              "       -9.55041497e+08, -2.37699984e+08,  8.08916481e+07, -1.87899975e+09,\n",
              "       -1.29245499e+09, -4.62137726e+08, -3.17859472e+07, -4.80029398e+08,\n",
              "       -3.21502778e+08, -1.40960313e+09, -2.06687445e+09, -1.72755230e+09,\n",
              "       -1.64124110e+09, -3.28243342e+09, -5.23887661e+08,  9.37137000e+08,\n",
              "       -8.30696954e+08, -1.04171020e+09, -3.59989579e+07, -9.10133983e+08,\n",
              "       -1.00508476e+09, -1.07242836e+09, -1.34881117e+08,  8.90478610e+08,\n",
              "        2.16660697e+08, -4.76442192e+08, -1.44185893e+09, -1.13977104e+09,\n",
              "       -2.41761746e+09, -1.97717076e+09,  1.42469844e+08, -2.58588378e+09,\n",
              "       -2.97705609e+09, -2.22648477e+08, -1.91797454e+09, -8.44955460e+08,\n",
              "       -6.23079925e+08, -5.70589877e+08, -7.55092198e+07,  1.31433401e+08,\n",
              "       -4.71339358e+08, -2.85524873e+08, -2.09017667e+09,  3.77212626e+08,\n",
              "        2.03997520e+09,  7.32252648e+08, -2.53102987e+09,  3.56006606e+08,\n",
              "       -7.54211522e+08, -1.41259874e+09, -3.65563964e+08, -1.16881722e+09,\n",
              "        4.06265753e+08, -1.18721881e+09, -8.19473213e+08,  1.71313379e+08,\n",
              "        4.35564816e+08, -9.76273347e+08, -2.36677476e+09, -2.04362576e+06,\n",
              "        4.68957911e+08, -1.29636693e+09,  1.61415497e+09, -1.49015317e+09,\n",
              "        1.91880728e+08,  1.60055130e+08, -4.17141285e+08, -2.19728502e+09,\n",
              "       -9.73472214e+08, -1.88806472e+09,  9.36459132e+08, -1.75416312e+09,\n",
              "       -7.33817080e+08, -3.26233119e+09,  2.63336365e+08, -9.81882402e+08,\n",
              "       -1.51149537e+09,  1.43466611e+09, -1.23071077e+09, -1.82373136e+09,\n",
              "       -1.15425513e+09, -2.27574496e+09,  6.52680534e+08, -1.49005712e+09,\n",
              "       -1.38036584e+09, -2.15939661e+09, -3.76627210e+08, -2.20340070e+09,\n",
              "       -9.05701642e+08, -9.78515883e+08, -1.06500912e+09,  5.39759204e+08,\n",
              "       -7.72800612e+08,  1.44623712e+09, -4.32683024e+08, -1.91900920e+09,\n",
              "       -1.78491685e+08,  4.91044212e+08, -3.19518894e+08, -5.41444539e+08,\n",
              "       -1.33920032e+08, -2.92669467e+09, -2.73929142e+09, -7.53673151e+08,\n",
              "       -5.65364531e+08,  9.58564704e+08,  4.03719080e+08, -6.27300390e+08,\n",
              "       -1.03605062e+09,  1.14108204e+09, -9.65082394e+08, -1.83466140e+09,\n",
              "       -6.26256656e+08, -1.57641654e+08, -2.64563858e+09, -1.69670818e+09,\n",
              "        5.68807829e+08, -1.51210952e+09, -2.38674037e+08, -1.16982716e+09,\n",
              "       -1.09842366e+09, -5.52843518e+07, -1.05077818e+09, -2.25552016e+09,\n",
              "        1.50956988e+08, -2.60093290e+09, -9.71792621e+08, -1.96600584e+09,\n",
              "       -7.23135669e+08, -7.87858032e+08, -1.56663517e+09, -8.99132295e+08,\n",
              "       -1.05646747e+09,  5.41819819e+08, -4.80542218e+08, -2.55732925e+09,\n",
              "       -2.30947715e+09, -5.07625492e+07, -1.73577192e+09, -5.43516934e+08,\n",
              "       -7.80320450e+08, -8.08949140e+08, -2.62534821e+09,  1.03228611e+09,\n",
              "       -2.10421124e+09, -2.59017946e+09, -9.25692802e+08,  1.97108419e+09,\n",
              "        4.02444521e+08, -1.81604179e+09, -6.60363339e+08, -1.01518889e+09,\n",
              "       -1.48590429e+09, -1.04964882e+09, -4.85675398e+08, -1.99600943e+08,\n",
              "       -1.17445376e+09, -1.09190485e+09,  1.58700337e+08, -6.41036348e+08,\n",
              "       -1.26244387e+08, -8.53848436e+07, -1.37766545e+08, -1.59192901e+09,\n",
              "       -9.67876738e+08, -1.25118128e+09, -3.02234857e+09,  1.96226388e+09,\n",
              "        5.87384458e+08, -1.86505768e+08, -1.17445376e+09, -1.29666853e+09,\n",
              "        1.54963116e+09, -2.02836658e+09, -5.24983407e+08, -7.31143333e+08,\n",
              "       -1.10757141e+09,  7.58624948e+08,  7.83531847e+08, -5.41444539e+08,\n",
              "       -1.36790211e+09, -8.31238278e+08, -2.72254581e+09,  2.07843298e+08,\n",
              "        4.45322449e+08, -1.60480183e+09, -6.68817492e+08, -6.29388942e+08,\n",
              "       -2.37789178e+09, -2.73801894e+08, -2.30810418e+09, -3.76544659e+08,\n",
              "       -1.51635072e+09, -4.70833888e+08, -6.57199007e+08,  3.14824510e+07,\n",
              "       -1.82758604e+09,  1.24339613e+09,  1.19295605e+09,  5.17395853e+07,\n",
              "       -1.80012027e+09,  1.48379392e+09,  4.53131441e+07, -7.79617052e+08,\n",
              "       -1.21151157e+09, -6.30461073e+08, -9.07917088e+08, -1.10013710e+09,\n",
              "        1.27651344e+08, -1.59719360e+09, -2.52534634e+09, -1.46387051e+09,\n",
              "       -2.01665717e+09, -6.51406195e+08, -6.68176046e+08, -2.01430752e+09,\n",
              "       -7.59950740e+08, -3.25584716e+09, -5.82642527e+08, -7.61758215e+08,\n",
              "       -1.24063974e+09, -7.43997961e+08, -1.33697682e+09, -2.65602378e+08,\n",
              "       -2.05929565e+08, -2.10019729e+09, -1.28161125e+08, -1.70661173e+09,\n",
              "        1.23992905e+09,  1.08194468e+08, -1.92384887e+09,  2.93872121e+08,\n",
              "       -3.19447726e+09, -2.27730808e+09, -3.89578331e+08, -5.85400009e+08,\n",
              "       -8.93223836e+08, -5.19257769e+08, -4.06209198e+08, -1.87762839e+09,\n",
              "       -1.12673449e+09, -1.92485812e+09,  8.53597196e+07, -2.07538993e+09,\n",
              "       -2.17289559e+09, -1.63080503e+09, -1.19883849e+09, -2.17709589e+09,\n",
              "       -6.80117310e+07, -1.60541910e+09,  5.31908228e+08, -3.05862855e+09,\n",
              "       -2.78173211e+09, -9.36155383e+08, -3.59558232e+09, -2.24367403e+09,\n",
              "       -8.22048087e+08, -1.38639743e+09, -3.05346227e+09,  1.06091277e+09,\n",
              "       -1.97738130e+09, -4.56028967e+08,  2.01649573e+08, -6.86859513e+08,\n",
              "       -2.06222731e+09, -1.78536389e+09, -1.59750169e+09, -5.40408885e+08,\n",
              "       -5.28524886e+08,  1.41947833e+09,  1.84906385e+09,  1.90792602e+09,\n",
              "       -6.12201699e+08,  2.43531072e+08, -4.54503814e+08, -5.04389108e+08,\n",
              "       -4.71339358e+08, -3.95111000e+08, -6.25187014e+08, -8.75934880e+08,\n",
              "       -1.86926822e+09, -1.03650537e+09, -1.08759081e+09, -1.78235533e+09,\n",
              "        5.78270923e+08, -9.23465769e+08, -1.50719885e+09, -9.34493986e+08,\n",
              "       -4.38286211e+08, -1.29898119e+09, -8.82137830e+07, -3.70244802e+09,\n",
              "       -4.71836588e+08, -8.65865251e+08, -1.47176974e+09,  1.35016431e+09,\n",
              "       -2.67882035e+09, -2.98637424e+09, -2.36469290e+09, -2.12298609e+09,\n",
              "       -1.80194978e+09, -1.01518889e+09, -2.62391110e+09,  1.09044117e+09,\n",
              "        1.93894238e+08, -1.03435451e+09, -2.03612938e+09, -2.11978558e+09,\n",
              "       -1.56368085e+09, -5.05781299e+08, -4.44469772e+07, -1.82370421e+09,\n",
              "       -1.34785006e+08, -2.69838582e+09, -3.46423548e+08, -7.90014886e+08,\n",
              "        1.15473101e+09, -3.13182875e+07, -2.51476903e+09,  1.29725635e+09,\n",
              "       -1.48456235e+09, -2.72909273e+09, -6.33629853e+08, -5.92168610e+08,\n",
              "       -2.64550573e+09, -5.58585116e+08, -7.71727798e+08, -5.31620443e+08,\n",
              "       -1.15133971e+09, -1.23453881e+09, -3.06166885e+09, -1.15137867e+09,\n",
              "       -3.54579827e+09, -2.21361554e+09, -1.46663484e+08, -2.21156636e+09,\n",
              "        4.33432318e+08, -7.06076893e+08, -1.85538381e+08, -4.64176876e+08,\n",
              "       -2.40645437e+09, -9.68995109e+08, -5.92532448e+08, -1.33934423e+09,\n",
              "        1.55025736e+09, -1.57570858e+08,  1.87425860e+08, -2.68823252e+09,\n",
              "       -8.80247269e+08, -7.56365909e+08, -5.35752921e+08, -2.40575745e+09,\n",
              "        5.03639844e+07,  1.10952256e+09, -2.44078873e+09,  1.32483146e+09,\n",
              "       -2.93369161e+08, -1.02943411e+09, -1.31261603e+09,  1.76032143e+09,\n",
              "       -5.47675872e+08, -1.69714224e+09, -7.54078642e+08,  7.68749528e+08,\n",
              "       -1.53472721e+09,  1.18863035e+09, -6.37757638e+08, -4.64176876e+08,\n",
              "        7.63694887e+08, -2.47797428e+09,  8.32136303e+08, -1.74400683e+09,\n",
              "        1.88451252e+09, -1.58389254e+09, -3.23059837e+08,  4.69283973e+08,\n",
              "       -1.77709389e+09, -2.21082631e+08, -1.51702599e+09, -8.35096447e+08,\n",
              "        1.81064252e+08, -1.01856192e+09, -2.69475761e+09, -4.79516669e+08,\n",
              "       -1.18372435e+09, -2.29850353e+09, -1.22221846e+07, -4.74394352e+08,\n",
              "       -7.19405730e+08, -2.53175401e+09, -4.67238317e+08, -1.61593010e+09,\n",
              "       -3.56681590e+09,  3.22929518e+08, -9.76273347e+08, -6.22085345e+08,\n",
              "       -4.30212172e+08,  1.29622365e+09, -2.79296998e+09, -7.40243308e+08,\n",
              "       -1.11158084e+09,  1.17390204e+09, -1.14323784e+09, -2.20479965e+09,\n",
              "        2.51034617e+08, -1.18894925e+09,  8.90238572e+07, -8.48608433e+08,\n",
              "       -2.51470535e+09, -1.18837199e+09,  7.04265424e+08,  3.67723464e+08,\n",
              "       -1.99959761e+09, -2.41497974e+09, -4.45876670e+08,  1.27317773e+09,\n",
              "       -8.58146435e+08,  1.16969539e+09, -1.40954754e+08, -1.00676674e+09,\n",
              "       -1.71398999e+09, -3.55123265e+08, -2.42795538e+08, -2.09551847e+09,\n",
              "       -1.02983554e+09, -3.80548502e+08, -3.21006671e+08,  4.18107137e+08,\n",
              "       -1.80706874e+08, -2.21112494e+09, -2.53175401e+09, -2.79422934e+09,\n",
              "       -1.67730680e+09, -8.13835873e+08, -2.63557781e+09, -1.16079568e+09,\n",
              "       -7.13582003e+08, -3.04582784e+09,  1.25477326e+09, -3.42251997e+08,\n",
              "       -1.65612790e+09, -3.44404473e+09, -1.35120302e+09, -1.34171309e+09,\n",
              "       -3.46205869e+08, -1.26555608e+09,  1.60672923e+09,  6.06533691e+08,\n",
              "        3.14824510e+07, -1.02423887e+09,  7.79186941e+08, -1.18082480e+09,\n",
              "       -5.90084334e+08, -8.20907432e+08, -2.80633961e+08,  1.56440540e+08,\n",
              "        4.13886219e+08,  6.43981953e+08, -1.05533013e+09,  1.44129169e+09,\n",
              "        5.75379605e+08, -3.59974867e+08, -5.29040586e+08, -7.37058457e+08,\n",
              "       -1.53782700e+09, -2.23823379e+09,  1.40548514e+09, -3.19023149e+08,\n",
              "       -1.98177568e+09, -1.03733021e+09, -1.54107673e+09, -7.31677901e+08,\n",
              "        1.39496297e+09, -1.50231726e+09, -1.52185511e+09, -2.39601002e+09,\n",
              "        1.28481010e+09, -2.80546076e+09, -1.27550784e+09, -6.06799098e+08,\n",
              "       -3.50620996e+07, -1.82180525e+09, -2.70928404e+09, -7.52058583e+08,\n",
              "       -2.19290835e+09, -1.54087081e+09, -3.73545578e+08,  8.59113750e+08,\n",
              "       -6.64512011e+08, -3.20609261e+08, -6.79948736e+08,  8.39781753e+08,\n",
              "       -2.16565359e+09, -1.52185511e+09, -7.36493091e+08, -1.62894236e+09,\n",
              "       -5.07459137e+08,  5.44883428e+07,  1.79744816e+08, -1.05698112e+09,\n",
              "       -1.05730923e+08,  1.42917351e+08,  1.61415497e+09, -2.72827332e+08,\n",
              "       -1.00214996e+09, -2.22669483e+09, -6.11516828e+08, -2.03905816e+09,\n",
              "        2.02535477e+08, -1.07849375e+09, -7.39171365e+08, -2.71020907e+08,\n",
              "       -1.67918055e+09,  6.45138833e+08, -1.81026568e+09, -1.88612073e+09,\n",
              "       -1.16003997e+09, -9.66873705e+07,  8.27147343e+08, -3.36428082e+08,\n",
              "        1.99876678e+08, -1.50475442e+09, -5.98430129e+08, -2.46531671e+09,\n",
              "       -5.17716101e+08, -4.61628165e+08, -2.14084020e+09, -8.63336606e+08,\n",
              "       -1.10928919e+09,  1.02568455e+09,  4.95963504e+08, -8.17732344e+08,\n",
              "       -5.96047571e+07, -1.96051032e+09, -8.81427328e+08, -4.46383425e+08])"
            ]
          },
          "metadata": {},
          "execution_count": 15
        }
      ],
      "source": [
        "linear_output = np.dot(phi_test, weights_prime) + bias\n",
        "\n",
        "print(\"The shape of the linear_output=\", linear_output.shape)\n",
        "linear_output"
      ]
    },
    {
      "cell_type": "code",
      "execution_count": 16,
      "metadata": {
        "id": "i8grDOvrTgMG"
      },
      "outputs": [],
      "source": [
        "y_pred = np.sign(linear_output)"
      ]
    },
    {
      "cell_type": "code",
      "execution_count": 17,
      "metadata": {
        "colab": {
          "base_uri": "https://localhost:8080/"
        },
        "id": "9zLwfhhnTgMG",
        "outputId": "9417ed84-2ae2-454f-afd3-99176e6f2eb1"
      },
      "outputs": [
        {
          "output_type": "stream",
          "name": "stdout",
          "text": [
            "Accuracy: 0.8103864734299517\n"
          ]
        }
      ],
      "source": [
        "# Compute the accuracy of the classifier on the test set\n",
        "accuracy = np.mean(y_pred == y_test)\n",
        "print(\"Accuracy:\", accuracy)"
      ]
    },
    {
      "cell_type": "markdown",
      "metadata": {
        "id": "Kt2xG3VrTgMG"
      },
      "source": [
        "The Accuracy is improved as compared to linear_classifier_Actual_data.ipynb file by 10%"
      ]
    }
  ],
  "metadata": {
    "kernelspec": {
      "display_name": "learning_python",
      "language": "python",
      "name": "python3"
    },
    "language_info": {
      "codemirror_mode": {
        "name": "ipython",
        "version": 3
      },
      "file_extension": ".py",
      "mimetype": "text/x-python",
      "name": "python",
      "nbconvert_exporter": "python",
      "pygments_lexer": "ipython3",
      "version": "3.9.16"
    },
    "orig_nbformat": 4,
    "colab": {
      "provenance": [],
      "include_colab_link": true
    }
  },
  "nbformat": 4,
  "nbformat_minor": 0
}