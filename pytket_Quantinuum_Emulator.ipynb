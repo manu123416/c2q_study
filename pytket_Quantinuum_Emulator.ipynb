{
  "nbformat": 4,
  "nbformat_minor": 0,
  "metadata": {
    "colab": {
      "provenance": [],
      "authorship_tag": "ABX9TyNs232zEiUHi/FGN59AjV4I"
    },
    "kernelspec": {
      "name": "python3",
      "display_name": "Python 3"
    },
    "language_info": {
      "name": "python"
    }
  },
  "cells": [
    {
      "cell_type": "code",
      "execution_count": 1,
      "metadata": {
        "colab": {
          "base_uri": "https://localhost:8080/"
        },
        "id": "rGQIINLQEvsT",
        "outputId": "bc117d0c-bf24-44c1-89cd-1e5a21f6964b"
      },
      "outputs": [
        {
          "output_type": "stream",
          "name": "stdout",
          "text": [
            "Looking in indexes: https://pypi.org/simple, https://us-python.pkg.dev/colab-wheels/public/simple/\n",
            "Collecting pytket-quantinuum\n",
            "  Downloading pytket_quantinuum-0.12.0-py3-none-any.whl (28 kB)\n",
            "Requirement already satisfied: requests>=2.2 in /usr/local/lib/python3.8/dist-packages (from pytket-quantinuum) (2.23.0)\n",
            "Collecting pyjwt~=2.4\n",
            "  Downloading PyJWT-2.6.0-py3-none-any.whl (20 kB)\n",
            "Collecting nest-asyncio>=1.2\n",
            "  Downloading nest_asyncio-1.5.6-py3-none-any.whl (5.2 kB)\n",
            "Collecting msal~=1.18\n",
            "  Downloading msal-1.20.0-py2.py3-none-any.whl (90 kB)\n",
            "\u001b[K     |████████████████████████████████| 90 kB 4.6 MB/s \n",
            "\u001b[?25hCollecting pytket~=1.10\n",
            "  Downloading pytket-1.10.0-cp38-cp38-manylinux_2_17_x86_64.manylinux2014_x86_64.whl (13.4 MB)\n",
            "\u001b[K     |████████████████████████████████| 13.4 MB 22.3 MB/s \n",
            "\u001b[?25hCollecting websockets>=7.0\n",
            "  Downloading websockets-10.4-cp38-cp38-manylinux_2_5_x86_64.manylinux1_x86_64.manylinux_2_17_x86_64.manylinux2014_x86_64.whl (106 kB)\n",
            "\u001b[K     |████████████████████████████████| 106 kB 73.5 MB/s \n",
            "\u001b[?25hCollecting types-requests\n",
            "  Downloading types_requests-2.28.11.6-py3-none-any.whl (14 kB)\n",
            "Collecting cryptography<41,>=0.6\n",
            "  Downloading cryptography-38.0.4-cp36-abi3-manylinux_2_24_x86_64.whl (4.0 MB)\n",
            "\u001b[K     |████████████████████████████████| 4.0 MB 63.4 MB/s \n",
            "\u001b[?25hRequirement already satisfied: cffi>=1.12 in /usr/local/lib/python3.8/dist-packages (from cryptography<41,>=0.6->msal~=1.18->pytket-quantinuum) (1.15.1)\n",
            "Requirement already satisfied: pycparser in /usr/local/lib/python3.8/dist-packages (from cffi>=1.12->cryptography<41,>=0.6->msal~=1.18->pytket-quantinuum) (2.21)\n",
            "Collecting jinja2~=3.0\n",
            "  Downloading Jinja2-3.1.2-py3-none-any.whl (133 kB)\n",
            "\u001b[K     |████████████████████████████████| 133 kB 56.7 MB/s \n",
            "\u001b[?25hCollecting types-pkg-resources\n",
            "  Downloading types_pkg_resources-0.1.3-py2.py3-none-any.whl (4.8 kB)\n",
            "Requirement already satisfied: typing-extensions~=4.2 in /usr/local/lib/python3.8/dist-packages (from pytket~=1.10->pytket-quantinuum) (4.4.0)\n",
            "Requirement already satisfied: numpy<2.0,>=1.21.4 in /usr/local/lib/python3.8/dist-packages (from pytket~=1.10->pytket-quantinuum) (1.21.6)\n",
            "Requirement already satisfied: networkx~=2.4 in /usr/local/lib/python3.8/dist-packages (from pytket~=1.10->pytket-quantinuum) (2.8.8)\n",
            "Collecting qwasm~=1.0\n",
            "  Downloading qwasm-1.0.1-py3-none-any.whl (15 kB)\n",
            "Requirement already satisfied: sympy~=1.6 in /usr/local/lib/python3.8/dist-packages (from pytket~=1.10->pytket-quantinuum) (1.7.1)\n",
            "Collecting graphviz~=0.14\n",
            "  Downloading graphviz-0.20.1-py3-none-any.whl (47 kB)\n",
            "\u001b[K     |████████████████████████████████| 47 kB 4.1 MB/s \n",
            "\u001b[?25hCollecting lark-parser~=0.7\n",
            "  Downloading lark_parser-0.12.0-py2.py3-none-any.whl (103 kB)\n",
            "\u001b[K     |████████████████████████████████| 103 kB 48.1 MB/s \n",
            "\u001b[?25hRequirement already satisfied: scipy<2.0,>=1.7.2 in /usr/local/lib/python3.8/dist-packages (from pytket~=1.10->pytket-quantinuum) (1.7.3)\n",
            "Requirement already satisfied: MarkupSafe>=2.0 in /usr/local/lib/python3.8/dist-packages (from jinja2~=3.0->pytket~=1.10->pytket-quantinuum) (2.0.1)\n",
            "Requirement already satisfied: setuptools in /usr/local/lib/python3.8/dist-packages (from qwasm~=1.0->pytket~=1.10->pytket-quantinuum) (57.4.0)\n",
            "Requirement already satisfied: chardet<4,>=3.0.2 in /usr/local/lib/python3.8/dist-packages (from requests>=2.2->pytket-quantinuum) (3.0.4)\n",
            "Requirement already satisfied: urllib3!=1.25.0,!=1.25.1,<1.26,>=1.21.1 in /usr/local/lib/python3.8/dist-packages (from requests>=2.2->pytket-quantinuum) (1.24.3)\n",
            "Requirement already satisfied: certifi>=2017.4.17 in /usr/local/lib/python3.8/dist-packages (from requests>=2.2->pytket-quantinuum) (2022.12.7)\n",
            "Requirement already satisfied: idna<3,>=2.5 in /usr/local/lib/python3.8/dist-packages (from requests>=2.2->pytket-quantinuum) (2.10)\n",
            "Requirement already satisfied: mpmath>=0.19 in /usr/local/lib/python3.8/dist-packages (from sympy~=1.6->pytket~=1.10->pytket-quantinuum) (1.2.1)\n",
            "Collecting types-urllib3<1.27\n",
            "  Downloading types_urllib3-1.26.25.4-py3-none-any.whl (14 kB)\n",
            "Installing collected packages: pyjwt, cryptography, types-urllib3, types-pkg-resources, qwasm, lark-parser, jinja2, graphviz, websockets, types-requests, pytket, nest-asyncio, msal, pytket-quantinuum\n",
            "  Attempting uninstall: jinja2\n",
            "    Found existing installation: Jinja2 2.11.3\n",
            "    Uninstalling Jinja2-2.11.3:\n",
            "      Successfully uninstalled Jinja2-2.11.3\n",
            "  Attempting uninstall: graphviz\n",
            "    Found existing installation: graphviz 0.10.1\n",
            "    Uninstalling graphviz-0.10.1:\n",
            "      Successfully uninstalled graphviz-0.10.1\n",
            "\u001b[31mERROR: pip's dependency resolver does not currently take into account all the packages that are installed. This behaviour is the source of the following dependency conflicts.\n",
            "notebook 5.7.16 requires jinja2<=3.0.0, but you have jinja2 3.1.2 which is incompatible.\n",
            "flask 1.1.4 requires Jinja2<3.0,>=2.10.1, but you have jinja2 3.1.2 which is incompatible.\u001b[0m\n",
            "Successfully installed cryptography-38.0.4 graphviz-0.20.1 jinja2-3.1.2 lark-parser-0.12.0 msal-1.20.0 nest-asyncio-1.5.6 pyjwt-2.6.0 pytket-1.10.0 pytket-quantinuum-0.12.0 qwasm-1.0.1 types-pkg-resources-0.1.3 types-requests-2.28.11.6 types-urllib3-1.26.25.4 websockets-10.4\n"
          ]
        }
      ],
      "source": [
        "! pip install pytket-quantinuum"
      ]
    },
    {
      "cell_type": "markdown",
      "source": [
        "Submitting to Quantinuum Emulators via pytket\n",
        "This notebook contains examples for running quantum circuits on Quantinuum's emulators via pytket.\n",
        "\n",
        "An emulator can be used to get an idea of what a quantum device will output for our quantum circuit. Emulators differ from simulators in that they model the physical and noise model of the device whereas simulators may model noise parameters, but not physical parameters. The Quantinuum emulators run on a physical noise model of the Quantinuum H-Series devices. There are various noise/error parameters modeled. For detailed information on the noise model, see the Quantinuum System Model H1 Emulator Product Data Sheet on the user portal or at Quantinuum H-series.\n"
      ],
      "metadata": {
        "id": "EZMPvGvvGKs_"
      }
    },
    {
      "cell_type": "code",
      "source": [
        "from pytket.circuit import Circuit\n",
        "from pytket.circuit.display import render_circuit_jupyter"
      ],
      "metadata": {
        "id": "gz4Y19FdFwFW"
      },
      "execution_count": 2,
      "outputs": []
    },
    {
      "cell_type": "markdown",
      "source": [
        "Set up Bell State"
      ],
      "metadata": {
        "id": "dInBS44WGjXM"
      }
    },
    {
      "cell_type": "code",
      "source": [
        "circuit = Circuit(2, name=\"Bell Test\")\n",
        "circuit.H(0)\n",
        "circuit.CX(0, 1)\n",
        "circuit.measure_all()"
      ],
      "metadata": {
        "colab": {
          "base_uri": "https://localhost:8080/"
        },
        "id": "yiEvECKHGKYM",
        "outputId": "60072819-c289-4f97-cc4b-3594f1c20161"
      },
      "execution_count": 3,
      "outputs": [
        {
          "output_type": "execute_result",
          "data": {
            "text/plain": [
              "[H q[0]; CX q[0], q[1]; Measure q[0] --> c[0]; Measure q[1] --> c[1]; ]"
            ]
          },
          "metadata": {},
          "execution_count": 3
        }
      ]
    },
    {
      "cell_type": "code",
      "source": [
        "render_circuit_jupyter(circuit)"
      ],
      "metadata": {
        "colab": {
          "base_uri": "https://localhost:8080/",
          "height": 222
        },
        "id": "b5remBF-HdOn",
        "outputId": "4ebe81f6-5e35-4814-cf07-ecf7017019b3"
      },
      "execution_count": 4,
      "outputs": [
        {
          "output_type": "display_data",
          "data": {
            "text/plain": [
              "<IPython.core.display.HTML object>"
            ],
            "text/html": [
              "\n",
              "\n",
              "\n",
              "\n",
              "\n",
              "\n",
              "<iframe srcdoc=\"\n",
              "&lt;!DOCTYPE html&gt;\n",
              "&lt;html lang=&#34;en&#34;&gt;\n",
              "&lt;head&gt;\n",
              "    &lt;meta charset=&#34;UTF-8&#34;&gt;\n",
              "    &lt;script type=&#34;application/javascript&#34; src=&#34;https://cdn.jsdelivr.net/npm/vue@3&#34;&gt;&lt;/script&gt;\n",
              "    &lt;script type=&#34;application/javascript&#34; src=&#34;https://unpkg.com/pytket-circuit-renderer@0.3/dist/pytket-circuit-renderer.umd.js&#34;&gt;&lt;/script&gt;\n",
              "    &lt;link rel=&#34;stylesheet&#34; href=&#34;https://unpkg.com/pytket-circuit-renderer@0.3/dist/pytket-circuit-renderer.css&#34;&gt;\n",
              "&lt;/head&gt;\n",
              "&lt;body&gt;\n",
              "    &lt;div id=&#34;circuit-display-vue-container-b8bc0cef-9ca5-4d3f-baa4-0f9f2c7bbfb1&#34; class=&#34;pytket-circuit-display-container&#34;&gt;\n",
              "        &lt;div style=&#34;display: none&#34;&gt;\n",
              "            &lt;div id=&#34;circuit-json-to-display&#34;&gt;{&#34;bits&#34;: [[&#34;c&#34;, [0]], [&#34;c&#34;, [1]]], &#34;commands&#34;: [{&#34;args&#34;: [[&#34;q&#34;, [0]]], &#34;op&#34;: {&#34;type&#34;: &#34;H&#34;}}, {&#34;args&#34;: [[&#34;q&#34;, [0]], [&#34;q&#34;, [1]]], &#34;op&#34;: {&#34;type&#34;: &#34;CX&#34;}}, {&#34;args&#34;: [[&#34;q&#34;, [0]], [&#34;c&#34;, [0]]], &#34;op&#34;: {&#34;type&#34;: &#34;Measure&#34;}}, {&#34;args&#34;: [[&#34;q&#34;, [1]], [&#34;c&#34;, [1]]], &#34;op&#34;: {&#34;type&#34;: &#34;Measure&#34;}}], &#34;created_qubits&#34;: [], &#34;discarded_qubits&#34;: [], &#34;implicit_permutation&#34;: [[[&#34;q&#34;, [0]], [&#34;q&#34;, [0]]], [[&#34;q&#34;, [1]], [&#34;q&#34;, [1]]]], &#34;name&#34;: &#34;Bell Test&#34;, &#34;phase&#34;: &#34;0.0&#34;, &#34;qubits&#34;: [[&#34;q&#34;, [0]], [&#34;q&#34;, [1]]]}&lt;/div&gt;\n",
              "        &lt;/div&gt;\n",
              "        &lt;circuit-display-container :circuit-element-str=&#34;&#39;#circuit-json-to-display&#39;&#34;&gt;&lt;/circuit-display-container&gt;\n",
              "    &lt;/div&gt;\n",
              "    &lt;script type=&#34;application/javascript&#34;&gt;\n",
              "        const { createApp } = Vue;\n",
              "        const circuitDisplayContainer = window[&#34;pytket-circuit-renderer&#34;].default;\n",
              "        // Init variables to be shared between circuit display instances\n",
              "        if (typeof window.pytketCircuitDisplays === &#34;undefined&#34;) {\n",
              "            window.pytketCircuitDisplays = {};\n",
              "        }\n",
              "        const uid = &#34;b8bc0cef-9ca5-4d3f-baa4-0f9f2c7bbfb1&#34;;\n",
              "        // Create the root Vue component\n",
              "        const app = createApp({\n",
              "            delimiters: [&#39;[[#&#39;, &#39;#]]&#39;],\n",
              "            components: { circuitDisplayContainer },\n",
              "        })\n",
              "        app.config.unwrapInjectedRef = true;\n",
              "        app.mount(&#34;#circuit-display-vue-container-&#34;+uid);\n",
              "        window.pytketCircuitDisplays[uid] = app;\n",
              "    &lt;/script&gt;\n",
              "&lt;/body&gt;\n",
              "&lt;/html&gt;\n",
              "\"\n",
              "        width=\"100%\" height=\"200px\"\n",
              "        style=\"border: none; outline: none; resize: vertical; overflow: auto\"></iframe>\n",
              "\n"
            ]
          },
          "metadata": {}
        }
      ]
    },
    {
      "cell_type": "code",
      "source": [
        "from pytket.extensions.quantinuum import QuantinuumBackend"
      ],
      "metadata": {
        "id": "zdI3rVH3Hmld"
      },
      "execution_count": 5,
      "outputs": []
    },
    {
      "cell_type": "code",
      "source": [
        "machine = \"H1-1E\"\n",
        "backend = QuantinuumBackend(device_name=machine)\n",
        "backend.login()"
      ],
      "metadata": {
        "colab": {
          "base_uri": "https://localhost:8080/"
        },
        "id": "bqidQiYwHuBH",
        "outputId": "4a273bf5-7e23-4701-e3ae-eb11f302c35d"
      },
      "execution_count": 9,
      "outputs": [
        {
          "name": "stdout",
          "output_type": "stream",
          "text": [
            "Enter your Quantinuum email: manu.chaudhary@ku.edu\n",
            "Enter your Quantinuum password: ··········\n"
          ]
        }
      ]
    },
    {
      "cell_type": "code",
      "source": [
        "print(machine, \"status:\", backend.device_state(device_name=machine))"
      ],
      "metadata": {
        "colab": {
          "base_uri": "https://localhost:8080/"
        },
        "id": "CkZLdvawK07y",
        "outputId": "8593fd6e-5d81-4c92-ec0b-a2020d09e96e"
      },
      "execution_count": 10,
      "outputs": [
        {
          "output_type": "stream",
          "name": "stdout",
          "text": [
            "H1-1E status: online\n"
          ]
        }
      ]
    },
    {
      "cell_type": "markdown",
      "source": [
        "Compile the circuit to the Quantinuum backend with `get_compiled_circuit`. See the pytket User Manual for more information on all the options that are available."
      ],
      "metadata": {
        "id": "Xuya7deCK-Rn"
      }
    },
    {
      "cell_type": "code",
      "source": [
        "compiled_circuit = backend.get_compiled_circuit(circuit, optimisation_level=1)"
      ],
      "metadata": {
        "id": "vaHKwYKBLWE3"
      },
      "execution_count": 11,
      "outputs": []
    },
    {
      "cell_type": "code",
      "source": [
        "render_circuit_jupyter(compiled_circuit)"
      ],
      "metadata": {
        "colab": {
          "base_uri": "https://localhost:8080/",
          "height": 222
        },
        "id": "KiP8IM5xLeZP",
        "outputId": "15279304-d871-4ec3-c85c-39edcc1c96e3"
      },
      "execution_count": 12,
      "outputs": [
        {
          "output_type": "display_data",
          "data": {
            "text/plain": [
              "<IPython.core.display.HTML object>"
            ],
            "text/html": [
              "\n",
              "\n",
              "\n",
              "\n",
              "\n",
              "\n",
              "<iframe srcdoc=\"\n",
              "&lt;!DOCTYPE html&gt;\n",
              "&lt;html lang=&#34;en&#34;&gt;\n",
              "&lt;head&gt;\n",
              "    &lt;meta charset=&#34;UTF-8&#34;&gt;\n",
              "    &lt;script type=&#34;application/javascript&#34; src=&#34;https://cdn.jsdelivr.net/npm/vue@3&#34;&gt;&lt;/script&gt;\n",
              "    &lt;script type=&#34;application/javascript&#34; src=&#34;https://unpkg.com/pytket-circuit-renderer@0.3/dist/pytket-circuit-renderer.umd.js&#34;&gt;&lt;/script&gt;\n",
              "    &lt;link rel=&#34;stylesheet&#34; href=&#34;https://unpkg.com/pytket-circuit-renderer@0.3/dist/pytket-circuit-renderer.css&#34;&gt;\n",
              "&lt;/head&gt;\n",
              "&lt;body&gt;\n",
              "    &lt;div id=&#34;circuit-display-vue-container-46e3bcd6-9a85-4a22-acae-821f542c056d&#34; class=&#34;pytket-circuit-display-container&#34;&gt;\n",
              "        &lt;div style=&#34;display: none&#34;&gt;\n",
              "            &lt;div id=&#34;circuit-json-to-display&#34;&gt;{&#34;bits&#34;: [[&#34;c&#34;, [0]], [&#34;c&#34;, [1]]], &#34;commands&#34;: [{&#34;args&#34;: [[&#34;quantinuum&#34;, [0]]], &#34;op&#34;: {&#34;params&#34;: [&#34;1.5&#34;, &#34;0.5&#34;], &#34;type&#34;: &#34;PhasedX&#34;}}, {&#34;args&#34;: [[&#34;quantinuum&#34;, [1]]], &#34;op&#34;: {&#34;params&#34;: [&#34;-0.5&#34;, &#34;-0.5&#34;], &#34;type&#34;: &#34;PhasedX&#34;}}, {&#34;args&#34;: [[&#34;quantinuum&#34;, [0]], [&#34;quantinuum&#34;, [1]]], &#34;op&#34;: {&#34;type&#34;: &#34;ZZMax&#34;}}, {&#34;args&#34;: [[&#34;quantinuum&#34;, [0]], [&#34;c&#34;, [0]]], &#34;op&#34;: {&#34;type&#34;: &#34;Measure&#34;}}, {&#34;args&#34;: [[&#34;quantinuum&#34;, [1]]], &#34;op&#34;: {&#34;params&#34;: [&#34;1.5&#34;, &#34;-1.0&#34;], &#34;type&#34;: &#34;PhasedX&#34;}}, {&#34;args&#34;: [[&#34;quantinuum&#34;, [1]], [&#34;c&#34;, [1]]], &#34;op&#34;: {&#34;type&#34;: &#34;Measure&#34;}}], &#34;created_qubits&#34;: [[&#34;quantinuum&#34;, [0]], [&#34;quantinuum&#34;, [1]]], &#34;discarded_qubits&#34;: [], &#34;implicit_permutation&#34;: [[[&#34;quantinuum&#34;, [0]], [&#34;quantinuum&#34;, [0]]], [[&#34;quantinuum&#34;, [1]], [&#34;quantinuum&#34;, [1]]]], &#34;name&#34;: &#34;Bell Test&#34;, &#34;phase&#34;: &#34;1.75&#34;, &#34;qubits&#34;: [[&#34;quantinuum&#34;, [0]], [&#34;quantinuum&#34;, [1]]]}&lt;/div&gt;\n",
              "        &lt;/div&gt;\n",
              "        &lt;circuit-display-container :circuit-element-str=&#34;&#39;#circuit-json-to-display&#39;&#34;&gt;&lt;/circuit-display-container&gt;\n",
              "    &lt;/div&gt;\n",
              "    &lt;script type=&#34;application/javascript&#34;&gt;\n",
              "        const { createApp } = Vue;\n",
              "        const circuitDisplayContainer = window[&#34;pytket-circuit-renderer&#34;].default;\n",
              "        // Init variables to be shared between circuit display instances\n",
              "        if (typeof window.pytketCircuitDisplays === &#34;undefined&#34;) {\n",
              "            window.pytketCircuitDisplays = {};\n",
              "        }\n",
              "        const uid = &#34;46e3bcd6-9a85-4a22-acae-821f542c056d&#34;;\n",
              "        // Create the root Vue component\n",
              "        const app = createApp({\n",
              "            delimiters: [&#39;[[#&#39;, &#39;#]]&#39;],\n",
              "            components: { circuitDisplayContainer },\n",
              "        })\n",
              "        app.config.unwrapInjectedRef = true;\n",
              "        app.mount(&#34;#circuit-display-vue-container-&#34;+uid);\n",
              "        window.pytketCircuitDisplays[uid] = app;\n",
              "    &lt;/script&gt;\n",
              "&lt;/body&gt;\n",
              "&lt;/html&gt;\n",
              "\"\n",
              "        width=\"100%\" height=\"200px\"\n",
              "        style=\"border: none; outline: none; resize: vertical; overflow: auto\"></iframe>\n",
              "\n"
            ]
          },
          "metadata": {}
        }
      ]
    },
    {
      "cell_type": "markdown",
      "source": [
        "Check the circuit HQC cost before running on the emulator."
      ],
      "metadata": {
        "id": "zmd5LG5QLtdu"
      }
    },
    {
      "cell_type": "code",
      "source": [
        "n_shots = 100\n",
        "backend.cost(compiled_circuit, n_shots=n_shots, syntax_checker=\"H1-1SC\")"
      ],
      "metadata": {
        "colab": {
          "base_uri": "https://localhost:8080/"
        },
        "id": "IW0QyhuILveA",
        "outputId": "e33e8f31-7a99-477d-895c-fa4d90ac9cb8"
      },
      "execution_count": 13,
      "outputs": [
        {
          "output_type": "execute_result",
          "data": {
            "text/plain": [
              "5.66"
            ]
          },
          "metadata": {},
          "execution_count": 13
        }
      ]
    },
    {
      "cell_type": "markdown",
      "source": [
        "Run the circuit on the emulator chosen."
      ],
      "metadata": {
        "id": "mg2qXepyL6qE"
      }
    },
    {
      "cell_type": "code",
      "source": [
        "handle = backend.process_circuit(compiled_circuit, n_shots=n_shots)\n",
        "print(handle)"
      ],
      "metadata": {
        "colab": {
          "base_uri": "https://localhost:8080/"
        },
        "id": "PaswII9EL8mp",
        "outputId": "b3961c51-ee7e-419b-ce5e-b81cdf66e393"
      },
      "execution_count": 14,
      "outputs": [
        {
          "output_type": "stream",
          "name": "stdout",
          "text": [
            "('1ee49fa7f6eb4a5593d48d3f7ab08f93', 'null')\n"
          ]
        }
      ]
    },
    {
      "cell_type": "markdown",
      "source": [
        "Check the job status."
      ],
      "metadata": {
        "id": "iv1WLpJiMDoE"
      }
    },
    {
      "cell_type": "code",
      "source": [
        "status = backend.circuit_status(handle)\n",
        "print(status)"
      ],
      "metadata": {
        "colab": {
          "base_uri": "https://localhost:8080/"
        },
        "id": "UG2UH--SMGKG",
        "outputId": "3d32e851-8c92-4419-e4d8-34f7681ab022"
      },
      "execution_count": 15,
      "outputs": [
        {
          "output_type": "stream",
          "name": "stdout",
          "text": [
            "CircuitStatus(status=<StatusEnum.COMPLETED: 'Circuit has completed. Results are ready.'>, message='{\"name\": \"Bell Test\", \"submit-date\": \"2022-12-22T04:55:45.141188\", \"result-date\": \"2022-12-22T04:56:12.145873\", \"queue-position\": null, \"cost\": \"5.66\", \"error\": null}', error_detail=None, completed_time=None, queued_time=None, submitted_time=None, running_time=None, cancelled_time=None, error_time=None, queue_position=None)\n"
          ]
        }
      ]
    },
    {
      "cell_type": "markdown",
      "source": [
        "Once a job's status returns completed, return results with the get_result function."
      ],
      "metadata": {
        "id": "5IF24_HhMPj_"
      }
    },
    {
      "cell_type": "code",
      "source": [
        "result = backend.get_result(handle)"
      ],
      "metadata": {
        "id": "jiTdFjQbMQcL"
      },
      "execution_count": 16,
      "outputs": []
    },
    {
      "cell_type": "code",
      "source": [
        "result"
      ],
      "metadata": {
        "colab": {
          "base_uri": "https://localhost:8080/"
        },
        "id": "AV7MpEJVMTYs",
        "outputId": "5875c22d-aa32-4bbd-bf73-ed6329fa816a"
      },
      "execution_count": 17,
      "outputs": [
        {
          "output_type": "execute_result",
          "data": {
            "text/plain": [
              "BackendResult(q_bits={},c_bits={c[1]: 0, c[0]: 1},counts=None,shots=[[  0]\n",
              " [  0]\n",
              " [192]\n",
              " [  0]\n",
              " [  0]\n",
              " [192]\n",
              " [  0]\n",
              " [192]\n",
              " [192]\n",
              " [192]\n",
              " [192]\n",
              " [192]\n",
              " [  0]\n",
              " [  0]\n",
              " [  0]\n",
              " [  0]\n",
              " [192]\n",
              " [192]\n",
              " [  0]\n",
              " [  0]\n",
              " [  0]\n",
              " [192]\n",
              " [192]\n",
              " [  0]\n",
              " [192]\n",
              " [192]\n",
              " [  0]\n",
              " [  0]\n",
              " [  0]\n",
              " [  0]\n",
              " [192]\n",
              " [192]\n",
              " [192]\n",
              " [  0]\n",
              " [  0]\n",
              " [  0]\n",
              " [192]\n",
              " [192]\n",
              " [192]\n",
              " [192]\n",
              " [192]\n",
              " [  0]\n",
              " [  0]\n",
              " [  0]\n",
              " [  0]\n",
              " [  0]\n",
              " [192]\n",
              " [  0]\n",
              " [192]\n",
              " [192]\n",
              " [ 64]\n",
              " [  0]\n",
              " [192]\n",
              " [  0]\n",
              " [192]\n",
              " [192]\n",
              " [192]\n",
              " [  0]\n",
              " [  0]\n",
              " [192]\n",
              " [192]\n",
              " [192]\n",
              " [  0]\n",
              " [  0]\n",
              " [192]\n",
              " [192]\n",
              " [  0]\n",
              " [192]\n",
              " [  0]\n",
              " [  0]\n",
              " [192]\n",
              " [  0]\n",
              " [192]\n",
              " [192]\n",
              " [192]\n",
              " [  0]\n",
              " [192]\n",
              " [  0]\n",
              " [192]\n",
              " [  0]\n",
              " [192]\n",
              " [192]\n",
              " [192]\n",
              " [192]\n",
              " [  0]\n",
              " [  0]\n",
              " [  0]\n",
              " [  0]\n",
              " [  0]\n",
              " [  0]\n",
              " [192]\n",
              " [  0]\n",
              " [192]\n",
              " [  0]\n",
              " [192]\n",
              " [  0]\n",
              " [  0]\n",
              " [192]\n",
              " [  0]\n",
              " [  0]],state=None,unitary=None,density_matrix=None)"
            ]
          },
          "metadata": {},
          "execution_count": 17
        }
      ]
    },
    {
      "cell_type": "code",
      "source": [
        "import json"
      ],
      "metadata": {
        "id": "_MSOAKi_MVXe"
      },
      "execution_count": 18,
      "outputs": []
    },
    {
      "cell_type": "code",
      "source": [
        "with open(\"pytket_emulator_example.json\", \"w\") as file:\n",
        "    json.dump(result.to_dict(), file)"
      ],
      "metadata": {
        "id": "clV20VrIMeY4"
      },
      "execution_count": 19,
      "outputs": []
    },
    {
      "cell_type": "code",
      "source": [
        "result = backend.get_result(handle)\n",
        "print(result.get_distribution())"
      ],
      "metadata": {
        "colab": {
          "base_uri": "https://localhost:8080/"
        },
        "id": "HtVkC3lEMju0",
        "outputId": "f0e06564-a429-48e4-ab77-af44ce536c70"
      },
      "execution_count": 20,
      "outputs": [
        {
          "output_type": "stream",
          "name": "stdout",
          "text": [
            "{(0, 0): 0.51, (1, 0): 0.01, (1, 1): 0.48}\n"
          ]
        }
      ]
    },
    {
      "cell_type": "code",
      "source": [
        "print(result.get_counts())"
      ],
      "metadata": {
        "colab": {
          "base_uri": "https://localhost:8080/"
        },
        "id": "5UPGVlOwMpX-",
        "outputId": "84d0abdd-07c6-474b-90d5-6e3b9e0e69f2"
      },
      "execution_count": 21,
      "outputs": [
        {
          "output_type": "stream",
          "name": "stdout",
          "text": [
            "Counter({(0, 0): 51, (1, 1): 48, (1, 0): 1})\n"
          ]
        }
      ]
    },
    {
      "cell_type": "markdown",
      "source": [
        "## **Noiseless Emulation**"
      ],
      "metadata": {
        "id": "9p3TSIYnNq2M"
      }
    },
    {
      "cell_type": "code",
      "source": [
        "n_shots = 100\n",
        "no_error_model_handle = backend.process_circuit(\n",
        "    compiled_circuit, n_shots=n_shots, noisy_simulation=False\n",
        ")\n",
        "print(no_error_model_handle)"
      ],
      "metadata": {
        "colab": {
          "base_uri": "https://localhost:8080/"
        },
        "id": "byi50NeCNvso",
        "outputId": "ebe6b2f7-8fe8-42e8-b18c-c00f5ca85474"
      },
      "execution_count": 22,
      "outputs": [
        {
          "output_type": "stream",
          "name": "stdout",
          "text": [
            "('1b3db9c9d33c4d6cbf858dd36e59df8d', 'null')\n"
          ]
        }
      ]
    },
    {
      "cell_type": "code",
      "source": [
        "no_error_model_status = backend.circuit_status(no_error_model_handle)\n",
        "print(no_error_model_status)"
      ],
      "metadata": {
        "colab": {
          "base_uri": "https://localhost:8080/"
        },
        "id": "t7BuCch4OoVu",
        "outputId": "e615cb1a-5141-45d0-d2e5-1eb4fd281e92"
      },
      "execution_count": 25,
      "outputs": [
        {
          "output_type": "stream",
          "name": "stdout",
          "text": [
            "CircuitStatus(status=<StatusEnum.COMPLETED: 'Circuit has completed. Results are ready.'>, message='{\"name\": \"Bell Test\", \"submit-date\": \"2022-12-22T05:05:56.943838\", \"result-date\": \"2022-12-22T05:06:00.927972\", \"queue-position\": null, \"cost\": \"5.66\", \"error\": null}', error_detail=None, completed_time=None, queued_time=None, submitted_time=None, running_time=None, cancelled_time=None, error_time=None, queue_position=None)\n"
          ]
        }
      ]
    },
    {
      "cell_type": "code",
      "source": [
        "no_error_model_result = backend.get_result(no_error_model_handle)"
      ],
      "metadata": {
        "id": "6rIf31ArO3I6"
      },
      "execution_count": 26,
      "outputs": []
    },
    {
      "cell_type": "code",
      "source": [
        "no_error_model_result"
      ],
      "metadata": {
        "colab": {
          "base_uri": "https://localhost:8080/"
        },
        "id": "lNRYPi-LO9GK",
        "outputId": "6442f5c0-e301-4b64-c3ed-1d21b70da78e"
      },
      "execution_count": 27,
      "outputs": [
        {
          "output_type": "execute_result",
          "data": {
            "text/plain": [
              "BackendResult(q_bits={},c_bits={c[1]: 0, c[0]: 1},counts=None,shots=[[192]\n",
              " [192]\n",
              " [  0]\n",
              " [  0]\n",
              " [  0]\n",
              " [192]\n",
              " [192]\n",
              " [192]\n",
              " [192]\n",
              " [  0]\n",
              " [  0]\n",
              " [192]\n",
              " [192]\n",
              " [  0]\n",
              " [192]\n",
              " [  0]\n",
              " [192]\n",
              " [192]\n",
              " [192]\n",
              " [192]\n",
              " [192]\n",
              " [192]\n",
              " [192]\n",
              " [192]\n",
              " [192]\n",
              " [192]\n",
              " [192]\n",
              " [  0]\n",
              " [192]\n",
              " [  0]\n",
              " [  0]\n",
              " [192]\n",
              " [192]\n",
              " [  0]\n",
              " [192]\n",
              " [192]\n",
              " [192]\n",
              " [  0]\n",
              " [  0]\n",
              " [192]\n",
              " [192]\n",
              " [  0]\n",
              " [192]\n",
              " [  0]\n",
              " [  0]\n",
              " [  0]\n",
              " [192]\n",
              " [  0]\n",
              " [192]\n",
              " [192]\n",
              " [  0]\n",
              " [192]\n",
              " [  0]\n",
              " [  0]\n",
              " [192]\n",
              " [192]\n",
              " [192]\n",
              " [  0]\n",
              " [  0]\n",
              " [192]\n",
              " [  0]\n",
              " [  0]\n",
              " [192]\n",
              " [  0]\n",
              " [  0]\n",
              " [192]\n",
              " [192]\n",
              " [  0]\n",
              " [192]\n",
              " [  0]\n",
              " [192]\n",
              " [  0]\n",
              " [192]\n",
              " [192]\n",
              " [192]\n",
              " [  0]\n",
              " [192]\n",
              " [192]\n",
              " [  0]\n",
              " [  0]\n",
              " [  0]\n",
              " [192]\n",
              " [192]\n",
              " [  0]\n",
              " [192]\n",
              " [  0]\n",
              " [  0]\n",
              " [192]\n",
              " [  0]\n",
              " [  0]\n",
              " [  0]\n",
              " [  0]\n",
              " [  0]\n",
              " [  0]\n",
              " [192]\n",
              " [192]\n",
              " [  0]\n",
              " [192]\n",
              " [  0]\n",
              " [192]],state=None,unitary=None,density_matrix=None)"
            ]
          },
          "metadata": {},
          "execution_count": 27
        }
      ]
    },
    {
      "cell_type": "code",
      "source": [
        "with open(\"pytket_emulator_noiseless_example.json\", \"w\") as file:\n",
        "    json.dump(result.to_dict(), file)"
      ],
      "metadata": {
        "id": "mwotjiAhPBZf"
      },
      "execution_count": 28,
      "outputs": []
    },
    {
      "cell_type": "code",
      "source": [
        "no_error_model_result = backend.get_result(no_error_model_handle)\n",
        "print(no_error_model_result.get_distribution())"
      ],
      "metadata": {
        "colab": {
          "base_uri": "https://localhost:8080/"
        },
        "id": "KtACsk57PHNJ",
        "outputId": "49565e09-199f-4c53-9d7b-f344b694718e"
      },
      "execution_count": 29,
      "outputs": [
        {
          "output_type": "stream",
          "name": "stdout",
          "text": [
            "{(0, 0): 0.45, (1, 1): 0.55}\n"
          ]
        }
      ]
    },
    {
      "cell_type": "code",
      "source": [
        "print(no_error_model_result.get_counts())"
      ],
      "metadata": {
        "colab": {
          "base_uri": "https://localhost:8080/"
        },
        "id": "cUINRu0pPKgT",
        "outputId": "28f1e166-d084-4ade-99bd-5f316bb85a5a"
      },
      "execution_count": 30,
      "outputs": [
        {
          "output_type": "stream",
          "name": "stdout",
          "text": [
            "Counter({(1, 1): 55, (0, 0): 45})\n"
          ]
        }
      ]
    },
    {
      "cell_type": "markdown",
      "source": [
        "## **Noise Parameters**"
      ],
      "metadata": {
        "id": "leaI_vX-PTKL"
      }
    },
    {
      "cell_type": "markdown",
      "source": [
        "The emulator runs with default error parameters that represent a noise environment similar to the physical devices. \n",
        "The error-params option can be used to override these error parameters and do finer-grain tweaks of the error model.\n",
        "For detailed information on the noise model, see the Quantinuum System Model H1 Emulator Product Data Sheet on the user portal or or Quantinuum H-Series page or the Quantinuum Application Programming Interface (API) on the user portal.\n",
        "\n",
        "In this section, examples are given for experimenting with the noise and error parameters of the emulators. These are advanced options and not recommended to start with when doing initial experiments.\n",
        "\n",
        "Note: All the noise parameters are used together any time a simulation is run. If only some of the parameters are specified, the rest of the parameters are used at their default settings. The parameters to override are specified with the options parameter.\n",
        "\n",
        "\n",
        "\n",
        "*   Physical Noise\n",
        "*   Dephasing Noise\n",
        "*   Arbitrary Angle Noise Scaling\n",
        "*   Scaling"
      ],
      "metadata": {
        "id": "9NELal9BP1Um"
      }
    },
    {
      "cell_type": "markdown",
      "source": [
        "## Physical Noise"
      ],
      "metadata": {
        "id": "mWj5-pDhRGcN"
      }
    },
    {
      "cell_type": "code",
      "source": [
        "handle = backend.process_circuit(\n",
        "    compiled_circuit,\n",
        "    n_shots=100,\n",
        "    request_options={\n",
        "        \"options\": {\n",
        "            \"error-params\": {\n",
        "                \"p1\": 4e-5,\n",
        "                \"p2\": 3e-3,\n",
        "                \"p_meas\": 3e-3,\n",
        "                \"p_init\": 4e-5,\n",
        "                \"p_crosstalk_meas\": 1e-5,\n",
        "                \"p_crosstalk_init\": 3e-5,\n",
        "                \"p1_emission\": 6e-6,\n",
        "                \"p2_emission\": 2e-4,\n",
        "            }\n",
        "        }\n",
        "    },\n",
        ")"
      ],
      "metadata": {
        "id": "smAiYZ-sRBu1"
      },
      "execution_count": 31,
      "outputs": []
    },
    {
      "cell_type": "code",
      "source": [
        "result = backend.get_result(handle)"
      ],
      "metadata": {
        "id": "ax9WyETPRS3R"
      },
      "execution_count": 32,
      "outputs": []
    },
    {
      "cell_type": "code",
      "source": [
        "print(result.get_distribution())"
      ],
      "metadata": {
        "colab": {
          "base_uri": "https://localhost:8080/"
        },
        "id": "8jfhtGhHRV8R",
        "outputId": "df504e66-8469-4993-9485-d7723e13f732"
      },
      "execution_count": 33,
      "outputs": [
        {
          "output_type": "stream",
          "name": "stdout",
          "text": [
            "{(0, 0): 0.49, (1, 1): 0.51}\n"
          ]
        }
      ]
    },
    {
      "cell_type": "markdown",
      "source": [
        "## Dephasing Noise"
      ],
      "metadata": {
        "id": "aHTi3iMqRYcL"
      }
    },
    {
      "cell_type": "code",
      "source": [
        "handle = backend.process_circuit(\n",
        "    compiled_circuit,\n",
        "    n_shots=100,\n",
        "    request_options={\n",
        "        \"options\": {\n",
        "            \"error-params\": {\n",
        "                \"coherent_dephasing_rate\": 0.2,\n",
        "                \"incoherent_dephasing_rate\": 0.3,\n",
        "                \"coherent_dephasing\": False,  # False => run the incoherent noise model\n",
        "                \"transport_dephasing\": False,  # False => turn off transport dephasing error\n",
        "                \"idle_dephasing\": False,  # False => turn off idel dephasing error\n",
        "            },\n",
        "        }\n",
        "    },\n",
        ")"
      ],
      "metadata": {
        "id": "dZs6o7x4RdeH"
      },
      "execution_count": 34,
      "outputs": []
    },
    {
      "cell_type": "code",
      "source": [
        "result = backend.get_result(handle)"
      ],
      "metadata": {
        "id": "eYKYMQVBRiKJ"
      },
      "execution_count": 35,
      "outputs": []
    },
    {
      "cell_type": "code",
      "source": [
        "print(result.get_distribution())"
      ],
      "metadata": {
        "colab": {
          "base_uri": "https://localhost:8080/"
        },
        "id": "OWcCHwT1SBl8",
        "outputId": "9d783ceb-dbce-4753-b224-1189ae5962b2"
      },
      "execution_count": 36,
      "outputs": [
        {
          "output_type": "stream",
          "name": "stdout",
          "text": [
            "{(0, 0): 0.46, (1, 1): 0.54}\n"
          ]
        }
      ]
    },
    {
      "cell_type": "markdown",
      "source": [
        "Arbitrary Angle Noise Scaling"
      ],
      "metadata": {
        "id": "F1OttetlTqYa"
      }
    },
    {
      "cell_type": "code",
      "source": [
        "handle = backend.process_circuit(\n",
        "    compiled_circuit,\n",
        "    n_shots=100,\n",
        "    request_options={\n",
        "        \"options\": {\n",
        "            \"error-params\": {\n",
        "                \"przz_a\": 1.09,\n",
        "                \"przz_b\": 0.051,\n",
        "                \"przz_c\": 1.365,\n",
        "                \"przz_d\": 0.035,\n",
        "            },\n",
        "        }\n",
        "    },\n",
        ")"
      ],
      "metadata": {
        "id": "BLz0Kpn6TtGf"
      },
      "execution_count": 37,
      "outputs": []
    },
    {
      "cell_type": "code",
      "source": [
        "result = backend.get_result(handle)"
      ],
      "metadata": {
        "id": "8geLMJuETzG-"
      },
      "execution_count": 38,
      "outputs": []
    },
    {
      "cell_type": "code",
      "source": [
        "print(result.get_distribution())"
      ],
      "metadata": {
        "colab": {
          "base_uri": "https://localhost:8080/"
        },
        "id": "c8N1EzoVT2Tz",
        "outputId": "cb695c94-bce8-4eed-93a5-6a377ebedb35"
      },
      "execution_count": 39,
      "outputs": [
        {
          "output_type": "stream",
          "name": "stdout",
          "text": [
            "{(0, 0): 0.57, (0, 1): 0.01, (1, 0): 0.01, (1, 1): 0.41}\n"
          ]
        }
      ]
    },
    {
      "cell_type": "markdown",
      "source": [
        "Scaling"
      ],
      "metadata": {
        "id": "Qm9OONvGT5I9"
      }
    },
    {
      "cell_type": "code",
      "source": [
        "handle = backend.process_circuit(\n",
        "    compiled_circuit,\n",
        "    n_shots=100,\n",
        "    request_options={\n",
        "        \"options\": {\n",
        "            \"error-params\": {\n",
        "                \"scale\": 0.1,  # scale error rates linearly by 0.1\n",
        "            },\n",
        "        }\n",
        "    },\n",
        ")"
      ],
      "metadata": {
        "id": "dI0aAgjRT7BV"
      },
      "execution_count": 40,
      "outputs": []
    },
    {
      "cell_type": "code",
      "source": [
        "result = backend.get_result(handle)"
      ],
      "metadata": {
        "id": "71C3aSF7UDl5"
      },
      "execution_count": 41,
      "outputs": []
    },
    {
      "cell_type": "code",
      "source": [
        "print(result.get_distribution())"
      ],
      "metadata": {
        "colab": {
          "base_uri": "https://localhost:8080/"
        },
        "id": "szStNpKFUGG6",
        "outputId": "f48f0c8b-dfdb-456e-cab0-9e80416aea65"
      },
      "execution_count": 42,
      "outputs": [
        {
          "output_type": "stream",
          "name": "stdout",
          "text": [
            "{(0, 0): 0.44, (1, 1): 0.56}\n"
          ]
        }
      ]
    },
    {
      "cell_type": "code",
      "source": [
        "handle = backend.process_circuit(\n",
        "    compiled_circuit,\n",
        "    n_shots=100,\n",
        "    request_options={\n",
        "        \"options\": {\n",
        "            \"error-params\": {\n",
        "                \"p1_scale\": 0.1,\n",
        "                \"p2_scale\": 0.1,\n",
        "                \"meas_scale\": 0.1,\n",
        "                \"init_scale\": 0.1,\n",
        "                \"memory_scale\": 0.1,\n",
        "                \"emission_scale\": 0.1,\n",
        "                \"crosstalk_scale\": 0.1,\n",
        "                \"leakage_scale\": 0.1,\n",
        "            },\n",
        "        }\n",
        "    },\n",
        ")"
      ],
      "metadata": {
        "id": "temSJHneUJuU"
      },
      "execution_count": 43,
      "outputs": []
    },
    {
      "cell_type": "code",
      "source": [
        "result = backend.get_result(handle)"
      ],
      "metadata": {
        "id": "6a4Z-rrYUMVp"
      },
      "execution_count": 44,
      "outputs": []
    },
    {
      "cell_type": "code",
      "source": [
        "print(result.get_distribution())"
      ],
      "metadata": {
        "colab": {
          "base_uri": "https://localhost:8080/"
        },
        "id": "S5MTNaIpUOoN",
        "outputId": "53c88f40-3d7f-48c9-b8a4-f16733b47942"
      },
      "execution_count": 45,
      "outputs": [
        {
          "output_type": "stream",
          "name": "stdout",
          "text": [
            "{(0, 0): 0.49, (1, 1): 0.51}\n"
          ]
        }
      ]
    },
    {
      "cell_type": "markdown",
      "source": [
        "## **Stabilizer Emulator**\n",
        "\n",
        "By default, emulations are run using a state-vector emulator, which simulates any quantum operation. However, if the quantum operations are all Clifford gates, it can be faster for complex circuits to use the stabilizer emulator. The stabilizer emulator is requested in the setup of the QuantinuumBackend with the simulator input option. This only applies to Quantinuum emulators."
      ],
      "metadata": {
        "id": "XzbyCrNnUgJ4"
      }
    },
    {
      "cell_type": "code",
      "source": [
        "machine = \"H1-1E\""
      ],
      "metadata": {
        "id": "2NrLbhhrUi-L"
      },
      "execution_count": 47,
      "outputs": []
    },
    {
      "cell_type": "code",
      "source": [
        "stabilizer_backend = QuantinuumBackend(device_name=machine, simulator=\"stabilizer\")"
      ],
      "metadata": {
        "id": "Rv9TPoO6U28C"
      },
      "execution_count": 48,
      "outputs": []
    },
    {
      "cell_type": "code",
      "source": [
        "print(machine, \"status:\", stabilizer_backend.device_state(device_name=machine))\n",
        "print(\"Simulation type:\", stabilizer_backend.simulator_type)"
      ],
      "metadata": {
        "colab": {
          "base_uri": "https://localhost:8080/"
        },
        "id": "j8Bi2qj_U3OI",
        "outputId": "5e899d66-9fce-4344-bcc0-54deeac10b4b"
      },
      "execution_count": 49,
      "outputs": [
        {
          "output_type": "stream",
          "name": "stdout",
          "text": [
            "H1-1E status: online\n",
            "Simulation type: stabilizer\n"
          ]
        }
      ]
    },
    {
      "cell_type": "code",
      "source": [
        "n_shots = 100\n",
        "stabilizer_handle = stabilizer_backend.process_circuit(\n",
        "    compiled_circuit, n_shots=n_shots\n",
        ")\n",
        "print(stabilizer_handle)"
      ],
      "metadata": {
        "colab": {
          "base_uri": "https://localhost:8080/"
        },
        "id": "OPJa8HkKU3cp",
        "outputId": "0681aa3a-4d50-4eab-cc6e-308888558833"
      },
      "execution_count": 50,
      "outputs": [
        {
          "output_type": "stream",
          "name": "stdout",
          "text": [
            "('99b6225b91e54cba8494c05284da04f9', 'null')\n"
          ]
        }
      ]
    },
    {
      "cell_type": "code",
      "source": [
        "stabilizer_status = stabilizer_backend.circuit_status(stabilizer_handle)\n",
        "print(stabilizer_status)"
      ],
      "metadata": {
        "colab": {
          "base_uri": "https://localhost:8080/"
        },
        "id": "-eX-tsWEU3sJ",
        "outputId": "0ca1b098-a188-4d57-c037-bfa26e4e5324"
      },
      "execution_count": 51,
      "outputs": [
        {
          "output_type": "stream",
          "name": "stdout",
          "text": [
            "CircuitStatus(status=<StatusEnum.QUEUED: 'Circuit is queued.'>, message='{\"name\": \"Bell Test\", \"submit-date\": \"2022-12-22T05:35:51.053493\", \"result-date\": null, \"queue-position\": null, \"cost\": \"5.66\", \"error\": null}', error_detail=None, completed_time=None, queued_time=None, submitted_time=None, running_time=None, cancelled_time=None, error_time=None, queue_position=None)\n"
          ]
        }
      ]
    },
    {
      "cell_type": "code",
      "source": [
        "stabilizer_result = stabilizer_backend.get_result(stabilizer_handle)"
      ],
      "metadata": {
        "id": "pmGaQmkhU36o"
      },
      "execution_count": 52,
      "outputs": []
    },
    {
      "cell_type": "code",
      "source": [
        "stabilizer_result"
      ],
      "metadata": {
        "colab": {
          "base_uri": "https://localhost:8080/"
        },
        "id": "iUJI6lYYU4HY",
        "outputId": "d19e95aa-6edb-4cdf-cc65-fdfd3422a66f"
      },
      "execution_count": 53,
      "outputs": [
        {
          "output_type": "execute_result",
          "data": {
            "text/plain": [
              "BackendResult(q_bits={},c_bits={c[1]: 0, c[0]: 1},counts=None,shots=[[  0]\n",
              " [192]\n",
              " [  0]\n",
              " [  0]\n",
              " [192]\n",
              " [  0]\n",
              " [  0]\n",
              " [192]\n",
              " [  0]\n",
              " [192]\n",
              " [  0]\n",
              " [192]\n",
              " [  0]\n",
              " [  0]\n",
              " [192]\n",
              " [  0]\n",
              " [  0]\n",
              " [192]\n",
              " [  0]\n",
              " [192]\n",
              " [192]\n",
              " [  0]\n",
              " [192]\n",
              " [  0]\n",
              " [  0]\n",
              " [  0]\n",
              " [192]\n",
              " [192]\n",
              " [192]\n",
              " [  0]\n",
              " [192]\n",
              " [192]\n",
              " [  0]\n",
              " [  0]\n",
              " [  0]\n",
              " [  0]\n",
              " [  0]\n",
              " [192]\n",
              " [  0]\n",
              " [  0]\n",
              " [128]\n",
              " [  0]\n",
              " [192]\n",
              " [192]\n",
              " [  0]\n",
              " [  0]\n",
              " [192]\n",
              " [192]\n",
              " [  0]\n",
              " [192]\n",
              " [  0]\n",
              " [  0]\n",
              " [192]\n",
              " [  0]\n",
              " [  0]\n",
              " [  0]\n",
              " [  0]\n",
              " [192]\n",
              " [192]\n",
              " [  0]\n",
              " [  0]\n",
              " [  0]\n",
              " [  0]\n",
              " [  0]\n",
              " [192]\n",
              " [192]\n",
              " [192]\n",
              " [  0]\n",
              " [192]\n",
              " [192]\n",
              " [192]\n",
              " [192]\n",
              " [  0]\n",
              " [192]\n",
              " [  0]\n",
              " [192]\n",
              " [192]\n",
              " [  0]\n",
              " [  0]\n",
              " [  0]\n",
              " [  0]\n",
              " [192]\n",
              " [192]\n",
              " [  0]\n",
              " [  0]\n",
              " [  0]\n",
              " [  0]\n",
              " [  0]\n",
              " [  0]\n",
              " [192]\n",
              " [  0]\n",
              " [  0]\n",
              " [  0]\n",
              " [  0]\n",
              " [  0]\n",
              " [  0]\n",
              " [  0]\n",
              " [  0]\n",
              " [192]\n",
              " [192]],state=None,unitary=None,density_matrix=None)"
            ]
          },
          "metadata": {},
          "execution_count": 53
        }
      ]
    },
    {
      "cell_type": "code",
      "source": [
        "with open(\"pytket_emulator_stabilizer_example.json\", \"w\") as file:\n",
        "    json.dump(result.to_dict(), file)"
      ],
      "metadata": {
        "id": "TbaFylwJU4VI"
      },
      "execution_count": 54,
      "outputs": []
    },
    {
      "cell_type": "code",
      "source": [
        "stabilizer_result = stabilizer_backend.get_result(stabilizer_handle)\n",
        "print(stabilizer_result.get_distribution())"
      ],
      "metadata": {
        "colab": {
          "base_uri": "https://localhost:8080/"
        },
        "id": "wG-SKh1gU4gJ",
        "outputId": "efe31c86-22bb-4721-c584-9d4af48b8b5d"
      },
      "execution_count": 55,
      "outputs": [
        {
          "output_type": "stream",
          "name": "stdout",
          "text": [
            "{(0, 0): 0.6, (0, 1): 0.01, (1, 1): 0.39}\n"
          ]
        }
      ]
    },
    {
      "cell_type": "code",
      "source": [
        "print(stabilizer_result.get_counts())"
      ],
      "metadata": {
        "colab": {
          "base_uri": "https://localhost:8080/"
        },
        "id": "btGhDdzPVDi8",
        "outputId": "2664e3f9-f457-445d-d21b-43c096b68a62"
      },
      "execution_count": 56,
      "outputs": [
        {
          "output_type": "stream",
          "name": "stdout",
          "text": [
            "Counter({(0, 0): 60, (1, 1): 39, (0, 1): 1})\n"
          ]
        }
      ]
    },
    {
      "cell_type": "markdown",
      "source": [
        "## **Noiseless Stabilizer**"
      ],
      "metadata": {
        "id": "VWIEBX4dVSP0"
      }
    },
    {
      "cell_type": "code",
      "source": [
        "handle = backend.process_circuit(\n",
        "    compiled_circuit,\n",
        "    n_shots=100,\n",
        "    request_options={\n",
        "        \"options\": {\n",
        "            \"simulator\": \"stabilizer\",\n",
        "            \"error-model\": False,\n",
        "        }\n",
        "    },\n",
        ")"
      ],
      "metadata": {
        "id": "4qJYuVVRVYcl"
      },
      "execution_count": 57,
      "outputs": []
    },
    {
      "cell_type": "code",
      "source": [
        "result = backend.get_result(handle)"
      ],
      "metadata": {
        "id": "1Ud8XpENVbq3"
      },
      "execution_count": 58,
      "outputs": []
    },
    {
      "cell_type": "code",
      "source": [
        "print(result.get_distribution())"
      ],
      "metadata": {
        "colab": {
          "base_uri": "https://localhost:8080/"
        },
        "id": "3OPOFOiqVgMs",
        "outputId": "7388b26e-4908-4e9f-92e0-14120d65e173"
      },
      "execution_count": 59,
      "outputs": [
        {
          "output_type": "stream",
          "name": "stdout",
          "text": [
            "{(0, 0): 0.56, (1, 1): 0.44}\n"
          ]
        }
      ]
    }
  ]
}