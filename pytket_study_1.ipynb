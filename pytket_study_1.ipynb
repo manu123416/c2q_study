{
  "cells": [
    {
      "cell_type": "markdown",
      "metadata": {
        "id": "view-in-github",
        "colab_type": "text"
      },
      "source": [
        "<a href=\"https://colab.research.google.com/github/manu123416/c2q_study/blob/master/pytket_study_1.ipynb\" target=\"_parent\"><img src=\"https://colab.research.google.com/assets/colab-badge.svg\" alt=\"Open In Colab\"/></a>"
      ]
    },
    {
      "cell_type": "code",
      "source": [
        "!sudo apt-get update -y\n",
        "!sudo apt-get install python3.8\n",
        "!sudo update-alternatives --install /usr/bin/python3 python3 /usr/bin/python3.8\n",
        "\n",
        "!update-alternatives --install /usr/bin/python python /usr/bin/python3.8\n",
        "!update-alternatives --list python\n",
        "!sudo update-alternatives --config python\n",
        "!sudo update-alternatives --set python /usr/bin/python3.8\n",
        "!python3 --version"
      ],
      "metadata": {
        "colab": {
          "base_uri": "https://localhost:8080/"
        },
        "id": "JpPJpTCRrPdK",
        "outputId": "26e212e6-a554-482f-a5c8-4bedcbf27dc5"
      },
      "execution_count": null,
      "outputs": [
        {
          "output_type": "stream",
          "name": "stdout",
          "text": [
            "\r0% [Working]\r            \rHit:1 https://cloud.r-project.org/bin/linux/ubuntu bionic-cran40/ InRelease\n",
            "\r0% [Connecting to archive.ubuntu.com] [Connecting to security.ubuntu.com (185.1\r0% [1 InRelease gpgv 3,626 B] [Connecting to archive.ubuntu.com] [Connecting to\r                                                                               \rIgn:2 https://developer.download.nvidia.com/compute/machine-learning/repos/ubuntu1804/x86_64  InRelease\n",
            "\r0% [1 InRelease gpgv 3,626 B] [Waiting for headers] [Waiting for headers] [Wait\r                                                                               \rHit:3 https://developer.download.nvidia.com/compute/cuda/repos/ubuntu1804/x86_64  InRelease\n",
            "\r0% [1 InRelease gpgv 3,626 B] [Waiting for headers] [Waiting for headers] [Wait\r0% [Waiting for headers] [Waiting for headers] [Waiting for headers] [Waiting f\r0% [3 InRelease gpgv 1,581 B] [Waiting for headers] [Waiting for headers] [Wait\r                                                                               \rHit:4 https://developer.download.nvidia.com/compute/machine-learning/repos/ubuntu1804/x86_64  Release\n",
            "\r0% [3 InRelease gpgv 1,581 B] [Waiting for headers] [Waiting for headers] [Wait\r                                                                               \rHit:5 http://archive.ubuntu.com/ubuntu bionic InRelease\n",
            "\r                                                                               \r0% [3 InRelease gpgv 1,581 B] [Waiting for headers] [Waiting for headers]\r                                                                         \rHit:6 http://security.ubuntu.com/ubuntu bionic-security InRelease\n",
            "\r                                                                         \rHit:7 http://ppa.launchpad.net/c2d4u.team/c2d4u4.0+/ubuntu bionic InRelease\n",
            "\r0% [3 InRelease gpgv 1,581 B] [Waiting for headers] [Connecting to ppa.launchpa\r                                                                               \rHit:8 http://archive.ubuntu.com/ubuntu bionic-updates InRelease\n",
            "Hit:9 http://archive.ubuntu.com/ubuntu bionic-backports InRelease\n",
            "Hit:11 http://ppa.launchpad.net/cran/libgit2/ubuntu bionic InRelease\n",
            "Hit:12 http://ppa.launchpad.net/deadsnakes/ppa/ubuntu bionic InRelease\n",
            "Hit:13 http://ppa.launchpad.net/graphics-drivers/ppa/ubuntu bionic InRelease\n",
            "Reading package lists... Done\n",
            "Reading package lists... Done\n",
            "Building dependency tree       \n",
            "Reading state information... Done\n",
            "python3.8 is already the newest version (3.8.16-1+bionic1).\n",
            "The following package was automatically installed and is no longer required:\n",
            "  libnvidia-common-460\n",
            "Use 'sudo apt autoremove' to remove it.\n",
            "0 upgraded, 0 newly installed, 0 to remove and 20 not upgraded.\n",
            "update-alternatives: --install needs <link> <name> <path> <priority>\n",
            "\n",
            "Use 'update-alternatives --help' for program usage information.\n",
            "update-alternatives: --install needs <link> <name> <path> <priority>\n",
            "\n",
            "Use 'update-alternatives --help' for program usage information.\n",
            "update-alternatives: error: no alternatives for python\n",
            "update-alternatives: error: no alternatives for python\n",
            "update-alternatives: error: no alternatives for python\n",
            "Python 3.8.16\n"
          ]
        }
      ]
    },
    {
      "cell_type": "code",
      "execution_count": null,
      "metadata": {
        "colab": {
          "base_uri": "https://localhost:8080/"
        },
        "id": "T8xO_dnfMyee",
        "outputId": "cdac9bd3-f52a-4e99-cea6-6da345a537b3"
      },
      "outputs": [
        {
          "output_type": "stream",
          "name": "stdout",
          "text": [
            "Looking in indexes: https://pypi.org/simple, https://us-python.pkg.dev/colab-wheels/public/simple/\n",
            "Collecting pytket\n",
            "  Downloading pytket-1.10.0-cp38-cp38-manylinux_2_17_x86_64.manylinux2014_x86_64.whl (13.4 MB)\n",
            "\u001b[K     |████████████████████████████████| 13.4 MB 5.1 MB/s \n",
            "\u001b[?25hCollecting jinja2~=3.0\n",
            "  Downloading Jinja2-3.1.2-py3-none-any.whl (133 kB)\n",
            "\u001b[K     |████████████████████████████████| 133 kB 56.0 MB/s \n",
            "\u001b[?25hCollecting qwasm~=1.0\n",
            "  Downloading qwasm-1.0.1-py3-none-any.whl (15 kB)\n",
            "Requirement already satisfied: networkx~=2.4 in /usr/local/lib/python3.8/dist-packages (from pytket) (2.8.8)\n",
            "Requirement already satisfied: sympy~=1.6 in /usr/local/lib/python3.8/dist-packages (from pytket) (1.7.1)\n",
            "Requirement already satisfied: numpy<2.0,>=1.21.4 in /usr/local/lib/python3.8/dist-packages (from pytket) (1.21.6)\n",
            "Collecting graphviz~=0.14\n",
            "  Downloading graphviz-0.20.1-py3-none-any.whl (47 kB)\n",
            "\u001b[K     |████████████████████████████████| 47 kB 4.2 MB/s \n",
            "\u001b[?25hRequirement already satisfied: typing-extensions~=4.2 in /usr/local/lib/python3.8/dist-packages (from pytket) (4.4.0)\n",
            "Collecting types-pkg-resources\n",
            "  Downloading types_pkg_resources-0.1.3-py2.py3-none-any.whl (4.8 kB)\n",
            "Requirement already satisfied: scipy<2.0,>=1.7.2 in /usr/local/lib/python3.8/dist-packages (from pytket) (1.7.3)\n",
            "Collecting lark-parser~=0.7\n",
            "  Downloading lark_parser-0.12.0-py2.py3-none-any.whl (103 kB)\n",
            "\u001b[K     |████████████████████████████████| 103 kB 71.8 MB/s \n",
            "\u001b[?25hRequirement already satisfied: MarkupSafe>=2.0 in /usr/local/lib/python3.8/dist-packages (from jinja2~=3.0->pytket) (2.0.1)\n",
            "Requirement already satisfied: setuptools in /usr/local/lib/python3.8/dist-packages (from qwasm~=1.0->pytket) (57.4.0)\n",
            "Requirement already satisfied: mpmath>=0.19 in /usr/local/lib/python3.8/dist-packages (from sympy~=1.6->pytket) (1.2.1)\n",
            "Installing collected packages: types-pkg-resources, qwasm, lark-parser, jinja2, graphviz, pytket\n",
            "  Attempting uninstall: jinja2\n",
            "    Found existing installation: Jinja2 2.11.3\n",
            "    Uninstalling Jinja2-2.11.3:\n",
            "      Successfully uninstalled Jinja2-2.11.3\n",
            "  Attempting uninstall: graphviz\n",
            "    Found existing installation: graphviz 0.10.1\n",
            "    Uninstalling graphviz-0.10.1:\n",
            "      Successfully uninstalled graphviz-0.10.1\n",
            "\u001b[31mERROR: pip's dependency resolver does not currently take into account all the packages that are installed. This behaviour is the source of the following dependency conflicts.\n",
            "notebook 5.7.16 requires jinja2<=3.0.0, but you have jinja2 3.1.2 which is incompatible.\n",
            "flask 1.1.4 requires Jinja2<3.0,>=2.10.1, but you have jinja2 3.1.2 which is incompatible.\u001b[0m\n",
            "Successfully installed graphviz-0.20.1 jinja2-3.1.2 lark-parser-0.12.0 pytket-1.10.0 qwasm-1.0.1 types-pkg-resources-0.1.3\n"
          ]
        }
      ],
      "source": [
        "## https://cqcl.github.io/pytket/manual/manual_circuit.html\n",
        "! pip install pytket"
      ]
    },
    {
      "cell_type": "code",
      "execution_count": null,
      "metadata": {
        "colab": {
          "base_uri": "https://localhost:8080/"
        },
        "id": "3t6M8l9CR8Iy",
        "outputId": "9ed785cb-ec0d-4ef6-d7a2-69eb99865903"
      },
      "outputs": [
        {
          "output_type": "stream",
          "name": "stdout",
          "text": [
            "Looking in indexes: https://pypi.org/simple, https://us-python.pkg.dev/colab-wheels/public/simple/\n",
            "Collecting qiskit\n",
            "  Downloading qiskit-0.39.4.tar.gz (13 kB)\n",
            "Collecting qiskit-terra==0.22.3\n",
            "  Downloading qiskit_terra-0.22.3-cp38-cp38-manylinux_2_17_x86_64.manylinux2014_x86_64.whl (4.8 MB)\n",
            "\u001b[K     |████████████████████████████████| 4.8 MB 4.9 MB/s \n",
            "\u001b[?25hCollecting qiskit-aer==0.11.2\n",
            "  Downloading qiskit_aer-0.11.2-cp38-cp38-manylinux_2_17_x86_64.manylinux2014_x86_64.whl (12.8 MB)\n",
            "\u001b[K     |████████████████████████████████| 12.8 MB 44.9 MB/s \n",
            "\u001b[?25hCollecting qiskit-ibmq-provider==0.19.2\n",
            "  Downloading qiskit_ibmq_provider-0.19.2-py3-none-any.whl (240 kB)\n",
            "\u001b[K     |████████████████████████████████| 240 kB 33.6 MB/s \n",
            "\u001b[?25hRequirement already satisfied: numpy>=1.16.3 in /usr/local/lib/python3.8/dist-packages (from qiskit-aer==0.11.2->qiskit) (1.21.6)\n",
            "Requirement already satisfied: scipy>=1.0 in /usr/local/lib/python3.8/dist-packages (from qiskit-aer==0.11.2->qiskit) (1.7.3)\n",
            "Collecting websockets>=10.0\n",
            "  Downloading websockets-10.4-cp38-cp38-manylinux_2_5_x86_64.manylinux1_x86_64.manylinux_2_17_x86_64.manylinux2014_x86_64.whl (106 kB)\n",
            "\u001b[K     |████████████████████████████████| 106 kB 48.3 MB/s \n",
            "\u001b[?25hRequirement already satisfied: requests>=2.19 in /usr/local/lib/python3.8/dist-packages (from qiskit-ibmq-provider==0.19.2->qiskit) (2.23.0)\n",
            "Collecting requests-ntlm>=1.1.0\n",
            "  Downloading requests_ntlm-1.1.0-py2.py3-none-any.whl (5.7 kB)\n",
            "Requirement already satisfied: python-dateutil>=2.8.0 in /usr/local/lib/python3.8/dist-packages (from qiskit-ibmq-provider==0.19.2->qiskit) (2.8.2)\n",
            "Requirement already satisfied: urllib3>=1.21.1 in /usr/local/lib/python3.8/dist-packages (from qiskit-ibmq-provider==0.19.2->qiskit) (1.24.3)\n",
            "Collecting websocket-client>=1.0.1\n",
            "  Downloading websocket_client-1.4.2-py3-none-any.whl (55 kB)\n",
            "\u001b[K     |████████████████████████████████| 55 kB 2.2 MB/s \n",
            "\u001b[?25hRequirement already satisfied: dill>=0.3 in /usr/local/lib/python3.8/dist-packages (from qiskit-terra==0.22.3->qiskit) (0.3.6)\n",
            "Collecting stevedore>=3.0.0\n",
            "  Downloading stevedore-4.1.1-py3-none-any.whl (50 kB)\n",
            "\u001b[K     |████████████████████████████████| 50 kB 6.3 MB/s \n",
            "\u001b[?25hCollecting retworkx>=0.11.0\n",
            "  Downloading retworkx-0.12.1-py3-none-any.whl (10 kB)\n",
            "Collecting ply>=3.10\n",
            "  Downloading ply-3.11-py2.py3-none-any.whl (49 kB)\n",
            "\u001b[K     |████████████████████████████████| 49 kB 6.1 MB/s \n",
            "\u001b[?25hCollecting tweedledum<2.0,>=1.1\n",
            "  Downloading tweedledum-1.1.1-cp38-cp38-manylinux_2_12_x86_64.manylinux2010_x86_64.whl (929 kB)\n",
            "\u001b[K     |████████████████████████████████| 929 kB 52.9 MB/s \n",
            "\u001b[?25hCollecting symengine>=0.9\n",
            "  Downloading symengine-0.9.2-cp38-cp38-manylinux2010_x86_64.whl (37.5 MB)\n",
            "\u001b[K     |████████████████████████████████| 37.5 MB 10.4 MB/s \n",
            "\u001b[?25hRequirement already satisfied: psutil>=5 in /usr/local/lib/python3.8/dist-packages (from qiskit-terra==0.22.3->qiskit) (5.4.8)\n",
            "Requirement already satisfied: sympy>=1.3 in /usr/local/lib/python3.8/dist-packages (from qiskit-terra==0.22.3->qiskit) (1.7.1)\n",
            "Requirement already satisfied: six>=1.5 in /usr/local/lib/python3.8/dist-packages (from python-dateutil>=2.8.0->qiskit-ibmq-provider==0.19.2->qiskit) (1.15.0)\n",
            "Requirement already satisfied: idna<3,>=2.5 in /usr/local/lib/python3.8/dist-packages (from requests>=2.19->qiskit-ibmq-provider==0.19.2->qiskit) (2.10)\n",
            "Requirement already satisfied: certifi>=2017.4.17 in /usr/local/lib/python3.8/dist-packages (from requests>=2.19->qiskit-ibmq-provider==0.19.2->qiskit) (2022.12.7)\n",
            "Requirement already satisfied: chardet<4,>=3.0.2 in /usr/local/lib/python3.8/dist-packages (from requests>=2.19->qiskit-ibmq-provider==0.19.2->qiskit) (3.0.4)\n",
            "Collecting cryptography>=1.3\n",
            "  Downloading cryptography-38.0.4-cp36-abi3-manylinux_2_24_x86_64.whl (4.0 MB)\n",
            "\u001b[K     |████████████████████████████████| 4.0 MB 53.0 MB/s \n",
            "\u001b[?25hCollecting ntlm-auth>=1.0.2\n",
            "  Downloading ntlm_auth-1.5.0-py2.py3-none-any.whl (29 kB)\n",
            "Requirement already satisfied: cffi>=1.12 in /usr/local/lib/python3.8/dist-packages (from cryptography>=1.3->requests-ntlm>=1.1.0->qiskit-ibmq-provider==0.19.2->qiskit) (1.15.1)\n",
            "Requirement already satisfied: pycparser in /usr/local/lib/python3.8/dist-packages (from cffi>=1.12->cryptography>=1.3->requests-ntlm>=1.1.0->qiskit-ibmq-provider==0.19.2->qiskit) (2.21)\n",
            "Collecting rustworkx==0.12.1\n",
            "  Downloading rustworkx-0.12.1-cp38-cp38-manylinux_2_17_x86_64.manylinux2014_x86_64.whl (1.9 MB)\n",
            "\u001b[K     |████████████████████████████████| 1.9 MB 52.6 MB/s \n",
            "\u001b[?25hCollecting pbr!=2.1.0,>=2.0.0\n",
            "  Downloading pbr-5.11.0-py2.py3-none-any.whl (112 kB)\n",
            "\u001b[K     |████████████████████████████████| 112 kB 24.9 MB/s \n",
            "\u001b[?25hRequirement already satisfied: mpmath>=0.19 in /usr/local/lib/python3.8/dist-packages (from sympy>=1.3->qiskit-terra==0.22.3->qiskit) (1.2.1)\n",
            "Building wheels for collected packages: qiskit\n",
            "  Building wheel for qiskit (setup.py) ... \u001b[?25l\u001b[?25hdone\n",
            "  Created wheel for qiskit: filename=qiskit-0.39.4-py3-none-any.whl size=12274 sha256=712f62578a68f6432cf09f0614d60d6b9222ae966704b70d67b9e1ace46db800\n",
            "  Stored in directory: /root/.cache/pip/wheels/40/2c/d7/aa04e366b971ddf815dba1250b024c248e7851ee208dd0e990\n",
            "Successfully built qiskit\n",
            "Installing collected packages: rustworkx, pbr, tweedledum, symengine, stevedore, retworkx, ply, ntlm-auth, cryptography, websockets, websocket-client, requests-ntlm, qiskit-terra, qiskit-ibmq-provider, qiskit-aer, qiskit\n",
            "Successfully installed cryptography-38.0.4 ntlm-auth-1.5.0 pbr-5.11.0 ply-3.11 qiskit-0.39.4 qiskit-aer-0.11.2 qiskit-ibmq-provider-0.19.2 qiskit-terra-0.22.3 requests-ntlm-1.1.0 retworkx-0.12.1 rustworkx-0.12.1 stevedore-4.1.1 symengine-0.9.2 tweedledum-1.1.1 websocket-client-1.4.2 websockets-10.4\n",
            "Looking in indexes: https://pypi.org/simple, https://us-python.pkg.dev/colab-wheels/public/simple/\n",
            "Collecting pylatexenc\n",
            "  Downloading pylatexenc-2.10.tar.gz (162 kB)\n",
            "\u001b[K     |████████████████████████████████| 162 kB 5.5 MB/s \n",
            "\u001b[?25hBuilding wheels for collected packages: pylatexenc\n",
            "  Building wheel for pylatexenc (setup.py) ... \u001b[?25l\u001b[?25hdone\n",
            "  Created wheel for pylatexenc: filename=pylatexenc-2.10-py3-none-any.whl size=136833 sha256=b0f849697c663bf418d4336faeea94f1f2d02dc4578fdf3dca78ee15348301f5\n",
            "  Stored in directory: /root/.cache/pip/wheels/72/99/be/81d9bcdf5dd5ee5acd8119a9dd5bc07204c9ce205fd341b021\n",
            "Successfully built pylatexenc\n",
            "Installing collected packages: pylatexenc\n",
            "Successfully installed pylatexenc-2.10\n"
          ]
        }
      ],
      "source": [
        "! pip install qiskit\n",
        "! pip install pylatexenc"
      ]
    },
    {
      "cell_type": "code",
      "execution_count": null,
      "metadata": {
        "colab": {
          "base_uri": "https://localhost:8080/"
        },
        "id": "RolSyowPSgnk",
        "outputId": "d7e86c00-def2-4a3b-8d0b-2d6e428204a5"
      },
      "outputs": [
        {
          "output_type": "stream",
          "name": "stdout",
          "text": [
            "Looking in indexes: https://pypi.org/simple, https://us-python.pkg.dev/colab-wheels/public/simple/\n",
            "Collecting pytket-qiskit\n",
            "  Downloading pytket_qiskit-0.33.0-py3-none-any.whl (43 kB)\n",
            "\u001b[K     |████████████████████████████████| 43 kB 75 kB/s \n",
            "\u001b[?25hRequirement already satisfied: pytket~=1.10 in /usr/local/lib/python3.8/dist-packages (from pytket-qiskit) (1.10.0)\n",
            "Requirement already satisfied: qiskit~=0.39.0 in /usr/local/lib/python3.8/dist-packages (from pytket-qiskit) (0.39.4)\n",
            "Collecting qiskit-ibm-runtime~=0.8.0\n",
            "  Downloading qiskit_ibm_runtime-0.8.0-py3-none-any.whl (190 kB)\n",
            "\u001b[K     |████████████████████████████████| 190 kB 9.0 MB/s \n",
            "\u001b[?25hRequirement already satisfied: numpy<2.0,>=1.21.4 in /usr/local/lib/python3.8/dist-packages (from pytket~=1.10->pytket-qiskit) (1.21.6)\n",
            "Requirement already satisfied: networkx~=2.4 in /usr/local/lib/python3.8/dist-packages (from pytket~=1.10->pytket-qiskit) (2.8.8)\n",
            "Requirement already satisfied: qwasm~=1.0 in /usr/local/lib/python3.8/dist-packages (from pytket~=1.10->pytket-qiskit) (1.0.1)\n",
            "Requirement already satisfied: sympy~=1.6 in /usr/local/lib/python3.8/dist-packages (from pytket~=1.10->pytket-qiskit) (1.7.1)\n",
            "Requirement already satisfied: graphviz~=0.14 in /usr/local/lib/python3.8/dist-packages (from pytket~=1.10->pytket-qiskit) (0.20.1)\n",
            "Requirement already satisfied: jinja2~=3.0 in /usr/local/lib/python3.8/dist-packages (from pytket~=1.10->pytket-qiskit) (3.1.2)\n",
            "Requirement already satisfied: scipy<2.0,>=1.7.2 in /usr/local/lib/python3.8/dist-packages (from pytket~=1.10->pytket-qiskit) (1.7.3)\n",
            "Requirement already satisfied: typing-extensions~=4.2 in /usr/local/lib/python3.8/dist-packages (from pytket~=1.10->pytket-qiskit) (4.4.0)\n",
            "Requirement already satisfied: types-pkg-resources in /usr/local/lib/python3.8/dist-packages (from pytket~=1.10->pytket-qiskit) (0.1.3)\n",
            "Requirement already satisfied: lark-parser~=0.7 in /usr/local/lib/python3.8/dist-packages (from pytket~=1.10->pytket-qiskit) (0.12.0)\n",
            "Requirement already satisfied: MarkupSafe>=2.0 in /usr/local/lib/python3.8/dist-packages (from jinja2~=3.0->pytket~=1.10->pytket-qiskit) (2.0.1)\n",
            "Requirement already satisfied: qiskit-aer==0.11.2 in /usr/local/lib/python3.8/dist-packages (from qiskit~=0.39.0->pytket-qiskit) (0.11.2)\n",
            "Requirement already satisfied: qiskit-terra==0.22.3 in /usr/local/lib/python3.8/dist-packages (from qiskit~=0.39.0->pytket-qiskit) (0.22.3)\n",
            "Requirement already satisfied: qiskit-ibmq-provider==0.19.2 in /usr/local/lib/python3.8/dist-packages (from qiskit~=0.39.0->pytket-qiskit) (0.19.2)\n",
            "Requirement already satisfied: python-dateutil>=2.8.0 in /usr/local/lib/python3.8/dist-packages (from qiskit-ibmq-provider==0.19.2->qiskit~=0.39.0->pytket-qiskit) (2.8.2)\n",
            "Requirement already satisfied: requests-ntlm>=1.1.0 in /usr/local/lib/python3.8/dist-packages (from qiskit-ibmq-provider==0.19.2->qiskit~=0.39.0->pytket-qiskit) (1.1.0)\n",
            "Requirement already satisfied: requests>=2.19 in /usr/local/lib/python3.8/dist-packages (from qiskit-ibmq-provider==0.19.2->qiskit~=0.39.0->pytket-qiskit) (2.23.0)\n",
            "Requirement already satisfied: urllib3>=1.21.1 in /usr/local/lib/python3.8/dist-packages (from qiskit-ibmq-provider==0.19.2->qiskit~=0.39.0->pytket-qiskit) (1.24.3)\n",
            "Requirement already satisfied: websocket-client>=1.0.1 in /usr/local/lib/python3.8/dist-packages (from qiskit-ibmq-provider==0.19.2->qiskit~=0.39.0->pytket-qiskit) (1.4.2)\n",
            "Requirement already satisfied: websockets>=10.0 in /usr/local/lib/python3.8/dist-packages (from qiskit-ibmq-provider==0.19.2->qiskit~=0.39.0->pytket-qiskit) (10.4)\n",
            "Requirement already satisfied: dill>=0.3 in /usr/local/lib/python3.8/dist-packages (from qiskit-terra==0.22.3->qiskit~=0.39.0->pytket-qiskit) (0.3.6)\n",
            "Requirement already satisfied: retworkx>=0.11.0 in /usr/local/lib/python3.8/dist-packages (from qiskit-terra==0.22.3->qiskit~=0.39.0->pytket-qiskit) (0.12.1)\n",
            "Requirement already satisfied: symengine>=0.9 in /usr/local/lib/python3.8/dist-packages (from qiskit-terra==0.22.3->qiskit~=0.39.0->pytket-qiskit) (0.9.2)\n",
            "Requirement already satisfied: psutil>=5 in /usr/local/lib/python3.8/dist-packages (from qiskit-terra==0.22.3->qiskit~=0.39.0->pytket-qiskit) (5.4.8)\n",
            "Requirement already satisfied: ply>=3.10 in /usr/local/lib/python3.8/dist-packages (from qiskit-terra==0.22.3->qiskit~=0.39.0->pytket-qiskit) (3.11)\n",
            "Requirement already satisfied: stevedore>=3.0.0 in /usr/local/lib/python3.8/dist-packages (from qiskit-terra==0.22.3->qiskit~=0.39.0->pytket-qiskit) (4.1.1)\n",
            "Requirement already satisfied: tweedledum<2.0,>=1.1 in /usr/local/lib/python3.8/dist-packages (from qiskit-terra==0.22.3->qiskit~=0.39.0->pytket-qiskit) (1.1.1)\n",
            "Requirement already satisfied: six>=1.5 in /usr/local/lib/python3.8/dist-packages (from python-dateutil>=2.8.0->qiskit-ibmq-provider==0.19.2->qiskit~=0.39.0->pytket-qiskit) (1.15.0)\n",
            "Collecting websocket-client>=1.0.1\n",
            "  Downloading websocket_client-1.3.3-py3-none-any.whl (54 kB)\n",
            "\u001b[K     |████████████████████████████████| 54 kB 1.0 MB/s \n",
            "\u001b[?25hCollecting ibm-platform-services>=0.22.6\n",
            "  Downloading ibm-platform-services-0.30.2.tar.gz (237 kB)\n",
            "\u001b[K     |████████████████████████████████| 237 kB 43.6 MB/s \n",
            "\u001b[?25h  Installing build dependencies ... \u001b[?25l\u001b[?25hdone\n",
            "  Getting requirements to build wheel ... \u001b[?25l\u001b[?25hdone\n",
            "    Preparing wheel metadata ... \u001b[?25l\u001b[?25hdone\n",
            "Collecting urllib3>=1.21.1\n",
            "  Downloading urllib3-1.26.13-py2.py3-none-any.whl (140 kB)\n",
            "\u001b[K     |████████████████████████████████| 140 kB 54.2 MB/s \n",
            "\u001b[?25hCollecting ibm-cloud-sdk-core<4.0.0,>=3.16.0\n",
            "  Downloading ibm_cloud_sdk_core-3.16.0-py3-none-any.whl (83 kB)\n",
            "\u001b[K     |████████████████████████████████| 83 kB 2.4 MB/s \n",
            "\u001b[?25hCollecting requests>=2.19\n",
            "  Downloading requests-2.28.1-py3-none-any.whl (62 kB)\n",
            "\u001b[K     |████████████████████████████████| 62 kB 1.5 MB/s \n",
            "\u001b[?25hCollecting PyJWT<3.0.0,>=2.4.0\n",
            "  Downloading PyJWT-2.6.0-py3-none-any.whl (20 kB)\n",
            "Requirement already satisfied: setuptools in /usr/local/lib/python3.8/dist-packages (from qwasm~=1.0->pytket~=1.10->pytket-qiskit) (57.4.0)\n",
            "Requirement already satisfied: certifi>=2017.4.17 in /usr/local/lib/python3.8/dist-packages (from requests>=2.19->qiskit-ibmq-provider==0.19.2->qiskit~=0.39.0->pytket-qiskit) (2022.12.7)\n",
            "Requirement already satisfied: idna<4,>=2.5 in /usr/local/lib/python3.8/dist-packages (from requests>=2.19->qiskit-ibmq-provider==0.19.2->qiskit~=0.39.0->pytket-qiskit) (2.10)\n",
            "Requirement already satisfied: charset-normalizer<3,>=2 in /usr/local/lib/python3.8/dist-packages (from requests>=2.19->qiskit-ibmq-provider==0.19.2->qiskit~=0.39.0->pytket-qiskit) (2.1.1)\n",
            "Requirement already satisfied: cryptography>=1.3 in /usr/local/lib/python3.8/dist-packages (from requests-ntlm>=1.1.0->qiskit-ibmq-provider==0.19.2->qiskit~=0.39.0->pytket-qiskit) (38.0.4)\n",
            "Requirement already satisfied: ntlm-auth>=1.0.2 in /usr/local/lib/python3.8/dist-packages (from requests-ntlm>=1.1.0->qiskit-ibmq-provider==0.19.2->qiskit~=0.39.0->pytket-qiskit) (1.5.0)\n",
            "Requirement already satisfied: cffi>=1.12 in /usr/local/lib/python3.8/dist-packages (from cryptography>=1.3->requests-ntlm>=1.1.0->qiskit-ibmq-provider==0.19.2->qiskit~=0.39.0->pytket-qiskit) (1.15.1)\n",
            "Requirement already satisfied: pycparser in /usr/local/lib/python3.8/dist-packages (from cffi>=1.12->cryptography>=1.3->requests-ntlm>=1.1.0->qiskit-ibmq-provider==0.19.2->qiskit~=0.39.0->pytket-qiskit) (2.21)\n",
            "Requirement already satisfied: rustworkx==0.12.1 in /usr/local/lib/python3.8/dist-packages (from retworkx>=0.11.0->qiskit-terra==0.22.3->qiskit~=0.39.0->pytket-qiskit) (0.12.1)\n",
            "Requirement already satisfied: pbr!=2.1.0,>=2.0.0 in /usr/local/lib/python3.8/dist-packages (from stevedore>=3.0.0->qiskit-terra==0.22.3->qiskit~=0.39.0->pytket-qiskit) (5.11.0)\n",
            "Requirement already satisfied: mpmath>=0.19 in /usr/local/lib/python3.8/dist-packages (from sympy~=1.6->pytket~=1.10->pytket-qiskit) (1.2.1)\n",
            "Building wheels for collected packages: ibm-platform-services\n",
            "  Building wheel for ibm-platform-services (PEP 517) ... \u001b[?25l\u001b[?25hdone\n",
            "  Created wheel for ibm-platform-services: filename=ibm_platform_services-0.30.2-py3-none-any.whl size=251991 sha256=8d37a6a0aa594db5a0cc75db02a50dac7797a4c3559d627324bccfa76287603c\n",
            "  Stored in directory: /root/.cache/pip/wheels/d0/18/32/cf13b0245c4d953cc0074b616c86f80751a6050d826ba75e27\n",
            "Successfully built ibm-platform-services\n",
            "Installing collected packages: urllib3, requests, PyJWT, websocket-client, ibm-cloud-sdk-core, ibm-platform-services, qiskit-ibm-runtime, pytket-qiskit\n",
            "  Attempting uninstall: urllib3\n",
            "    Found existing installation: urllib3 1.24.3\n",
            "    Uninstalling urllib3-1.24.3:\n",
            "      Successfully uninstalled urllib3-1.24.3\n",
            "  Attempting uninstall: requests\n",
            "    Found existing installation: requests 2.23.0\n",
            "    Uninstalling requests-2.23.0:\n",
            "      Successfully uninstalled requests-2.23.0\n",
            "  Attempting uninstall: websocket-client\n",
            "    Found existing installation: websocket-client 1.4.2\n",
            "    Uninstalling websocket-client-1.4.2:\n",
            "      Successfully uninstalled websocket-client-1.4.2\n",
            "Successfully installed PyJWT-2.6.0 ibm-cloud-sdk-core-3.16.0 ibm-platform-services-0.30.2 pytket-qiskit-0.33.0 qiskit-ibm-runtime-0.8.0 requests-2.28.1 urllib3-1.26.13 websocket-client-1.3.3\n"
          ]
        }
      ],
      "source": [
        "! pip install pytket-qiskit"
      ]
    },
    {
      "cell_type": "markdown",
      "metadata": {
        "id": "xcu6PnHZVbfr"
      },
      "source": [
        "## **Circuit Construction**"
      ]
    },
    {
      "cell_type": "code",
      "execution_count": null,
      "metadata": {
        "id": "G31BMjrJNKbB"
      },
      "outputs": [],
      "source": [
        "from pytket import Circuit\n",
        "trivial_circ = Circuit() # no qubits or bits\n",
        "quantum_circ = Circuit(4)       # 4 qubits and no bits\n",
        "mixed_circ   = Circuit(4, 2)    # 4 qubits and 2 bits\n",
        "named_circ   = Circuit(2, 2, \"my_circ\")"
      ]
    },
    {
      "cell_type": "markdown",
      "metadata": {
        "id": "oigBs6Q6VoEB"
      },
      "source": [
        "## Basic Gates"
      ]
    },
    {
      "cell_type": "code",
      "execution_count": null,
      "metadata": {
        "colab": {
          "base_uri": "https://localhost:8080/"
        },
        "id": "tFsPz9ilSNEC",
        "outputId": "d768b9d8-f232-4bc4-8350-842e1992e51e"
      },
      "outputs": [
        {
          "output_type": "execute_result",
          "data": {
            "text/plain": [
              "[X q[0];, CX q[1], q[3];, Z q[3];]"
            ]
          },
          "metadata": {},
          "execution_count": 7
        }
      ],
      "source": [
        "from pytket import Circuit\n",
        "\n",
        "circ = Circuit(4)   # qubits are numbered 0-3\n",
        "circ.X(0)           # first apply an X gate to qubit 0\n",
        "circ.CX(1, 3)       # and apply a CX gate with control qubit 1 and target qubit 3\n",
        "circ.Z(3)           # then apply a Z gate to qubit 3\n",
        "circ.get_commands() # show the commands of the built circuit"
      ]
    },
    {
      "cell_type": "code",
      "execution_count": null,
      "metadata": {
        "colab": {
          "base_uri": "https://localhost:8080/"
        },
        "id": "kUnL0Qd3V-6-",
        "outputId": "b4e63682-9922-4f11-942b-fcc6fb6c8d9b"
      },
      "outputs": [
        {
          "output_type": "execute_result",
          "data": {
            "text/plain": [
              "[Rx(0.5) q[0]; CRz(0.3) q[1], q[0]; ]"
            ]
          },
          "metadata": {},
          "execution_count": 8
        }
      ],
      "source": [
        "from pytket import Circuit\n",
        "circ = Circuit(2)\n",
        "circ.Rx(0.5, 0)     # Rx of angle pi/2 radians on qubit 0\n",
        "circ.CRz(0.3, 1, 0) # Controlled-Rz of angle 0.3pi radians with\n",
        "                    #   control qubit 1 and target qubit 0"
      ]
    },
    {
      "cell_type": "code",
      "execution_count": null,
      "metadata": {
        "colab": {
          "base_uri": "https://localhost:8080/"
        },
        "id": "rYyomCMcWBV5",
        "outputId": "89d337a2-bf43-4a70-86f7-24792fbc3152"
      },
      "outputs": [
        {
          "output_type": "execute_result",
          "data": {
            "text/plain": [
              "[CnX q[0], q[1], q[4], q[3]; XXPhase(0.7) q[0], q[2]; PhasedX(3.9, 0.5) q[3]; ]"
            ]
          },
          "metadata": {},
          "execution_count": 9
        }
      ],
      "source": [
        "from pytket import Circuit, OpType\n",
        "circ = Circuit(5)\n",
        "circ.add_gate(OpType.CnX, [0, 1, 4, 3])\n",
        "    # add controlled-X with control qubits 0, 1, 4 and target qubit 3\n",
        "circ.add_gate(OpType.XXPhase, 0.7, [0, 2])\n",
        "    # add e^{-i (0.7 pi / 2) XX} on qubits 0 and 2\n",
        "circ.add_gate(OpType.PhasedX, [-0.1, 0.5], [3])\n",
        "    # adds Rz(-0.5 pi); Rx(-0.1 pi); Rz(0.5 pi) on qubit 3"
      ]
    },
    {
      "cell_type": "markdown",
      "metadata": {
        "id": "1AuAMppoWYhm"
      },
      "source": [
        "## Measurements"
      ]
    },
    {
      "cell_type": "code",
      "execution_count": null,
      "metadata": {
        "colab": {
          "base_uri": "https://localhost:8080/"
        },
        "id": "s4PXIvEnWeHn",
        "outputId": "3a809978-a6ea-4441-a7fa-968fc24fe6ea"
      },
      "outputs": [
        {
          "output_type": "execute_result",
          "data": {
            "text/plain": [
              "[Measure q[0] --> c[0]; CX q[1], q[2]; CX q[1], q[3]; H q[1]; Measure q[1] --> c[1]; ]"
            ]
          },
          "metadata": {},
          "execution_count": 10
        }
      ],
      "source": [
        "from pytket import Circuit\n",
        "circ = Circuit(4, 2)\n",
        "circ.Measure(0, 0)  # Z-basis measurement on qubit 0, saving result in bit 0\n",
        "circ.CX(1, 2)\n",
        "circ.CX(1, 3)\n",
        "circ.H(1)\n",
        "circ.Measure(1, 1)  # Measurement of IXXX, saving result in bit 1"
      ]
    },
    {
      "cell_type": "code",
      "execution_count": null,
      "metadata": {
        "colab": {
          "base_uri": "https://localhost:8080/"
        },
        "id": "zNiqGPlPWok3",
        "outputId": "f5f48580-8e1b-4b37-db98-5c7ce0461780"
      },
      "outputs": [
        {
          "output_type": "execute_result",
          "data": {
            "text/plain": [
              "[Measure q[0] --> c[0]; CX q[0], q[1]; Measure q[1] --> c[0]; ]"
            ]
          },
          "metadata": {},
          "execution_count": 11
        }
      ],
      "source": [
        "from pytket import Circuit\n",
        "circ = Circuit(2, 1)\n",
        "circ.Measure(0, 0)  # measure the first measurement\n",
        "circ.CX(0, 1)\n",
        "circ.Measure(1, 0)  # overwrites the first result with a new measurement"
      ]
    },
    {
      "cell_type": "code",
      "execution_count": null,
      "metadata": {
        "colab": {
          "base_uri": "https://localhost:8080/"
        },
        "id": "qVvVSv0HWzUN",
        "outputId": "fbcb1417-0f33-4a01-c472-b54b318ebd84"
      },
      "outputs": [
        {
          "output_type": "execute_result",
          "data": {
            "text/plain": [
              "[Measure q[0] --> c[0]; Measure q[1] --> c[0]; ]"
            ]
          },
          "metadata": {},
          "execution_count": 12
        }
      ],
      "source": [
        "from pytket import Circuit\n",
        "circ0 = Circuit(2, 2)    # all measurements at end\n",
        "circ0.H(1)\n",
        "circ0.Measure(0, 0)\n",
        "circ0.Measure(1, 1)\n",
        "\n",
        "circ1 = Circuit(2, 2)    # this is DAG-equivalent to circ1, so is still ok\n",
        "circ1.Measure(0, 0)\n",
        "circ1.H(1)\n",
        "circ1.Measure(1, 1)\n",
        "\n",
        "circ2 = Circuit(2, 2)\n",
        "    # reuses qubit 0 after measuring, so this may be rejected by a device\n",
        "circ2.Measure(0, 0)\n",
        "circ2.CX(0, 1)\n",
        "circ2.Measure(1, 1)\n",
        "\n",
        "circ3 = Circuit(2, 1)\n",
        "    # overwriting the classical value means we have to measure qubit 0\n",
        "    # before qubit 1; they won't occur simultaneously so this may be rejected\n",
        "circ3.Measure(0, 0)\n",
        "circ3.Measure(1, 0)"
      ]
    },
    {
      "cell_type": "code",
      "execution_count": null,
      "metadata": {
        "colab": {
          "base_uri": "https://localhost:8080/"
        },
        "id": "AO9vHCnoW4JN",
        "outputId": "2d9cca0c-e5ee-4ca8-aa9a-4a2d656bd297"
      },
      "outputs": [
        {
          "output_type": "execute_result",
          "data": {
            "text/plain": [
              "[Measure q[0] --> c[0]; H q[1]; Measure q[1] --> c[1]; ]"
            ]
          },
          "metadata": {},
          "execution_count": 13
        }
      ],
      "source": [
        "from pytket import Circuit\n",
        "# measure qubit 0 in Z basis and 1 in X basis\n",
        "circ = Circuit(2, 2)\n",
        "circ.H(1)\n",
        "circ.measure_all()\n",
        "\n",
        "# measure_all() adds bits if they are not already defined, so equivalently\n",
        "circ = Circuit(2)\n",
        "circ.H(1)\n",
        "circ.measure_all()"
      ]
    },
    {
      "cell_type": "code",
      "execution_count": null,
      "metadata": {
        "colab": {
          "base_uri": "https://localhost:8080/"
        },
        "id": "tdXkNqgpXBW2",
        "outputId": "96e74447-cdd9-4148-96ab-aefd5be84d8f"
      },
      "outputs": [
        {
          "output_type": "execute_result",
          "data": {
            "text/plain": [
              "[Measure q[0] --> c[0]; Reset q[0]; IF ([c[0]] == 1) THEN X q[0]; CX q[0], q[1]; ]"
            ]
          },
          "metadata": {},
          "execution_count": 14
        }
      ],
      "source": [
        "from pytket import Circuit, OpType\n",
        "circ = Circuit(2, 2)\n",
        "circ.Measure(0, 0)\n",
        "# Actively reset state to |0>\n",
        "circ.add_gate(OpType.Reset, [0])\n",
        "# Conditionally flip state to |1> to reflect measurement result\n",
        "circ.X(0, condition_bits=[0], condition_value=1)\n",
        "# Use the qubit as if the measurement was non-destructive\n",
        "circ.CX(0, 1)"
      ]
    },
    {
      "cell_type": "code",
      "execution_count": null,
      "metadata": {
        "colab": {
          "base_uri": "https://localhost:8080/"
        },
        "id": "rX54VpO3XEie",
        "outputId": "7927be29-2cc2-48ec-dbdc-e8479c4f68f0"
      },
      "outputs": [
        {
          "output_type": "execute_result",
          "data": {
            "text/plain": [
              "[H q[0]; CX q[1], q[2]; Barrier q[0], q[1], q[2], q[3], c[0], c[1]; Measure q[0] --> c[0]; Measure q[2] --> c[1]; ]"
            ]
          },
          "metadata": {},
          "execution_count": 15
        }
      ],
      "source": [
        "from pytket import Circuit\n",
        "circ = Circuit(4, 2)\n",
        "circ.H(0)\n",
        "circ.CX(1, 2)\n",
        "circ.add_barrier([0, 1, 2, 3], [0, 1]) # add a barrier on all qubits and bits\n",
        "circ.Measure(0, 0)\n",
        "circ.Measure(2, 1)"
      ]
    },
    {
      "cell_type": "code",
      "execution_count": null,
      "metadata": {
        "colab": {
          "base_uri": "https://localhost:8080/"
        },
        "id": "1YpNc42NXICY",
        "outputId": "d14a2d1c-a966-4d15-d7ad-4a611c6661bc"
      },
      "outputs": [
        {
          "output_type": "execute_result",
          "data": {
            "text/plain": [
              "[CX reg[0], ancilla; CX reg[1], ancilla; Measure ancilla --> parity[0, 0]; ]"
            ]
          },
          "metadata": {},
          "execution_count": 16
        }
      ],
      "source": [
        "from pytket import Circuit, Qubit, Bit\n",
        "circ = Circuit()\n",
        "qreg = circ.add_q_register(\"reg\", 2)    # add a qubit register\n",
        "\n",
        "anc = Qubit(\"ancilla\")                  # add a named qubit\n",
        "circ.add_qubit(anc)\n",
        "\n",
        "par = Bit(\"parity\", [0, 0])             # add a named bit with a 2D index\n",
        "circ.add_bit(par)\n",
        "\n",
        "circ.CX(qreg[0], anc)                   # add gates in terms of IDs\n",
        "circ.CX(qreg[1], anc)\n",
        "circ.Measure(anc, par)"
      ]
    },
    {
      "cell_type": "code",
      "execution_count": null,
      "metadata": {
        "colab": {
          "base_uri": "https://localhost:8080/"
        },
        "id": "cnSawipeXMY2",
        "outputId": "759590ad-bf0a-42d3-c949-f0ec46bc7971"
      },
      "outputs": [
        {
          "output_type": "stream",
          "name": "stdout",
          "text": [
            "[a[0], a[1], a[2], a[3], b]\n",
            "[z[0], z[1], z[2]]\n"
          ]
        }
      ],
      "source": [
        "from pytket import Circuit, Qubit\n",
        "circ = Circuit()\n",
        "circ.add_q_register(\"a\", 4)\n",
        "circ.add_qubit(Qubit(\"b\"))\n",
        "circ.add_c_register(\"z\", 3)\n",
        "\n",
        "print(circ.qubits)\n",
        "print(circ.bits)"
      ]
    },
    {
      "cell_type": "code",
      "execution_count": null,
      "metadata": {
        "colab": {
          "base_uri": "https://localhost:8080/"
        },
        "id": "0DhjbZ59XV76",
        "outputId": "ae004ab0-c1ba-4e30-8d9b-61e6b994589c"
      },
      "outputs": [
        {
          "output_type": "execute_result",
          "data": {
            "text/plain": [
              "[Measure q[2] --> c[0]; CX q[0], q[1]; ]"
            ]
          },
          "metadata": {},
          "execution_count": 18
        }
      ],
      "source": [
        "from pytket import Circuit, Qubit, Bit\n",
        "circ = Circuit(4, 2)\n",
        "circ.CX(Qubit(0), Qubit(\"q\", 1))    # same as circ.CX(0, 1)\n",
        "circ.Measure(Qubit(2), Bit(\"c\", 0)) # same as circ.Measure(2, 0)"
      ]
    },
    {
      "cell_type": "code",
      "execution_count": null,
      "metadata": {
        "colab": {
          "base_uri": "https://localhost:8080/"
        },
        "id": "44HI4ZXnXbay",
        "outputId": "61f5ff80-64ce-4c9c-ad42-bcc1ac07012a"
      },
      "outputs": [
        {
          "output_type": "stream",
          "name": "stdout",
          "text": [
            "[a[0], q[0], q[3]]\n",
            "[c[1], z[0, 1]]\n"
          ]
        }
      ],
      "source": [
        "from pytket import Circuit, Qubit, Bit\n",
        "circ = Circuit(2, 2)\n",
        "circ.add_qubit(Qubit(\"a\", 0))\n",
        "\n",
        "map = {\n",
        "    Qubit(\"a\", 0) : Qubit(3),\n",
        "    Qubit(1) : Qubit(\"a\", 0),\n",
        "    Bit(0) : Bit(\"z\", [0, 1]),\n",
        "}\n",
        "circ.rename_units(map)\n",
        "print(circ.qubits)\n",
        "print(circ.bits)"
      ]
    },
    {
      "cell_type": "markdown",
      "metadata": {
        "id": "GTQaCjpsXeUP"
      },
      "source": [
        "## Composing Circuits"
      ]
    },
    {
      "cell_type": "code",
      "execution_count": null,
      "metadata": {
        "colab": {
          "base_uri": "https://localhost:8080/"
        },
        "id": "5AgplrIUXkpS",
        "outputId": "9bf36dee-ab72-4148-8862-97626d938c3e"
      },
      "outputs": [
        {
          "output_type": "execute_result",
          "data": {
            "text/plain": [
              "[CX q[0], q[1]; Rz(0.3) q[1]; CX q[0], q[1]; Measure q[0] --> c[0]; H q[1]; Measure q[1] --> c[1]; ]"
            ]
          },
          "metadata": {},
          "execution_count": 20
        }
      ],
      "source": [
        "from pytket import Circuit, Qubit, Bit\n",
        "circ = Circuit(2, 2)\n",
        "circ.CX(0, 1)\n",
        "circ.Rz(0.3, 1)\n",
        "circ.CX(0, 1)\n",
        "\n",
        "measures = Circuit(2, 2)\n",
        "measures.H(1)\n",
        "measures.measure_all()\n",
        "\n",
        "circ.append(measures)\n",
        "circ"
      ]
    },
    {
      "cell_type": "code",
      "execution_count": null,
      "metadata": {
        "colab": {
          "base_uri": "https://localhost:8080/"
        },
        "id": "xcsTcPEYXp9E",
        "outputId": "7a858ff9-c070-422b-a851-ab43e34121fa"
      },
      "outputs": [
        {
          "output_type": "execute_result",
          "data": {
            "text/plain": [
              "[Rx(0.2) a[0]; Z b[0]; CX a[0], a[1]; CZ b[1], b[0]; ]"
            ]
          },
          "metadata": {},
          "execution_count": 21
        }
      ],
      "source": [
        "from pytket import Circuit\n",
        "circ = Circuit()\n",
        "a = circ.add_q_register(\"a\", 2)\n",
        "circ.Rx(0.2, a[0])\n",
        "circ.CX(a[0], a[1])\n",
        "\n",
        "next = Circuit()\n",
        "b = next.add_q_register(\"b\", 2)\n",
        "next.Z(b[0])\n",
        "next.CZ(b[1], b[0])\n",
        "\n",
        "circ.append(next)\n",
        "circ"
      ]
    },
    {
      "cell_type": "code",
      "execution_count": null,
      "metadata": {
        "colab": {
          "base_uri": "https://localhost:8080/"
        },
        "id": "GqPaR5-bXyA3",
        "outputId": "75e5e4d6-aeda-425d-d708-0e19be79cf29"
      },
      "outputs": [
        {
          "output_type": "execute_result",
          "data": {
            "text/plain": [
              "[Rx(0.2) a[0]; CX a[0], a[1]; Z a[1]; CZ a[0], a[1]; ]"
            ]
          },
          "metadata": {},
          "execution_count": 22
        }
      ],
      "source": [
        "from pytket import Circuit, Qubit\n",
        "circ = Circuit()\n",
        "a = circ.add_q_register(\"a\", 2)\n",
        "circ.Rx(0.2, a[0])\n",
        "circ.CX(a[0], a[1])\n",
        "\n",
        "next = Circuit(2) \n",
        "next.Z(0)\n",
        "next.CZ(1, 0)\n",
        "\n",
        "circ.add_circuit(next, [a[1], a[0]])\n",
        "\n",
        "# This is equivalent to:\n",
        "# temp = next.copy()\n",
        "# temp.rename_units({Qubit(0) : a[1], Qubit(1) : a[0]})\n",
        "# circ.append(temp)\n",
        "\n",
        "circ"
      ]
    },
    {
      "cell_type": "markdown",
      "metadata": {
        "id": "p6jCoAnfceH0"
      },
      "source": [
        "## Statevectors and Unitaries"
      ]
    },
    {
      "cell_type": "code",
      "execution_count": null,
      "metadata": {
        "colab": {
          "base_uri": "https://localhost:8080/"
        },
        "id": "N-z1nAx1cj0K",
        "outputId": "8e007bbc-ea82-45d5-9703-cd1f0b3ea5b6"
      },
      "outputs": [
        {
          "output_type": "execute_result",
          "data": {
            "text/plain": [
              "array([0.70710678+0.j, 0.        +0.j, 0.        +0.j, 0.70710678+0.j])"
            ]
          },
          "metadata": {},
          "execution_count": 23
        }
      ],
      "source": [
        "from pytket import Circuit\n",
        "\n",
        "circ = Circuit(2)\n",
        "circ.H(0).CX(0,1)\n",
        "circ.get_statevector()"
      ]
    },
    {
      "cell_type": "code",
      "execution_count": null,
      "metadata": {
        "colab": {
          "base_uri": "https://localhost:8080/"
        },
        "id": "mZY5l1tgcpJH",
        "outputId": "cf6f5808-4b85-4ee5-99b9-53d8a08a9321"
      },
      "outputs": [
        {
          "output_type": "execute_result",
          "data": {
            "text/plain": [
              "array([[ 0.5+0.j,  0.5+0.j,  0.5+0.j,  0.5+0.j],\n",
              "       [ 0.5+0.j, -0.5+0.j,  0.5+0.j, -0.5+0.j],\n",
              "       [ 0.5+0.j, -0.5+0.j, -0.5+0.j,  0.5+0.j],\n",
              "       [ 0.5+0.j,  0.5+0.j, -0.5+0.j, -0.5+0.j]])"
            ]
          },
          "metadata": {},
          "execution_count": 24
        }
      ],
      "source": [
        "from pytket import Circuit\n",
        "\n",
        "circ = Circuit(2)\n",
        "circ.H(0).CZ(0,1).H(1)\n",
        "circ.get_unitary()"
      ]
    },
    {
      "cell_type": "markdown",
      "metadata": {
        "id": "Kxd195lncrV5"
      },
      "source": [
        "## Boxes"
      ]
    },
    {
      "cell_type": "code",
      "execution_count": null,
      "metadata": {
        "colab": {
          "base_uri": "https://localhost:8080/"
        },
        "id": "0zN7EHORcvE7",
        "outputId": "2e02473e-413c-46c3-f564-6c341926dd20"
      },
      "outputs": [
        {
          "output_type": "execute_result",
          "data": {
            "text/plain": [
              "[CircBox q[0], q[1]; X q[1]; CircBox q[1], q[2]; ]"
            ]
          },
          "metadata": {},
          "execution_count": 25
        }
      ],
      "source": [
        "from pytket.circuit import Circuit, CircBox\n",
        "sub = Circuit(2)\n",
        "sub.CX(0, 1).Rz(0.2, 1).CX(0, 1)\n",
        "sub_box = CircBox(sub)\n",
        "\n",
        "circ = Circuit(3)\n",
        "circ.add_circbox(sub_box, [0, 1])\n",
        "circ.X(1)\n",
        "circ.add_circbox(sub_box, [1, 2])"
      ]
    },
    {
      "cell_type": "code",
      "execution_count": null,
      "metadata": {
        "colab": {
          "base_uri": "https://localhost:8080/"
        },
        "id": "G9rnCvQ2cyU9",
        "outputId": "46e2bf9d-4004-491d-d94f-848cfba56102"
      },
      "outputs": [
        {
          "output_type": "execute_result",
          "data": {
            "text/plain": [
              "[Ry(0.3) q[0]; Ry(0.8) q[1]; CircBox q[2], q[3]; qif (q[0], q[1]) CircBox q[2], q[3]; ]"
            ]
          },
          "metadata": {},
          "execution_count": 26
        }
      ],
      "source": [
        "from pytket.circuit import Circuit, CircBox, QControlBox\n",
        "sub = Circuit(2)\n",
        "sub.CX(0, 1).Rz(0.2, 1).CX(0, 1)\n",
        "sub_box = CircBox(sub)\n",
        "cont = QControlBox(sub_box, 2)              # Define the controlled operation with 2 control qubits\n",
        "\n",
        "circ = Circuit(4)\n",
        "circ.add_circbox(sub_box, [2, 3])\n",
        "circ.Ry(0.3, 0).Ry(0.8, 1)\n",
        "circ.add_qcontrolbox(cont, [0, 1, 2, 3])    # Add to circuit with controls q[0], q[1], and targets q[2], q[3]"
      ]
    },
    {
      "cell_type": "code",
      "execution_count": null,
      "metadata": {
        "id": "xKa0TS1nc9NY"
      },
      "outputs": [],
      "source": [
        "from pytket.circuit import Op, OpType, QControlBox\n",
        "op = Op.create(OpType.S)\n",
        "ccs = QControlBox(op, 2)"
      ]
    },
    {
      "cell_type": "code",
      "execution_count": null,
      "metadata": {
        "colab": {
          "base_uri": "https://localhost:8080/"
        },
        "id": "pMLOrDQkdFb4",
        "outputId": "ca8dbade-314e-470b-f795-3c40a20e2bef"
      },
      "outputs": [
        {
          "output_type": "execute_result",
          "data": {
            "text/plain": [
              "[Unitary1qBox q[0]; Unitary2qBox q[1], q[2]; Unitary2qBox q[1], q[0]; Unitary1qBox q[2]; ]"
            ]
          },
          "metadata": {},
          "execution_count": 28
        }
      ],
      "source": [
        "from pytket.circuit import Circuit, Unitary1qBox, Unitary2qBox\n",
        "import numpy as np\n",
        "u1 = np.asarray([[-0.7487011587786401+0.4453416229024393j, 0.4061474383265779+0.2759740424295397j],\n",
        "                 [-0.12329679104996497+0.4753054965713359j, -0.8565044726815658+0.15900526570629525j]])\n",
        "u1box = Unitary1qBox(u1)\n",
        "u2 = np.asarray([[0, 1, 0, 0],\n",
        "                 [0, 0, 0, -1],\n",
        "                 [1, 0, 0, 0],\n",
        "                 [0, 0, -1j, 0]])\n",
        "u2box = Unitary2qBox(u2)\n",
        "\n",
        "circ = Circuit(3)\n",
        "circ.add_unitary1qbox(u1box, 0)\n",
        "circ.add_unitary2qbox(u2box, 1, 2)\n",
        "circ.add_unitary1qbox(u1box, 2)\n",
        "circ.add_unitary2qbox(u2box, 1, 0)"
      ]
    },
    {
      "cell_type": "code",
      "execution_count": null,
      "metadata": {
        "colab": {
          "base_uri": "https://localhost:8080/"
        },
        "id": "lhZ2hkMBdLUq",
        "outputId": "14e68df8-4c3e-42fd-ed16-c00b8c95f688"
      },
      "outputs": [
        {
          "output_type": "execute_result",
          "data": {
            "text/plain": [
              "[PauliExpBox q[0], q[1]; PauliExpBox q[0], q[1]; PauliExpBox q[0], q[1], q[2], q[3]; PauliExpBox q[0], q[1], q[2], q[3]; ]"
            ]
          },
          "metadata": {},
          "execution_count": 29
        }
      ],
      "source": [
        "from pytket.circuit import Circuit, PauliExpBox\n",
        "from pytket.pauli import Pauli\n",
        "circ = Circuit(4)\n",
        "circ.add_pauliexpbox(PauliExpBox([Pauli.X, Pauli.Y], 0.1), [0, 1])\n",
        "circ.add_pauliexpbox(PauliExpBox([Pauli.Y, Pauli.X], -0.1), [0, 1])\n",
        "circ.add_pauliexpbox(PauliExpBox([Pauli.X, Pauli.Y, Pauli.Y, Pauli.Y], 0.2), [0, 1, 2, 3])\n",
        "circ.add_pauliexpbox(PauliExpBox([Pauli.Y, Pauli.X, Pauli.Y, Pauli.Y], -0.2), [0, 1, 2, 3])"
      ]
    },
    {
      "cell_type": "code",
      "execution_count": null,
      "metadata": {
        "id": "k1ohmtFBdRK3",
        "colab": {
          "base_uri": "https://localhost:8080/"
        },
        "outputId": "4b53e4fa-7346-4a49-bc6f-83663b09b1c1"
      },
      "outputs": [
        {
          "output_type": "execute_result",
          "data": {
            "text/plain": [
              "[ToffoliBox q[0], q[1];]"
            ]
          },
          "metadata": {},
          "execution_count": 85
        }
      ],
      "source": [
        "from pytket import Circuit\n",
        "from pytket.circuit import ToffoliBox\n",
        "\n",
        "# Specify the desired permutation of the basis states\n",
        "permutation = {(0, 0): (1, 1), (1, 1): (0, 0)}\n",
        "\n",
        "# Construct a two qubit ToffoliBox to perform the permutation\n",
        "tb =ToffoliBox(n_qubits=2, permutation=permutation)\n",
        "\n",
        "circ = Circuit(2)               # Create a two qubit circuit\n",
        "circ.add_toffolibox(tb, [0, 1]) # Add the ToffoliBox defined above to our circuit\n",
        "circ.get_commands()             # Display circuit commands"
      ]
    },
    {
      "cell_type": "code",
      "execution_count": null,
      "metadata": {
        "colab": {
          "base_uri": "https://localhost:8080/"
        },
        "id": "S96TQs7YgJxf",
        "outputId": "15e12988-6558-4cd5-9481-a44ccf713896"
      },
      "outputs": [
        {
          "output_type": "execute_result",
          "data": {
            "text/plain": [
              "array([0.+0.j, 0.+0.j, 0.+0.j, 1.+0.j])"
            ]
          },
          "metadata": {},
          "execution_count": 86
        }
      ],
      "source": [
        "circ.get_statevector()"
      ]
    },
    {
      "cell_type": "code",
      "execution_count": null,
      "metadata": {
        "id": "B-WRrzPAgNt_",
        "colab": {
          "base_uri": "https://localhost:8080/"
        },
        "outputId": "4ac10c58-3437-4ccc-c486-023d14bf623b"
      },
      "outputs": [
        {
          "output_type": "execute_result",
          "data": {
            "text/plain": [
              "[X q[1]; CnX q[1], q[0]; X q[1]; CnX q[0], q[1]; X q[1]; CnX q[1], q[0]; X q[1]; ]"
            ]
          },
          "metadata": {},
          "execution_count": 87
        }
      ],
      "source": [
        "tb.get_circuit()"
      ]
    },
    {
      "cell_type": "markdown",
      "metadata": {
        "id": "TYCfurW3gSAE"
      },
      "source": [
        "## Analysing Circuits"
      ]
    },
    {
      "cell_type": "code",
      "execution_count": null,
      "metadata": {
        "colab": {
          "base_uri": "https://localhost:8080/"
        },
        "id": "IglNYgYygV_B",
        "outputId": "5104c104-aecf-4aba-eb0e-9183b0e5ddf8"
      },
      "outputs": [
        {
          "output_type": "stream",
          "name": "stdout",
          "text": [
            "CX OpType.CX [q[0], q[1]]\n",
            "Rx(0.3) OpType.Rx [q[0]]\n",
            "CZ OpType.CZ [q[1], q[2]]\n",
            "X OpType.X [q[1]]\n"
          ]
        }
      ],
      "source": [
        "from pytket import Circuit\n",
        "circ = Circuit(3)\n",
        "circ.CX(0, 1).CZ(1, 2).X(1).Rx(0.3, 0)\n",
        "\n",
        "for com in circ: # equivalently, circ.get_commands()\n",
        "    print(com.op, com.op.type, com.args)\n",
        "    # NOTE: com is not a reference to something inside circ; this cannot be used to modify the circuit"
      ]
    },
    {
      "cell_type": "code",
      "execution_count": null,
      "metadata": {
        "colab": {
          "base_uri": "https://localhost:8080/",
          "height": 221
        },
        "id": "joisRkCwgar7",
        "outputId": "ac40c0e9-6e9b-4494-f773-0f9d67b4a572"
      },
      "outputs": [
        {
          "output_type": "display_data",
          "data": {
            "text/plain": [
              "<IPython.core.display.HTML object>"
            ],
            "text/html": [
              "\n",
              "\n",
              "\n",
              "\n",
              "\n",
              "\n",
              "<iframe srcdoc=\"\n",
              "&lt;!DOCTYPE html&gt;\n",
              "&lt;html lang=&#34;en&#34;&gt;\n",
              "&lt;head&gt;\n",
              "    &lt;meta charset=&#34;UTF-8&#34;&gt;\n",
              "    &lt;script type=&#34;application/javascript&#34; src=&#34;https://cdn.jsdelivr.net/npm/vue@3&#34;&gt;&lt;/script&gt;\n",
              "    &lt;script type=&#34;application/javascript&#34; src=&#34;https://unpkg.com/pytket-circuit-renderer@0.3/dist/pytket-circuit-renderer.umd.js&#34;&gt;&lt;/script&gt;\n",
              "    &lt;link rel=&#34;stylesheet&#34; href=&#34;https://unpkg.com/pytket-circuit-renderer@0.3/dist/pytket-circuit-renderer.css&#34;&gt;\n",
              "&lt;/head&gt;\n",
              "&lt;body&gt;\n",
              "    &lt;div id=&#34;circuit-display-vue-container-8270e72b-b225-4e25-b161-c7e687f25270&#34; class=&#34;pytket-circuit-display-container&#34;&gt;\n",
              "        &lt;div style=&#34;display: none&#34;&gt;\n",
              "            &lt;div id=&#34;circuit-json-to-display&#34;&gt;{&#34;bits&#34;: [], &#34;commands&#34;: [{&#34;args&#34;: [[&#34;q&#34;, [0]], [&#34;q&#34;, [1]]], &#34;op&#34;: {&#34;type&#34;: &#34;CX&#34;}}, {&#34;args&#34;: [[&#34;q&#34;, [0]]], &#34;op&#34;: {&#34;params&#34;: [&#34;0.3&#34;], &#34;type&#34;: &#34;Rx&#34;}}, {&#34;args&#34;: [[&#34;q&#34;, [1]], [&#34;q&#34;, [2]]], &#34;op&#34;: {&#34;type&#34;: &#34;CZ&#34;}}, {&#34;args&#34;: [[&#34;q&#34;, [1]]], &#34;op&#34;: {&#34;type&#34;: &#34;X&#34;}}], &#34;created_qubits&#34;: [], &#34;discarded_qubits&#34;: [], &#34;implicit_permutation&#34;: [[[&#34;q&#34;, [0]], [&#34;q&#34;, [0]]], [[&#34;q&#34;, [1]], [&#34;q&#34;, [1]]], [[&#34;q&#34;, [2]], [&#34;q&#34;, [2]]]], &#34;phase&#34;: &#34;0.0&#34;, &#34;qubits&#34;: [[&#34;q&#34;, [0]], [&#34;q&#34;, [1]], [&#34;q&#34;, [2]]]}&lt;/div&gt;\n",
              "        &lt;/div&gt;\n",
              "        &lt;circuit-display-container :circuit-element-str=&#34;&#39;#circuit-json-to-display&#39;&#34;&gt;&lt;/circuit-display-container&gt;\n",
              "    &lt;/div&gt;\n",
              "    &lt;script type=&#34;application/javascript&#34;&gt;\n",
              "        const { createApp } = Vue;\n",
              "        const circuitDisplayContainer = window[&#34;pytket-circuit-renderer&#34;].default;\n",
              "        // Init variables to be shared between circuit display instances\n",
              "        if (typeof window.pytketCircuitDisplays === &#34;undefined&#34;) {\n",
              "            window.pytketCircuitDisplays = {};\n",
              "        }\n",
              "        const uid = &#34;8270e72b-b225-4e25-b161-c7e687f25270&#34;;\n",
              "        // Create the root Vue component\n",
              "        const app = createApp({\n",
              "            delimiters: [&#39;[[#&#39;, &#39;#]]&#39;],\n",
              "            components: { circuitDisplayContainer },\n",
              "        })\n",
              "        app.config.unwrapInjectedRef = true;\n",
              "        app.mount(&#34;#circuit-display-vue-container-&#34;+uid);\n",
              "        window.pytketCircuitDisplays[uid] = app;\n",
              "    &lt;/script&gt;\n",
              "&lt;/body&gt;\n",
              "&lt;/html&gt;\n",
              "\"\n",
              "        width=\"100%\" height=\"200px\"\n",
              "        style=\"border: none; outline: none; resize: vertical; overflow: auto\"></iframe>\n",
              "\n"
            ]
          },
          "metadata": {}
        }
      ],
      "source": [
        "from pytket import Circuit\n",
        "from pytket.circuit.display import render_circuit_jupyter\n",
        "\n",
        "circ = Circuit(3)\n",
        "circ.CX(0, 1).CZ(1, 2).X(1).Rx(0.3, 0)\n",
        "render_circuit_jupyter(circ)"
      ]
    },
    {
      "cell_type": "code",
      "execution_count": null,
      "metadata": {
        "colab": {
          "base_uri": "https://localhost:8080/",
          "height": 167
        },
        "id": "VmK0t6v_gh3v",
        "outputId": "16ab9d8a-1472-44d6-eff7-d3fc72d03acb"
      },
      "outputs": [
        {
          "output_type": "execute_result",
          "data": {
            "image/svg+xml": "<?xml version=\"1.0\" encoding=\"UTF-8\" standalone=\"no\"?>\n<!DOCTYPE svg PUBLIC \"-//W3C//DTD SVG 1.1//EN\"\n \"http://www.w3.org/Graphics/SVG/1.1/DTD/svg11.dtd\">\n<!-- Generated by graphviz version 2.40.1 (20161225.0304)\n -->\n<!-- Title: Circuit Pages: 1 -->\n<svg width=\"213pt\" height=\"109pt\"\n viewBox=\"0.00 0.00 213.00 109.00\" xmlns=\"http://www.w3.org/2000/svg\" xmlns:xlink=\"http://www.w3.org/1999/xlink\">\n<g id=\"graph0\" class=\"graph\" transform=\"scale(1 1) rotate(0) translate(4 105)\">\n<title>Circuit</title>\n<polygon fill=\"#ffffff\" stroke=\"transparent\" points=\"-4,4 -4,-105 209,-105 209,4 -4,4\"/>\n<g id=\"clust1\" class=\"cluster\">\n<title>cluster_q_inputs</title>\n<path fill=\"#d3d3d3\" stroke=\"#d3d3d3\" d=\"M21.5333,-12C21.5333,-12 26.0667,-12 26.0667,-12 28.3333,-12 30.6,-14.2667 30.6,-16.5333 30.6,-16.5333 30.6,-51.4667 30.6,-51.4667 30.6,-53.7333 28.3333,-56 26.0667,-56 26.0667,-56 21.5333,-56 21.5333,-56 19.2667,-56 17,-53.7333 17,-51.4667 17,-51.4667 17,-16.5333 17,-16.5333 17,-14.2667 19.2667,-12 21.5333,-12\"/>\n</g>\n<g id=\"clust3\" class=\"cluster\">\n<title>cluster_q_outputs</title>\n<path fill=\"#d3d3d3\" stroke=\"#d3d3d3\" d=\"M187.9333,-12C187.9333,-12 192.4667,-12 192.4667,-12 194.7333,-12 197,-14.2667 197,-16.5333 197,-16.5333 197,-51.4667 197,-51.4667 197,-53.7333 194.7333,-56 192.4667,-56 192.4667,-56 187.9333,-56 187.9333,-56 185.6667,-56 183.4,-53.7333 183.4,-51.4667 183.4,-51.4667 183.4,-16.5333 183.4,-16.5333 183.4,-14.2667 185.6667,-12 187.9333,-12\"/>\n</g>\n<g id=\"clust5\" class=\"cluster\">\n<title>cluster_6</title>\n<path fill=\"#add8e6\" stroke=\"#add8e6\" d=\"M52.4667,-27C52.4667,-27 62.3333,-27 62.3333,-27 67.2667,-27 72.2,-31.9333 72.2,-36.8667 72.2,-36.8667 72.2,-65.1333 72.2,-65.1333 72.2,-70.0667 67.2667,-75 62.3333,-75 62.3333,-75 52.4667,-75 52.4667,-75 47.5333,-75 42.6,-70.0667 42.6,-65.1333 42.6,-65.1333 42.6,-36.8667 42.6,-36.8667 42.6,-31.9333 47.5333,-27 52.4667,-27\"/>\n<text text-anchor=\"middle\" x=\"57.4\" y=\"-63\" font-family=\"Times,serif\" font-size=\"10.00\" fill=\"#000000\">CX</text>\n</g>\n<g id=\"clust6\" class=\"cluster\">\n<title>cluster_7</title>\n<path fill=\"#add8e6\" stroke=\"#add8e6\" d=\"M93.7333,-8C93.7333,-8 103.2667,-8 103.2667,-8 108.0333,-8 112.8,-12.7667 112.8,-17.5333 112.8,-17.5333 112.8,-46.4667 112.8,-46.4667 112.8,-51.2333 108.0333,-56 103.2667,-56 103.2667,-56 93.7333,-56 93.7333,-56 88.9667,-56 84.2,-51.2333 84.2,-46.4667 84.2,-46.4667 84.2,-17.5333 84.2,-17.5333 84.2,-12.7667 88.9667,-8 93.7333,-8\"/>\n<text text-anchor=\"middle\" x=\"98.5\" y=\"-44\" font-family=\"Times,serif\" font-size=\"10.00\" fill=\"#000000\">CZ</text>\n</g>\n<g id=\"clust7\" class=\"cluster\">\n<title>cluster_8</title>\n<path fill=\"#add8e6\" stroke=\"#add8e6\" d=\"M144.3333,-27C144.3333,-27 151.8667,-27 151.8667,-27 155.6333,-27 159.4,-30.7667 159.4,-34.5333 159.4,-34.5333 159.4,-52.4667 159.4,-52.4667 159.4,-56.2333 155.6333,-60 151.8667,-60 151.8667,-60 144.3333,-60 144.3333,-60 140.5667,-60 136.8,-56.2333 136.8,-52.4667 136.8,-52.4667 136.8,-34.5333 136.8,-34.5333 136.8,-30.7667 140.5667,-27 144.3333,-27\"/>\n<text text-anchor=\"middle\" x=\"148.1\" y=\"-48\" font-family=\"Times,serif\" font-size=\"10.00\" fill=\"#000000\">X</text>\n</g>\n<g id=\"clust8\" class=\"cluster\">\n<title>cluster_9</title>\n<path fill=\"#add8e6\" stroke=\"#add8e6\" d=\"M135.8,-60C135.8,-60 160.4,-60 160.4,-60 165.9,-60 171.4,-65.5 171.4,-71 171.4,-71 171.4,-82 171.4,-82 171.4,-87.5 165.9,-93 160.4,-93 160.4,-93 135.8,-93 135.8,-93 130.3,-93 124.8,-87.5 124.8,-82 124.8,-82 124.8,-71 124.8,-71 124.8,-65.5 130.3,-60 135.8,-60\"/>\n<text text-anchor=\"middle\" x=\"148.1\" y=\"-81\" font-family=\"Times,serif\" font-size=\"10.00\" fill=\"#000000\">Rx(0.3)</text>\n</g>\n<!-- (0, 0) -->\n<g id=\"node1\" class=\"node\">\n<title>(0, 0)</title>\n<ellipse fill=\"#0000ff\" stroke=\"#0000ff\" cx=\"23.8\" cy=\"-49\" rx=\"1.8\" ry=\"1.8\"/>\n<text text-anchor=\"middle\" x=\"11\" y=\"-40.8\" font-family=\"Courier,monospace\" font-size=\"8.00\" fill=\"#000000\">q[0]</text>\n</g>\n<!-- (6, 0) -->\n<g id=\"node7\" class=\"node\">\n<title>(6, 0)</title>\n<ellipse fill=\"#000000\" stroke=\"#000000\" cx=\"57.4\" cy=\"-49\" rx=\"1.8\" ry=\"1.8\"/>\n<text text-anchor=\"middle\" x=\"53.1\" y=\"-40.8\" font-family=\"Helvetica,sans-Serif\" font-size=\"8.00\" fill=\"#000000\">0</text>\n</g>\n<!-- (0, 0)&#45;&gt;(6, 0) -->\n<g id=\"edge1\" class=\"edge\">\n<title>(0, 0)&#45;&gt;(6, 0)</title>\n<path fill=\"none\" stroke=\"#0000ff\" d=\"M25.6065,-49C30.7539,-49 45.6033,-49 53.0433,-49\"/>\n<polygon fill=\"#0000ff\" stroke=\"#0000ff\" points=\"55.4174,-49 53.4175,-50.1251 54.4174,-49 53.4174,-49.0001 53.4174,-49.0001 53.4174,-49.0001 54.4174,-49 53.4174,-47.8751 55.4174,-49 55.4174,-49\"/>\n</g>\n<!-- (2, 0) -->\n<g id=\"node2\" class=\"node\">\n<title>(2, 0)</title>\n<ellipse fill=\"#0000ff\" stroke=\"#0000ff\" cx=\"23.8\" cy=\"-34\" rx=\"1.8\" ry=\"1.8\"/>\n<text text-anchor=\"middle\" x=\"11\" y=\"-25.8\" font-family=\"Courier,monospace\" font-size=\"8.00\" fill=\"#000000\">q[1]</text>\n</g>\n<!-- (6, 1) -->\n<g id=\"node8\" class=\"node\">\n<title>(6, 1)</title>\n<ellipse fill=\"#000000\" stroke=\"#000000\" cx=\"57.4\" cy=\"-34\" rx=\"1.8\" ry=\"1.8\"/>\n<text text-anchor=\"middle\" x=\"53.1\" y=\"-25.8\" font-family=\"Helvetica,sans-Serif\" font-size=\"8.00\" fill=\"#000000\">1</text>\n</g>\n<!-- (2, 0)&#45;&gt;(6, 1) -->\n<g id=\"edge2\" class=\"edge\">\n<title>(2, 0)&#45;&gt;(6, 1)</title>\n<path fill=\"none\" stroke=\"#0000ff\" d=\"M25.6065,-34C30.7539,-34 45.6033,-34 53.0433,-34\"/>\n<polygon fill=\"#0000ff\" stroke=\"#0000ff\" points=\"55.4174,-34 53.4175,-35.1251 54.4174,-34 53.4174,-34.0001 53.4174,-34.0001 53.4174,-34.0001 54.4174,-34 53.4174,-32.8751 55.4174,-34 55.4174,-34\"/>\n</g>\n<!-- (4, 0) -->\n<g id=\"node3\" class=\"node\">\n<title>(4, 0)</title>\n<ellipse fill=\"#0000ff\" stroke=\"#0000ff\" cx=\"23.8\" cy=\"-19\" rx=\"1.8\" ry=\"1.8\"/>\n<text text-anchor=\"middle\" x=\"11\" y=\"-10.8\" font-family=\"Courier,monospace\" font-size=\"8.00\" fill=\"#000000\">q[2]</text>\n</g>\n<!-- (7, 1) -->\n<g id=\"node10\" class=\"node\">\n<title>(7, 1)</title>\n<ellipse fill=\"#000000\" stroke=\"#000000\" cx=\"98\" cy=\"-15\" rx=\"1.8\" ry=\"1.8\"/>\n<text text-anchor=\"middle\" x=\"93.7\" y=\"-6.8\" font-family=\"Helvetica,sans-Serif\" font-size=\"8.00\" fill=\"#000000\">1</text>\n</g>\n<!-- (4, 0)&#45;&gt;(7, 1) -->\n<g id=\"edge3\" class=\"edge\">\n<title>(4, 0)&#45;&gt;(7, 1)</title>\n<path fill=\"none\" stroke=\"#0000ff\" d=\"M25.6342,-18.9011C35.2541,-18.3825 79.9705,-15.9719 93.8678,-15.2228\"/>\n<polygon fill=\"#0000ff\" stroke=\"#0000ff\" points=\"95.9575,-15.1101 94.021,-16.3412 94.9589,-15.164 93.9604,-15.2179 93.9604,-15.2179 93.9604,-15.2179 94.9589,-15.164 93.8998,-14.0945 95.9575,-15.1101 95.9575,-15.1101\"/>\n</g>\n<!-- (1, 0) -->\n<g id=\"node4\" class=\"node\">\n<title>(1, 0)</title>\n<ellipse fill=\"#0000ff\" stroke=\"#0000ff\" cx=\"190.2\" cy=\"-49\" rx=\"1.8\" ry=\"1.8\"/>\n<text text-anchor=\"middle\" x=\"177.4\" y=\"-40.8\" font-family=\"Courier,monospace\" font-size=\"8.00\" fill=\"#000000\">q[0]</text>\n</g>\n<!-- (3, 0) -->\n<g id=\"node5\" class=\"node\">\n<title>(3, 0)</title>\n<ellipse fill=\"#0000ff\" stroke=\"#0000ff\" cx=\"190.2\" cy=\"-34\" rx=\"1.8\" ry=\"1.8\"/>\n<text text-anchor=\"middle\" x=\"177.4\" y=\"-25.8\" font-family=\"Courier,monospace\" font-size=\"8.00\" fill=\"#000000\">q[1]</text>\n</g>\n<!-- (5, 0) -->\n<g id=\"node6\" class=\"node\">\n<title>(5, 0)</title>\n<ellipse fill=\"#0000ff\" stroke=\"#0000ff\" cx=\"190.2\" cy=\"-19\" rx=\"1.8\" ry=\"1.8\"/>\n<text text-anchor=\"middle\" x=\"177.4\" y=\"-10.8\" font-family=\"Courier,monospace\" font-size=\"8.00\" fill=\"#000000\">q[2]</text>\n</g>\n<!-- (9, 0) -->\n<g id=\"node12\" class=\"node\">\n<title>(9, 0)</title>\n<ellipse fill=\"#000000\" stroke=\"#000000\" cx=\"147.6\" cy=\"-67\" rx=\"1.8\" ry=\"1.8\"/>\n</g>\n<!-- (6, 0)&#45;&gt;(9, 0) -->\n<g id=\"edge5\" class=\"edge\">\n<title>(6, 0)&#45;&gt;(9, 0)</title>\n<path fill=\"none\" stroke=\"#0000ff\" d=\"M59.3267,-49.6723C63.6993,-51.1765 74.7297,-54.8498 84.2,-57 106.2385,-62.0038 133.1499,-65.3556 143.381,-66.5324\"/>\n<polygon fill=\"#0000ff\" stroke=\"#0000ff\" points=\"145.6096,-66.7844 143.4958,-67.6775 144.6159,-66.672 143.6223,-66.5596 143.6223,-66.5596 143.6223,-66.5596 144.6159,-66.672 143.7487,-65.4417 145.6096,-66.7844 145.6096,-66.7844\"/>\n</g>\n<!-- (7, 0) -->\n<g id=\"node9\" class=\"node\">\n<title>(7, 0)</title>\n<ellipse fill=\"#000000\" stroke=\"#000000\" cx=\"98\" cy=\"-30\" rx=\"1.8\" ry=\"1.8\"/>\n<text text-anchor=\"middle\" x=\"93.7\" y=\"-21.8\" font-family=\"Helvetica,sans-Serif\" font-size=\"8.00\" fill=\"#000000\">0</text>\n</g>\n<!-- (6, 1)&#45;&gt;(7, 0) -->\n<g id=\"edge4\" class=\"edge\">\n<title>(6, 1)&#45;&gt;(7, 0)</title>\n<path fill=\"none\" stroke=\"#0000ff\" d=\"M59.5828,-33.7849C66.0311,-33.1496 85.0801,-31.2729 93.6893,-30.4247\"/>\n<polygon fill=\"#0000ff\" stroke=\"#0000ff\" points=\"96.0005,-30.197 94.1205,-31.5127 95.0053,-30.2951 94.0101,-30.3932 94.0101,-30.3932 94.0101,-30.3932 95.0053,-30.2951 93.8998,-29.2736 96.0005,-30.197 96.0005,-30.197\"/>\n</g>\n<!-- (8, 0) -->\n<g id=\"node11\" class=\"node\">\n<title>(8, 0)</title>\n<ellipse fill=\"#000000\" stroke=\"#000000\" cx=\"147.6\" cy=\"-34\" rx=\"1.8\" ry=\"1.8\"/>\n</g>\n<!-- (7, 0)&#45;&gt;(8, 0) -->\n<g id=\"edge6\" class=\"edge\">\n<title>(7, 0)&#45;&gt;(8, 0)</title>\n<path fill=\"none\" stroke=\"#0000ff\" d=\"M100.1312,-30.1719C107.7163,-30.7836 133.4815,-32.8614 143.5351,-33.6722\"/>\n<polygon fill=\"#0000ff\" stroke=\"#0000ff\" points=\"145.5319,-33.8332 143.4479,-34.7937 144.5351,-33.7528 143.5384,-33.6724 143.5384,-33.6724 143.5384,-33.6724 144.5351,-33.7528 143.6289,-32.551 145.5319,-33.8332 145.5319,-33.8332\"/>\n</g>\n<!-- (7, 1)&#45;&gt;(5, 0) -->\n<g id=\"edge7\" class=\"edge\">\n<title>(7, 1)&#45;&gt;(5, 0)</title>\n<path fill=\"none\" stroke=\"#0000ff\" d=\"M99.9257,-15.0835C111.3622,-15.5797 170.3952,-18.1408 186.2671,-18.8294\"/>\n<polygon fill=\"#0000ff\" stroke=\"#0000ff\" points=\"188.2849,-18.9169 186.2379,-19.9541 187.2858,-18.8735 186.2867,-18.8301 186.2867,-18.8301 186.2867,-18.8301 187.2858,-18.8735 186.3356,-17.7062 188.2849,-18.9169 188.2849,-18.9169\"/>\n</g>\n<!-- (8, 0)&#45;&gt;(3, 0) -->\n<g id=\"edge8\" class=\"edge\">\n<title>(8, 0)&#45;&gt;(3, 0)</title>\n<path fill=\"none\" stroke=\"#0000ff\" d=\"M149.4305,-34C155.7728,-34 176.9151,-34 185.9963,-34\"/>\n<polygon fill=\"#0000ff\" stroke=\"#0000ff\" points=\"188.0289,-34 186.0289,-35.1251 187.0289,-34 186.0289,-34.0001 186.0289,-34.0001 186.0289,-34.0001 187.0289,-34 186.0288,-32.8751 188.0289,-34 188.0289,-34\"/>\n</g>\n<!-- (9, 0)&#45;&gt;(1, 0) -->\n<g id=\"edge9\" class=\"edge\">\n<title>(9, 0)&#45;&gt;(1, 0)</title>\n<path fill=\"none\" stroke=\"#0000ff\" d=\"M149.3951,-66.7492C153.4504,-66.1399 163.5755,-64.3778 171.4,-61 177.1591,-58.5138 183.1578,-54.3688 186.7867,-51.66\"/>\n<polygon fill=\"#0000ff\" stroke=\"#0000ff\" points=\"188.5423,-50.3225 187.6331,-52.4295 187.7468,-50.9285 186.9513,-51.5345 186.9513,-51.5345 186.9513,-51.5345 187.7468,-50.9285 186.2696,-50.6396 188.5423,-50.3225 188.5423,-50.3225\"/>\n</g>\n</g>\n</svg>\n",
            "text/plain": [
              "<graphviz.graphs.Digraph at 0x7f45a3511940>"
            ]
          },
          "metadata": {},
          "execution_count": 90
        }
      ],
      "source": [
        "from pytket import Circuit\n",
        "from pytket.utils import Graph\n",
        "circ = Circuit(3)\n",
        "circ.CX(0, 1).CZ(1, 2).X(1).Rx(0.3, 0)\n",
        "Graph(circ).get_DAG()   # Displays in interactive python notebooks\n",
        "            # In normal python scripts, use Graph.save_DAG or Graph.view_DAG"
      ]
    },
    {
      "cell_type": "code",
      "execution_count": null,
      "metadata": {
        "colab": {
          "base_uri": "https://localhost:8080/",
          "height": 192
        },
        "id": "nRJysllbglm2",
        "outputId": "4819e19e-b010-4749-8fab-27f67e8bbd20"
      },
      "outputs": [
        {
          "output_type": "execute_result",
          "data": {
            "image/svg+xml": "<?xml version=\"1.0\" encoding=\"UTF-8\" standalone=\"no\"?>\n<!DOCTYPE svg PUBLIC \"-//W3C//DTD SVG 1.1//EN\"\n \"http://www.w3.org/Graphics/SVG/1.1/DTD/svg11.dtd\">\n<!-- Generated by graphviz version 2.40.1 (20161225.0304)\n -->\n<!-- Title: Qubit connectivity Pages: 1 -->\n<svg width=\"196pt\" height=\"128pt\"\n viewBox=\"0.00 0.00 196.17 127.62\" xmlns=\"http://www.w3.org/2000/svg\" xmlns:xlink=\"http://www.w3.org/1999/xlink\">\n<g id=\"graph0\" class=\"graph\" transform=\"scale(1 1) rotate(0) translate(4 123.6151)\">\n<title>Qubit connectivity</title>\n<polygon fill=\"#ffffff\" stroke=\"transparent\" points=\"-4,4 -4,-123.6151 192.1676,-123.6151 192.1676,4 -4,4\"/>\n<!-- q[0] -->\n<g id=\"node1\" class=\"node\">\n<title>q[0]</title>\n<ellipse fill=\"none\" stroke=\"#0000ff\" cx=\"24.1352\" cy=\"-43.8286\" rx=\"24.2711\" ry=\"24.2711\"/>\n<text text-anchor=\"middle\" x=\"24.1352\" y=\"-41.3286\" font-family=\"Courier,monospace\" font-size=\"10.00\" fill=\"#000000\">q[0]</text>\n</g>\n<!-- q[1] -->\n<g id=\"node2\" class=\"node\">\n<title>q[1]</title>\n<ellipse fill=\"none\" stroke=\"#0000ff\" cx=\"96.9505\" cy=\"-52.274\" rx=\"24.2711\" ry=\"24.2711\"/>\n<text text-anchor=\"middle\" x=\"96.9505\" y=\"-49.774\" font-family=\"Courier,monospace\" font-size=\"10.00\" fill=\"#000000\">q[1]</text>\n</g>\n<!-- q[0]&#45;&#45;q[1] -->\n<g id=\"edge1\" class=\"edge\">\n<title>q[0]&#45;&#45;q[1]</title>\n<path fill=\"none\" stroke=\"#000000\" d=\"M48.3816,-46.6408C56.1594,-47.5429 64.7738,-48.542 72.5617,-49.4453\"/>\n</g>\n<!-- q[2] -->\n<g id=\"node3\" class=\"node\">\n<title>q[2]</title>\n<ellipse fill=\"none\" stroke=\"#0000ff\" cx=\"164.0324\" cy=\"-24.1352\" rx=\"24.2711\" ry=\"24.2711\"/>\n<text text-anchor=\"middle\" x=\"164.0324\" y=\"-21.6352\" font-family=\"Courier,monospace\" font-size=\"10.00\" fill=\"#000000\">q[2]</text>\n</g>\n<!-- q[1]&#45;&#45;q[2] -->\n<g id=\"edge2\" class=\"edge\">\n<title>q[1]&#45;&#45;q[2]</title>\n<path fill=\"none\" stroke=\"#000000\" d=\"M119.2878,-42.9042C126.4532,-39.8985 134.3892,-36.5696 141.5639,-33.56\"/>\n</g>\n<!-- q[3] -->\n<g id=\"node4\" class=\"node\">\n<title>q[3]</title>\n<ellipse fill=\"none\" stroke=\"#0000ff\" cx=\"155.4963\" cy=\"-95.4799\" rx=\"24.2711\" ry=\"24.2711\"/>\n<text text-anchor=\"middle\" x=\"155.4963\" y=\"-92.9799\" font-family=\"Courier,monospace\" font-size=\"10.00\" fill=\"#000000\">q[3]</text>\n</g>\n<!-- q[1]&#45;&#45;q[3] -->\n<g id=\"edge3\" class=\"edge\">\n<title>q[1]&#45;&#45;q[3]</title>\n<path fill=\"none\" stroke=\"#000000\" d=\"M116.4454,-66.6609C122.699,-71.276 129.6252,-76.3874 135.8869,-81.0085\"/>\n</g>\n<!-- q[2]&#45;&#45;q[3] -->\n<g id=\"edge4\" class=\"edge\">\n<title>q[2]&#45;&#45;q[3]</title>\n<path fill=\"none\" stroke=\"#000000\" d=\"M161.1425,-48.2892C160.2525,-55.7275 159.273,-63.9141 158.3833,-71.3507\"/>\n</g>\n</g>\n</svg>\n",
            "text/plain": [
              "<graphviz.graphs.Graph at 0x7f45a3585400>"
            ]
          },
          "metadata": {},
          "execution_count": 91
        }
      ],
      "source": [
        "from pytket import Circuit\n",
        "from pytket.utils import Graph\n",
        "circ = Circuit(4)\n",
        "circ.CX(0, 1).CZ(1, 2).ZZPhase(0.63, 2, 3).CX(1, 3).CY(0, 1)\n",
        "Graph(circ).get_qubit_graph()"
      ]
    },
    {
      "cell_type": "code",
      "execution_count": null,
      "metadata": {
        "colab": {
          "base_uri": "https://localhost:8080/"
        },
        "id": "2SXXtO7dgq5r",
        "outputId": "ba9902b6-250d-4e30-d10f-aa84cd074b2f"
      },
      "outputs": [
        {
          "output_type": "stream",
          "name": "stdout",
          "text": [
            "4\n",
            "3\n"
          ]
        }
      ],
      "source": [
        "from pytket import Circuit\n",
        "circ = Circuit(3)\n",
        "circ.CX(0, 1).CZ(1, 2).X(1).Rx(0.3, 0)\n",
        "\n",
        "print(circ.n_gates)\n",
        "print(circ.depth())"
      ]
    },
    {
      "cell_type": "code",
      "execution_count": null,
      "metadata": {
        "colab": {
          "base_uri": "https://localhost:8080/"
        },
        "id": "NIu3OvjJguou",
        "outputId": "611ab2e8-e899-41a8-bc43-05e71d543696"
      },
      "outputs": [
        {
          "output_type": "stream",
          "name": "stdout",
          "text": [
            "3\n",
            "4\n",
            "2\n",
            "2\n"
          ]
        }
      ],
      "source": [
        "from pytket import Circuit, OpType\n",
        "circ = Circuit(4)\n",
        "circ.T(0)\n",
        "circ.CX(0, 1)\n",
        "circ.CX(2, 3)\n",
        "circ.T(3)\n",
        "circ.CZ(0, 2)\n",
        "circ.CZ(1, 3)\n",
        "circ.T(1)\n",
        "\n",
        "print(circ.n_gates_of_type(OpType.T))\n",
        "print(circ.n_gates_of_type(OpType.CX)\n",
        "    + circ.n_gates_of_type(OpType.CZ))\n",
        "print(circ.depth_by_type(OpType.T))\n",
        "print(circ.depth_by_type({OpType.CX, OpType.CZ}))"
      ]
    },
    {
      "cell_type": "markdown",
      "metadata": {
        "id": "l55cCPVag0yz"
      },
      "source": [
        "## Importing/Exporting Circuits"
      ]
    },
    {
      "cell_type": "code",
      "execution_count": null,
      "metadata": {
        "colab": {
          "base_uri": "https://localhost:8080/"
        },
        "id": "S81ujp2gg4zE",
        "outputId": "60c259fb-6064-4be1-bf92-c98cc255ec70"
      },
      "outputs": [
        {
          "output_type": "stream",
          "name": "stdout",
          "text": [
            "{'bits': [], 'commands': [{'args': [['q', [0]]], 'op': {'params': ['0.1'], 'type': 'Rx'}}, {'args': [['q', [0]], ['q', [1]]], 'op': {'type': 'CX'}}, {'args': [['q', [0]], ['q', [1]]], 'op': {'params': ['0.2'], 'type': 'YYPhase'}}], 'created_qubits': [], 'discarded_qubits': [], 'implicit_permutation': [[['q', [0]], ['q', [0]]], [['q', [1]], ['q', [1]]]], 'phase': '0.0', 'qubits': [['q', [0]], ['q', [1]]]}\n",
            "\n",
            "\n",
            "[Rx(0.1) q[0];, CX q[0], q[1];, YYPhase(0.2) q[0], q[1];]\n"
          ]
        }
      ],
      "source": [
        "import tempfile\n",
        "import json\n",
        "from pytket import Circuit, OpType\n",
        "\n",
        "circ = Circuit(2)\n",
        "circ.Rx(0.1, 0)\n",
        "circ.CX(0, 1)\n",
        "circ.add_gate(OpType.YYPhase, 0.2, [0, 1])\n",
        "\n",
        "circ_dict = circ.to_dict()\n",
        "print(circ_dict)\n",
        "print(\"\\n\")\n",
        "\n",
        "with tempfile.TemporaryFile('w+') as fp:\n",
        "    json.dump(circ_dict, fp)\n",
        "    fp.seek(0)\n",
        "    new_circ = Circuit.from_dict(json.load(fp))\n",
        "\n",
        "print(new_circ.get_commands())"
      ]
    },
    {
      "cell_type": "code",
      "execution_count": null,
      "metadata": {
        "colab": {
          "base_uri": "https://localhost:8080/"
        },
        "id": "NB0cdWP1hD5X",
        "outputId": "df698397-46f8-4bd7-a313-b207fe53ed55"
      },
      "outputs": [
        {
          "output_type": "stream",
          "name": "stdout",
          "text": [
            "OPENQASM 2.0;\n",
            "include \"qelib1.inc\";\n",
            "\n",
            "qreg q[2];\n",
            "creg c[2];\n",
            "h q[0];\n",
            "cx q[0],q[1];\n",
            "cz q[1],q[0];\n",
            "measure q[0] -> c[0];\n",
            "measure q[1] -> c[1];\n",
            "\n"
          ]
        }
      ],
      "source": [
        "from pytket.qasm import circuit_from_qasm, circuit_to_qasm_str\n",
        "import tempfile, os\n",
        "\n",
        "fd, path = tempfile.mkstemp(\".qasm\")\n",
        "os.write(fd, \"\"\"OPENQASM 2.0;\n",
        "include \"qelib1.inc\";\n",
        "qreg q[2];\n",
        "creg c[2];\n",
        "h q[0];\n",
        "cx q[0], q[1];\n",
        "cz q[1], q[0];\n",
        "measure q -> c;\n",
        "\"\"\".encode())\n",
        "os.close(fd)\n",
        "circ = circuit_from_qasm(path)\n",
        "os.remove(path)\n",
        "\n",
        "print(circuit_to_qasm_str(circ))"
      ]
    },
    {
      "cell_type": "code",
      "execution_count": null,
      "metadata": {
        "colab": {
          "base_uri": "https://localhost:8080/"
        },
        "id": "2ZavR3H6hHaW",
        "outputId": "20869dc7-6574-42f4-dec6-11c39b8a635b"
      },
      "outputs": [
        {
          "output_type": "stream",
          "name": "stdout",
          "text": [
            "[X q[0];, Y q[1];, Z q[2];]\n"
          ]
        }
      ],
      "source": [
        "from pytket.quipper import circuit_from_quipper\n",
        "import tempfile, os\n",
        "\n",
        "fd, path = tempfile.mkstemp(\".quip\")\n",
        "os.write(fd, \"\"\"Inputs: 0:Qbit, 1:Qbit, 2:Qbit\n",
        "QGate[\"X\"](0)\n",
        "QGate[\"Y\"](1)\n",
        "QGate[\"Z\"](2)\n",
        "Outputs: 0:Qbit, 1:Qbit, 2:Qbit\n",
        "\"\"\".encode())\n",
        "os.close(fd)\n",
        "circ = circuit_from_quipper(path)\n",
        "print(circ.get_commands())\n",
        "os.remove(path)"
      ]
    },
    {
      "cell_type": "code",
      "execution_count": null,
      "metadata": {
        "colab": {
          "base_uri": "https://localhost:8080/"
        },
        "id": "aIrh37e-hKk6",
        "outputId": "fe71d3fa-623a-4f22-bdc8-cc6bd62fb1e8"
      },
      "outputs": [
        {
          "output_type": "stream",
          "name": "stdout",
          "text": [
            "     ┌───┐     ┌─┐                      \n",
            "q_0: ┤ H ├──■──┤M├──────────────────────\n",
            "     └───┘┌─┴─┐└╥┘┌─────────┐     ┌─┐   \n",
            "q_1: ─────┤ X ├─╫─┤ Rz(π/2) ├──■──┤M├───\n",
            "          └───┘ ║ └─────────┘┌─┴─┐└╥┘┌─┐\n",
            "q_2: ───────────╫────────────┤ X ├─╫─┤M├\n",
            "                ║            └───┘ ║ └╥┘\n",
            "c: 3/═══════════╩══════════════════╩══╩═\n",
            "                0                  1  2 \n"
          ]
        }
      ],
      "source": [
        "from qiskit import QuantumCircuit\n",
        "from math import pi\n",
        "qc = QuantumCircuit(3)\n",
        "qc.h(0)\n",
        "qc.cx(0, 1)\n",
        "qc.rz(pi/2, 1)\n",
        "\n",
        "from pytket.extensions.qiskit import qiskit_to_tk, tk_to_qiskit\n",
        "circ = qiskit_to_tk(qc)\n",
        "circ.CX(1, 2)\n",
        "circ.measure_all()\n",
        "\n",
        "qc2 = tk_to_qiskit(circ)\n",
        "print(qc2)"
      ]
    },
    {
      "cell_type": "markdown",
      "metadata": {
        "id": "uydzvMzphNne"
      },
      "source": [
        "## Symbolic Circuits"
      ]
    },
    {
      "cell_type": "code",
      "execution_count": null,
      "metadata": {
        "colab": {
          "base_uri": "https://localhost:8080/"
        },
        "id": "rCXhBrQLhRBJ",
        "outputId": "e5ffab1f-4416-417d-f630-0572870b78cc"
      },
      "outputs": [
        {
          "output_type": "stream",
          "name": "stdout",
          "text": [
            "[Rx(alpha) q[0];, Rx(-2*alpha) q[1];, CX q[0], q[1];, YYPhase(beta) q[0], q[1];]\n",
            "[Rx(0.3) q[0];, Rx(3.4) q[1];, CX q[0], q[1];, YYPhase(1.25) q[0], q[1];]\n"
          ]
        }
      ],
      "source": [
        "from pytket import Circuit, OpType\n",
        "from sympy import Symbol\n",
        "a = Symbol(\"alpha\")\n",
        "b = Symbol(\"beta\")\n",
        "circ = Circuit(2)\n",
        "circ.Rx(a, 0)\n",
        "circ.Rx(-2*a, 1)\n",
        "circ.CX(0, 1)\n",
        "circ.add_gate(OpType.YYPhase, b, [0, 1])\n",
        "print(circ.get_commands())\n",
        "\n",
        "s_map = {a: 0.3, b:1.25}\n",
        "circ.symbol_substitution(s_map)\n",
        "print(circ.get_commands())"
      ]
    },
    {
      "cell_type": "code",
      "execution_count": null,
      "metadata": {
        "colab": {
          "base_uri": "https://localhost:8080/"
        },
        "id": "9OxV2MdHhWqW",
        "outputId": "c0d2e684-6386-412b-9866-ba7de28b1600"
      },
      "outputs": [
        {
          "output_type": "stream",
          "name": "stdout",
          "text": [
            "[Rx(0.25) q[0];, CX q[0], q[1];, Ry(3.75) q[0];]\n"
          ]
        }
      ],
      "source": [
        "from pytket import Circuit\n",
        "from sympy import Symbol, pi\n",
        "a = Symbol(\"alpha\")     # suppose that alpha is given in radians\n",
        "circ = Circuit(2)       # convert alpha to half-turns when adding gates\n",
        "circ.Rx(a/pi, 0).CX(0, 1).Ry(-a/pi, 0)\n",
        "\n",
        "s_map = {a: pi/4}\n",
        "circ.symbol_substitution(s_map)\n",
        "print(circ.get_commands())"
      ]
    },
    {
      "cell_type": "code",
      "execution_count": null,
      "metadata": {
        "colab": {
          "base_uri": "https://localhost:8080/"
        },
        "id": "DvwNo-bghZN5",
        "outputId": "b8e8d540-e735-4b52-dc01-a3116a730c0b"
      },
      "outputs": [
        {
          "output_type": "stream",
          "name": "stdout",
          "text": [
            "[Rx(2*a) q[0];, Rx(b) q[1];, CX q[0], q[1];, Ry(a) q[0];, Ry(a) q[1];]\n"
          ]
        }
      ],
      "source": [
        "from pytket import Circuit\n",
        "from sympy import symbols\n",
        "a, b, c = symbols(\"a b c\")\n",
        "circ = Circuit(2)\n",
        "circ.Rx(a, 0).Rx(b, 1).CX(0, 1).Ry(c, 0).Ry(c, 1)\n",
        "\n",
        "s_map = {a: 2*a, c: a}  # replacement happens simultaneously, and not recursively\n",
        "circ.symbol_substitution(s_map)\n",
        "print(circ.get_commands())"
      ]
    },
    {
      "cell_type": "code",
      "execution_count": null,
      "metadata": {
        "colab": {
          "base_uri": "https://localhost:8080/"
        },
        "id": "QpZ6YS0Ohbjh",
        "outputId": "65a1bcce-fcf8-4934-aab9-dd4ff2ee87f2"
      },
      "outputs": [
        {
          "output_type": "stream",
          "name": "stdout",
          "text": [
            "{b}\n",
            "True\n"
          ]
        }
      ],
      "source": [
        "from pytket import Circuit\n",
        "from sympy import symbols\n",
        "a, b = symbols(\"a, b\")\n",
        "circ = Circuit(2)\n",
        "circ.Rx(a, 0).Rx(b, 1).CZ(0, 1)\n",
        "circ.symbol_substitution({a:0.2})\n",
        "\n",
        "print(circ.free_symbols())\n",
        "print(circ.is_symbolic())   # returns True when free_symbols() is non-empty\n"
      ]
    },
    {
      "cell_type": "markdown",
      "metadata": {
        "id": "EvKF8qVYiP1S"
      },
      "source": [
        "## Symbolic unitaries and states"
      ]
    },
    {
      "cell_type": "code",
      "execution_count": null,
      "metadata": {
        "colab": {
          "base_uri": "https://localhost:8080/",
          "height": 181
        },
        "id": "uS2PMdiIiUfS",
        "outputId": "ae8af51b-abb5-4674-90e0-cab46b53577c"
      },
      "outputs": [
        {
          "output_type": "display_data",
          "data": {
            "text/plain": [
              "Matrix([\n",
              "[   cos(alpha/2)],\n",
              "[              0],\n",
              "[              0],\n",
              "[-I*sin(alpha/2)]])"
            ],
            "text/latex": "$\\displaystyle \\left[\\begin{matrix}\\cos{\\left(\\frac{\\alpha}{2} \\right)}\\\\0\\\\0\\\\- i \\sin{\\left(\\frac{\\alpha}{2} \\right)}\\end{matrix}\\right]$"
          },
          "metadata": {}
        },
        {
          "output_type": "execute_result",
          "data": {
            "text/plain": [
              "Matrix([\n",
              "[   cos(alpha/2),               0, -I*sin(alpha/2),               0],\n",
              "[              0,    cos(alpha/2),               0, -I*sin(alpha/2)],\n",
              "[              0, -I*sin(alpha/2),               0,    cos(alpha/2)],\n",
              "[-I*sin(alpha/2),               0,    cos(alpha/2),               0]])"
            ],
            "text/latex": "$\\displaystyle \\left[\\begin{matrix}\\cos{\\left(\\frac{\\alpha}{2} \\right)} & 0 & - i \\sin{\\left(\\frac{\\alpha}{2} \\right)} & 0\\\\0 & \\cos{\\left(\\frac{\\alpha}{2} \\right)} & 0 & - i \\sin{\\left(\\frac{\\alpha}{2} \\right)}\\\\0 & - i \\sin{\\left(\\frac{\\alpha}{2} \\right)} & 0 & \\cos{\\left(\\frac{\\alpha}{2} \\right)}\\\\- i \\sin{\\left(\\frac{\\alpha}{2} \\right)} & 0 & \\cos{\\left(\\frac{\\alpha}{2} \\right)} & 0\\end{matrix}\\right]$"
          },
          "metadata": {},
          "execution_count": 102
        }
      ],
      "source": [
        "from pytket import Circuit\n",
        "from pytket.utils.symbolic import circuit_apply_symbolic_statevector, circuit_to_symbolic_unitary\n",
        "from sympy import Symbol, pi\n",
        "a = Symbol(\"alpha\")\n",
        "circ = Circuit(2)\n",
        "circ.Rx(a/pi, 0).CX(0, 1)\n",
        "display(circuit_apply_symbolic_statevector(circ)) # all zero input state is default if None is provided\n",
        "circuit_to_symbolic_unitary(circ)\n"
      ]
    },
    {
      "cell_type": "markdown",
      "metadata": {
        "id": "j6pT_T-Wi7q2"
      },
      "source": [
        "## Advanced Topics\n",
        "### Custom parameterised Gates"
      ]
    },
    {
      "cell_type": "code",
      "execution_count": null,
      "metadata": {
        "colab": {
          "base_uri": "https://localhost:8080/"
        },
        "id": "vyKg7zl4jIfk",
        "outputId": "8cec4b05-9a0a-4b59-f644-8f0cc68a53e7"
      },
      "outputs": [
        {
          "output_type": "stream",
          "name": "stdout",
          "text": [
            "[MyCRx(0.2) q[0], q[1];, MyCRx(0.3) q[0], q[2];]\n",
            "{b}\n"
          ]
        }
      ],
      "source": [
        "from pytket.circuit import Circuit, CustomGateDef\n",
        "from sympy import symbols\n",
        "a, b = symbols(\"a b\")\n",
        "def_circ = Circuit(2)\n",
        "def_circ.CZ(0, 1)\n",
        "def_circ.Rx(a, 1)\n",
        "def_circ.CZ(0, 1)\n",
        "def_circ.Rx(-a, 1)\n",
        "def_circ.Rz(b, 0)\n",
        "\n",
        "gate_def = CustomGateDef.define(\"MyCRx\", def_circ, [a])\n",
        "circ = Circuit(3)\n",
        "circ.add_custom_gate(gate_def, [0.2], [0, 1])\n",
        "circ.add_custom_gate(gate_def, [0.3], [0, 2])\n",
        "\n",
        "print(circ.get_commands())\n",
        "print(circ.free_symbols())"
      ]
    },
    {
      "cell_type": "code",
      "execution_count": null,
      "metadata": {
        "id": "J_h9uJgZjOKE",
        "colab": {
          "base_uri": "https://localhost:8080/"
        },
        "outputId": "f4367e4d-7ab1-45cc-8ade-4a512ed46af2"
      },
      "outputs": [
        {
          "output_type": "stream",
          "name": "stdout",
          "text": [
            "X@q[0]\t->\t1 0 0   1 0 0   1\n",
            "X@q[1]\t->\t0 1 1   0 0 0   0\n",
            "X@q[2]\t->\t0 0 1   0 0 0   0\n",
            "--\n",
            "Z@q[0]\t->\t0 0 0   1 0 0   0\n",
            "Z@q[1]\t->\t0 0 0   0 1 0   0\n",
            "Z@q[2]\t->\t0 0 0   0 1 1   0\n",
            "\n"
          ]
        }
      ],
      "source": [
        "from pytket.circuit import OpType, Qubit\n",
        "from pytket.tableau import UnitaryTableau\n",
        "tab = UnitaryTableau(3)\n",
        "tab.apply_gate_at_end(OpType.S, [Qubit(0)])\n",
        "tab.apply_gate_at_end(OpType.CX, [Qubit(1), Qubit(2)])\n",
        "print(tab)"
      ]
    },
    {
      "cell_type": "code",
      "execution_count": null,
      "metadata": {
        "id": "B3K3rMcGtgwH",
        "colab": {
          "base_uri": "https://localhost:8080/"
        },
        "outputId": "239a6da6-9afd-4cb7-c871-4271125b622c"
      },
      "outputs": [
        {
          "output_type": "stream",
          "name": "stdout",
          "text": [
            "[X q[0]; X q[1]; X q[2]; Z q[1]; S q[2]; CX q[1], q[0]; S q[2]; S q[0]; S q[1]; H q[2]; CX q[1], q[0]; S q[2]; S q[0]; S q[1]; V q[2]; H q[0]; H q[1]; CX q[1], q[0]; S q[0]; S q[1]; CX q[1], q[0]; CX q[1], q[0]; V q[0]; ]\n"
          ]
        }
      ],
      "source": [
        "from pytket.circuit import Circuit\n",
        "from pytket.passes import DecomposeBoxes\n",
        "from pytket.tableau import UnitaryTableauBox\n",
        "box = UnitaryTableauBox(\n",
        "    np.asarray([[1,1,0],[0,1,0],[0,0,1]], dtype=bool),\n",
        "    np.asarray([[0,0,0],[0,0,0],[0,0,1]], dtype=bool),\n",
        "    np.asarray([0,0,1], dtype=bool),\n",
        "    np.asarray([[0,0,0],[0,1,0],[0,0,0]], dtype=bool),\n",
        "    np.asarray([[1,0,0],[1,1,0],[0,0,1]], dtype=bool),\n",
        "    np.asarray([1,0,1], dtype=bool)\n",
        ")\n",
        "circ = Circuit(3)\n",
        "circ.add_gate(box, [0, 1, 2])\n",
        "DecomposeBoxes().apply(circ)\n",
        "print(repr(circ))"
      ]
    },
    {
      "cell_type": "markdown",
      "metadata": {
        "id": "n8PO_fwYtlAF"
      },
      "source": [
        "## Classical and conditional operations"
      ]
    },
    {
      "cell_type": "code",
      "execution_count": null,
      "metadata": {
        "colab": {
          "base_uri": "https://localhost:8080/"
        },
        "id": "l6SXrFZBtp0U",
        "outputId": "aeeed2c2-d7f5-493d-ce19-10f72e89c057"
      },
      "outputs": [
        {
          "output_type": "execute_result",
          "data": {
            "text/plain": [
              "[IF ([a[0]] == 1) THEN H q[0]; IF ([a[2]] == 0) THEN T q[1]; ClassicalExpBox a[2], a[3], tk_SCRATCH_BIT[0]; ClassicalExpBox a[2], a[3], tk_SCRATCH_BIT[1]; ClassicalExpBox a[0], a[1], a[2], a[3], tk_SCRATCH_BIT[2]; RangePredicate([3,3]) a[0], a[1], a[2], a[3], tk_SCRATCH_BIT[3]; RangePredicate([5,5]) c[0], c[1], c[2], tk_SCRATCH_BIT[4]; RangePredicate([0,5]) b[0], b[1], b[2], tk_SCRATCH_BIT[5]; RangePredicate([4,4294967295]) b[0], b[1], b[2], tk_SCRATCH_BIT[6]; RangePredicate([0,6]) c[0], c[1], c[2], tk_SCRATCH_BIT[7]; RangePredicate([3,4294967295]) a[0], a[1], a[2], a[3], tk_SCRATCH_BIT[8]; ClassicalExpBox a[0], a[1], a[2], a[3], b[0], b[1], b[2], c[0], c[1], c[2], tk_SCRATCH_BITREG_0[0], tk_SCRATCH_BITREG_0[1], tk_SCRATCH_BITREG_0[2]; IF ([a[0]] == 1) THEN X q[0]; IF ([tk_SCRATCH_BIT[1]] == 0) THEN Z q[1]; IF ([tk_SCRATCH_BIT[5]] == 1) THEN X q[3]; IF ([tk_SCRATCH_BIT[4]] == 0) THEN Y q[4]; IF ([tk_SCRATCH_BIT[6]] == 1) THEN Z q[5]; IF ([tk_SCRATCH_BIT[7]] == 1) THEN S q[6]; IF ([tk_SCRATCH_BIT[8]] == 1) THEN T q[7]; RangePredicate([3,3]) tk_SCRATCH_BITREG_0[0], tk_SCRATCH_BITREG_0[1], tk_SCRATCH_BITREG_0[2], tk_SCRATCH_BIT[9]; IF ([tk_SCRATCH_BIT[0]] == 1) THEN Z q[0]; IF ([tk_SCRATCH_BIT[2]] == 1) THEN CX q[1], q[2]; IF ([tk_SCRATCH_BIT[9]] == 1) THEN CX q[3], q[4]; IF ([tk_SCRATCH_BIT[3]] == 1) THEN H q[2]; ]"
            ]
          },
          "metadata": {},
          "execution_count": 51
        }
      ],
      "source": [
        "from pytket.circuit import (\n",
        "    Circuit,\n",
        "    BitRegister,\n",
        "    if_bit,\n",
        "    if_not_bit,\n",
        "    reg_eq,\n",
        "    reg_geq,\n",
        "    reg_gt,\n",
        "    reg_leq,\n",
        "    reg_lt,\n",
        "    reg_neq,\n",
        ")\n",
        "# create a circuit and add quantum and classical registers\n",
        "circ = Circuit()\n",
        "qreg = circ.add_q_register(\"q\", 10)\n",
        "reg_a = circ.add_c_register(\"a\", 4)\n",
        "# another way of adding a register to the Circuit\n",
        "reg_b = BitRegister(\"b\", 3)\n",
        "circ.add_c_register(reg_b)\n",
        "reg_c = circ.add_c_register(\"c\", 3)\n",
        "\n",
        "# if (reg_a[0] == 1)\n",
        "circ.H(qreg[0], condition=reg_a[0])\n",
        "circ.X(qreg[0], condition=if_bit(reg_a[0]))\n",
        "\n",
        "# if (reg_a[2] == 0)\n",
        "circ.T(qreg[1], condition=if_not_bit(reg_a[2]))\n",
        "\n",
        "# compound logical expressions\n",
        "circ.Z(qreg[0], condition=(reg_a[2] & reg_a[3]))\n",
        "circ.Z(qreg[1], condition=if_not_bit(reg_a[2] & reg_a[3]))\n",
        "big_exp = reg_a[0] | reg_a[1] ^ reg_a[2] & reg_a[3]\n",
        "# syntactic sugar for big_exp = BitOr(reg_a[0], BitXor(reg_a[1], BitAnd(reg_a[2], reg_a[3])))\n",
        "circ.CX(qreg[1], qreg[2], condition=big_exp)\n",
        "\n",
        "# Register comparisons\n",
        "\n",
        "# if (reg_a == 3)\n",
        "circ.H(qreg[2], condition=reg_eq(reg_a, 3))\n",
        "# if (reg_c != 6)\n",
        "circ.Y(qreg[4], condition=reg_neq(reg_c, 5))\n",
        "# if (reg_b < 6)\n",
        "circ.X(qreg[3], condition=reg_lt(reg_b, 6))\n",
        "# if (reg_b > 3)\n",
        "circ.Z(qreg[5], condition=reg_gt(reg_b, 3))\n",
        "# if (reg_c <= 6)\n",
        "circ.S(qreg[6], condition=reg_leq(reg_c, 6))\n",
        "# if (reg_a >= 3)\n",
        "circ.T(qreg[7], condition=reg_geq(reg_a, 3))\n",
        "# compound register expressions\n",
        "big_reg_exp = (reg_a & reg_b) | reg_c\n",
        "circ.CX(qreg[3], qreg[4], condition=reg_eq(big_reg_exp, 3))"
      ]
    },
    {
      "cell_type": "code",
      "execution_count": null,
      "metadata": {
        "id": "2-r9mwHTtxnE",
        "colab": {
          "base_uri": "https://localhost:8080/"
        },
        "outputId": "aa9219d8-a613-4217-d15e-cb087ca92f87"
      },
      "outputs": [
        {
          "output_type": "execute_result",
          "data": {
            "text/plain": [
              "[SetBits(1100) a[0], a[1], a[2], a[3]; SetBits(1) a[0]; CopyBits a[0], a[1], a[2], b[0], b[1], b[2]; RangePredicate([2,4294967295]) a[0], a[1], a[2], a[3], tk_SCRATCH_BIT[0]; CopyBits a[2], b[1]; IF ([tk_SCRATCH_BIT[0]] == 1) THEN SetBits(110) b[0], b[1], b[2]; ClassicalExpBox a[0], a[1], a[2], a[3], b[0], b[1], b[2], c[0], c[1], c[2]; ClassicalExpBox a[1], b[2], c[0]; ClassicalExpBox a[0], a[1], a[2], a[3], b[0], b[1], b[2], c[0], c[1], c[2]; ClassicalExpBox b[0], b[1], b[2], c[0], c[1], c[2], a[0], a[1], a[2], a[3]; ClassicalExpBox a[0], a[1], a[2], a[3]; ClassicalExpBox b[0], b[1], b[2], c[0], c[1], c[2]; ]"
            ]
          },
          "metadata": {},
          "execution_count": 106
        }
      ],
      "source": [
        "from pytket.circuit import Circuit, reg_gt\n",
        "\n",
        "# create a circuit and add some classical registers\n",
        "circ = Circuit()\n",
        "reg_a = circ.add_c_register(\"a\", 4)\n",
        "reg_b = circ.add_c_register(\"b\", 3)\n",
        "reg_c = circ.add_c_register(\"c\", 3)\n",
        "\n",
        "\n",
        "# Write to classical registers\n",
        "\n",
        "# a = 3\n",
        "circ.add_c_setreg(3, reg_a)\n",
        "# a[0] = 1\n",
        "circ.add_c_setbits([1], [reg_a[0]])\n",
        "# Copy: b = a\n",
        "# b is smaller than a so the first 3 bits of a will be copied\n",
        "circ.add_c_copyreg(reg_a, reg_b)\n",
        "# b[1] = a[2]\n",
        "circ.add_c_copybits([reg_a[2]], [reg_b[1]])\n",
        "\n",
        "# Conditional classical operation\n",
        "\n",
        "# if (a > 1) b = 3\n",
        "circ.add_c_setreg(3, reg_b, condition=reg_gt(reg_a, 1))\n",
        "\n",
        "# Write out the results of logical expressions\n",
        "\n",
        "# c = a ^ b\n",
        "circ.add_classicalexpbox_register(reg_a ^ reg_b, reg_c)\n",
        "# c[0] = a[1] & b[2]\n",
        "circ.add_classicalexpbox_bit(reg_a[1] & reg_b[2], [reg_c[0]])\n",
        "\n",
        "# Register arithmetic\n",
        "\n",
        "# c = a + b // c (note the use of the floor divide symbol)\n",
        "circ.add_classicalexpbox_register(reg_a + reg_b // reg_c, reg_c)\n",
        "# a = a - b * c\n",
        "circ.add_classicalexpbox_register(reg_a - reg_b * reg_c, reg_a)\n",
        "# a = a << 2\n",
        "circ.add_classicalexpbox_register(reg_a << 2, reg_a)\n",
        "# c = b >> 1\n",
        "circ.add_classicalexpbox_register(reg_b >> 1, reg_c)"
      ]
    },
    {
      "cell_type": "markdown",
      "source": [
        "## Circuit-Level Operations"
      ],
      "metadata": {
        "id": "4-Bor9oPxWt2"
      }
    },
    {
      "cell_type": "code",
      "source": [
        "from pytket import Circuit\n",
        "# we want a circuit for E = exp(-i pi (0.3 XX + 0.1 YY))\n",
        "circ = Circuit(2)\n",
        "\n",
        "# find C such that C; Rx(a, 0); C^dagger performs exp(-i a pi XX/2)\n",
        "# and C; Rz(b, 1); C^dagger performs exp(-i b pi YY/2)\n",
        "conj = Circuit(2)\n",
        "conj.V(0).V(1).CX(0, 1)\n",
        "conj_dag = conj.dagger()\n",
        "\n",
        "circ.append(conj)\n",
        "circ.Rx(0.6, 0).Rz(0.2, 1)\n",
        "circ.append(conj_dag)"
      ],
      "metadata": {
        "id": "mfpg_4EzxaV2"
      },
      "execution_count": null,
      "outputs": []
    },
    {
      "cell_type": "markdown",
      "source": [
        "## Implicit Qubit Permutations"
      ],
      "metadata": {
        "id": "IvUDOT-txf5U"
      }
    },
    {
      "cell_type": "code",
      "source": [
        "from pytket import Circuit\n",
        "from pytket.utils import Graph\n",
        "circ = Circuit(4)\n",
        "circ.CX(0, 1)\n",
        "circ.CX(1, 0)\n",
        "circ.Rx(0.2, 1)\n",
        "circ.CZ(0, 1)\n",
        "\n",
        "print(circ.get_commands())\n",
        "Graph(circ).get_DAG()"
      ],
      "metadata": {
        "colab": {
          "base_uri": "https://localhost:8080/",
          "height": 189
        },
        "id": "-K_EQmyixl8l",
        "outputId": "61bb4583-5258-4b6e-d48b-fa1b5c8b96ec"
      },
      "execution_count": null,
      "outputs": [
        {
          "output_type": "stream",
          "name": "stdout",
          "text": [
            "[CX q[0], q[1];, CX q[1], q[0];, Rx(0.2) q[1];, CZ q[0], q[1];]\n"
          ]
        },
        {
          "output_type": "execute_result",
          "data": {
            "image/svg+xml": "<?xml version=\"1.0\" encoding=\"UTF-8\" standalone=\"no\"?>\n<!DOCTYPE svg PUBLIC \"-//W3C//DTD SVG 1.1//EN\"\n \"http://www.w3.org/Graphics/SVG/1.1/DTD/svg11.dtd\">\n<!-- Generated by graphviz version 2.40.1 (20161225.0304)\n -->\n<!-- Title: Circuit Pages: 1 -->\n<svg width=\"255pt\" height=\"113pt\"\n viewBox=\"0.00 0.00 254.60 113.00\" xmlns=\"http://www.w3.org/2000/svg\" xmlns:xlink=\"http://www.w3.org/1999/xlink\">\n<g id=\"graph0\" class=\"graph\" transform=\"scale(1 1) rotate(0) translate(4 109)\">\n<title>Circuit</title>\n<polygon fill=\"#ffffff\" stroke=\"transparent\" points=\"-4,4 -4,-109 250.6,-109 250.6,4 -4,4\"/>\n<g id=\"clust1\" class=\"cluster\">\n<title>cluster_q_inputs</title>\n<path fill=\"#d3d3d3\" stroke=\"#d3d3d3\" d=\"M21.5333,-9C21.5333,-9 26.0667,-9 26.0667,-9 28.3333,-9 30.6,-11.2667 30.6,-13.5333 30.6,-13.5333 30.6,-63.4667 30.6,-63.4667 30.6,-65.7333 28.3333,-68 26.0667,-68 26.0667,-68 21.5333,-68 21.5333,-68 19.2667,-68 17,-65.7333 17,-63.4667 17,-63.4667 17,-13.5333 17,-13.5333 17,-11.2667 19.2667,-9 21.5333,-9\"/>\n</g>\n<g id=\"clust3\" class=\"cluster\">\n<title>cluster_q_outputs</title>\n<path fill=\"#d3d3d3\" stroke=\"#d3d3d3\" d=\"M229.5333,-8C229.5333,-8 234.0667,-8 234.0667,-8 236.3333,-8 238.6,-10.2667 238.6,-12.5333 238.6,-12.5333 238.6,-62.4667 238.6,-62.4667 238.6,-64.7333 236.3333,-67 234.0667,-67 234.0667,-67 229.5333,-67 229.5333,-67 227.2667,-67 225,-64.7333 225,-62.4667 225,-62.4667 225,-12.5333 225,-12.5333 225,-10.2667 227.2667,-8 229.5333,-8\"/>\n</g>\n<g id=\"clust5\" class=\"cluster\">\n<title>cluster_8</title>\n<path fill=\"#add8e6\" stroke=\"#add8e6\" d=\"M52.4667,-42C52.4667,-42 62.3333,-42 62.3333,-42 67.2667,-42 72.2,-46.9333 72.2,-51.8667 72.2,-51.8667 72.2,-80.1333 72.2,-80.1333 72.2,-85.0667 67.2667,-90 62.3333,-90 62.3333,-90 52.4667,-90 52.4667,-90 47.5333,-90 42.6,-85.0667 42.6,-80.1333 42.6,-80.1333 42.6,-51.8667 42.6,-51.8667 42.6,-46.9333 47.5333,-42 52.4667,-42\"/>\n<text text-anchor=\"middle\" x=\"57.4\" y=\"-78\" font-family=\"Times,serif\" font-size=\"10.00\" fill=\"#000000\">CX</text>\n</g>\n<g id=\"clust6\" class=\"cluster\">\n<title>cluster_9</title>\n<path fill=\"#add8e6\" stroke=\"#add8e6\" d=\"M94.0667,-44C94.0667,-44 103.9333,-44 103.9333,-44 108.8667,-44 113.8,-48.9333 113.8,-53.8667 113.8,-53.8667 113.8,-82.1333 113.8,-82.1333 113.8,-87.0667 108.8667,-92 103.9333,-92 103.9333,-92 94.0667,-92 94.0667,-92 89.1333,-92 84.2,-87.0667 84.2,-82.1333 84.2,-82.1333 84.2,-53.8667 84.2,-53.8667 84.2,-48.9333 89.1333,-44 94.0667,-44\"/>\n<text text-anchor=\"middle\" x=\"99\" y=\"-80\" font-family=\"Times,serif\" font-size=\"10.00\" fill=\"#000000\">CX</text>\n</g>\n<g id=\"clust7\" class=\"cluster\">\n<title>cluster_10</title>\n<path fill=\"#add8e6\" stroke=\"#add8e6\" d=\"M136.8,-64C136.8,-64 161.4,-64 161.4,-64 166.9,-64 172.4,-69.5 172.4,-75 172.4,-75 172.4,-86 172.4,-86 172.4,-91.5 166.9,-97 161.4,-97 161.4,-97 136.8,-97 136.8,-97 131.3,-97 125.8,-91.5 125.8,-86 125.8,-86 125.8,-75 125.8,-75 125.8,-69.5 131.3,-64 136.8,-64\"/>\n<text text-anchor=\"middle\" x=\"149.1\" y=\"-85\" font-family=\"Times,serif\" font-size=\"10.00\" fill=\"#000000\">Rx(0.2)</text>\n</g>\n<g id=\"clust8\" class=\"cluster\">\n<title>cluster_11</title>\n<path fill=\"#add8e6\" stroke=\"#add8e6\" d=\"M193.9333,-43C193.9333,-43 203.4667,-43 203.4667,-43 208.2333,-43 213,-47.7667 213,-52.5333 213,-52.5333 213,-81.4667 213,-81.4667 213,-86.2333 208.2333,-91 203.4667,-91 203.4667,-91 193.9333,-91 193.9333,-91 189.1667,-91 184.4,-86.2333 184.4,-81.4667 184.4,-81.4667 184.4,-52.5333 184.4,-52.5333 184.4,-47.7667 189.1667,-43 193.9333,-43\"/>\n<text text-anchor=\"middle\" x=\"198.7\" y=\"-79\" font-family=\"Times,serif\" font-size=\"10.00\" fill=\"#000000\">CZ</text>\n</g>\n<!-- (0, 0) -->\n<g id=\"node1\" class=\"node\">\n<title>(0, 0)</title>\n<ellipse fill=\"#0000ff\" stroke=\"#0000ff\" cx=\"23.8\" cy=\"-46\" rx=\"1.8\" ry=\"1.8\"/>\n<text text-anchor=\"middle\" x=\"11\" y=\"-37.8\" font-family=\"Courier,monospace\" font-size=\"8.00\" fill=\"#000000\">q[0]</text>\n</g>\n<!-- (8, 0) -->\n<g id=\"node9\" class=\"node\">\n<title>(8, 0)</title>\n<ellipse fill=\"#000000\" stroke=\"#000000\" cx=\"57.4\" cy=\"-49\" rx=\"1.8\" ry=\"1.8\"/>\n<text text-anchor=\"middle\" x=\"53.1\" y=\"-40.8\" font-family=\"Helvetica,sans-Serif\" font-size=\"8.00\" fill=\"#000000\">0</text>\n</g>\n<!-- (0, 0)&#45;&gt;(8, 0) -->\n<g id=\"edge1\" class=\"edge\">\n<title>(0, 0)&#45;&gt;(8, 0)</title>\n<path fill=\"none\" stroke=\"#0000ff\" d=\"M25.6065,-46.1613C30.7539,-46.6209 45.6033,-47.9467 53.0433,-48.611\"/>\n<polygon fill=\"#0000ff\" stroke=\"#0000ff\" points=\"55.4174,-48.823 53.3252,-49.7656 54.4214,-48.734 53.4253,-48.645 53.4253,-48.645 53.4253,-48.645 54.4214,-48.734 53.5254,-47.5245 55.4174,-48.823 55.4174,-48.823\"/>\n</g>\n<!-- (2, 0) -->\n<g id=\"node2\" class=\"node\">\n<title>(2, 0)</title>\n<ellipse fill=\"#0000ff\" stroke=\"#0000ff\" cx=\"23.8\" cy=\"-61\" rx=\"1.8\" ry=\"1.8\"/>\n<text text-anchor=\"middle\" x=\"11\" y=\"-52.8\" font-family=\"Courier,monospace\" font-size=\"8.00\" fill=\"#000000\">q[1]</text>\n</g>\n<!-- (8, 1) -->\n<g id=\"node10\" class=\"node\">\n<title>(8, 1)</title>\n<ellipse fill=\"#000000\" stroke=\"#000000\" cx=\"57.4\" cy=\"-64\" rx=\"1.8\" ry=\"1.8\"/>\n<text text-anchor=\"middle\" x=\"53.1\" y=\"-55.8\" font-family=\"Helvetica,sans-Serif\" font-size=\"8.00\" fill=\"#000000\">1</text>\n</g>\n<!-- (2, 0)&#45;&gt;(8, 1) -->\n<g id=\"edge2\" class=\"edge\">\n<title>(2, 0)&#45;&gt;(8, 1)</title>\n<path fill=\"none\" stroke=\"#0000ff\" d=\"M25.6065,-61.1613C30.7539,-61.6209 45.6033,-62.9467 53.0433,-63.611\"/>\n<polygon fill=\"#0000ff\" stroke=\"#0000ff\" points=\"55.4174,-63.823 53.3252,-64.7656 54.4214,-63.734 53.4253,-63.645 53.4253,-63.645 53.4253,-63.645 54.4214,-63.734 53.5254,-62.5245 55.4174,-63.823 55.4174,-63.823\"/>\n</g>\n<!-- (4, 0) -->\n<g id=\"node3\" class=\"node\">\n<title>(4, 0)</title>\n<ellipse fill=\"#0000ff\" stroke=\"#0000ff\" cx=\"23.8\" cy=\"-31\" rx=\"1.8\" ry=\"1.8\"/>\n<text text-anchor=\"middle\" x=\"11\" y=\"-22.8\" font-family=\"Courier,monospace\" font-size=\"8.00\" fill=\"#000000\">q[2]</text>\n</g>\n<!-- (5, 0) -->\n<g id=\"node7\" class=\"node\">\n<title>(5, 0)</title>\n<ellipse fill=\"#0000ff\" stroke=\"#0000ff\" cx=\"231.8\" cy=\"-30\" rx=\"1.8\" ry=\"1.8\"/>\n<text text-anchor=\"middle\" x=\"219\" y=\"-21.8\" font-family=\"Courier,monospace\" font-size=\"8.00\" fill=\"#000000\">q[2]</text>\n</g>\n<!-- (4, 0)&#45;&gt;(5, 0) -->\n<g id=\"edge3\" class=\"edge\">\n<title>(4, 0)&#45;&gt;(5, 0)</title>\n<path fill=\"none\" stroke=\"#0000ff\" d=\"M25.6599,-30.9141C34.1113,-30.5313 69.7452,-29 99,-29 99,-29 99,-29 148.6,-29 178.9355,-29 215.4882,-29.6729 227.6448,-29.9147\"/>\n<polygon fill=\"#0000ff\" stroke=\"#0000ff\" points=\"229.7418,-29.957 227.7194,-31.0414 228.742,-29.9368 227.7422,-29.9166 227.7422,-29.9166 227.7422,-29.9166 228.742,-29.9368 227.7649,-28.7918 229.7418,-29.957 229.7418,-29.957\"/>\n</g>\n<!-- (6, 0) -->\n<g id=\"node4\" class=\"node\">\n<title>(6, 0)</title>\n<ellipse fill=\"#0000ff\" stroke=\"#0000ff\" cx=\"23.8\" cy=\"-16\" rx=\"1.8\" ry=\"1.8\"/>\n<text text-anchor=\"middle\" x=\"11\" y=\"-7.8\" font-family=\"Courier,monospace\" font-size=\"8.00\" fill=\"#000000\">q[3]</text>\n</g>\n<!-- (7, 0) -->\n<g id=\"node8\" class=\"node\">\n<title>(7, 0)</title>\n<ellipse fill=\"#0000ff\" stroke=\"#0000ff\" cx=\"231.8\" cy=\"-15\" rx=\"1.8\" ry=\"1.8\"/>\n<text text-anchor=\"middle\" x=\"219\" y=\"-6.8\" font-family=\"Courier,monospace\" font-size=\"8.00\" fill=\"#000000\">q[3]</text>\n</g>\n<!-- (6, 0)&#45;&gt;(7, 0) -->\n<g id=\"edge4\" class=\"edge\">\n<title>(6, 0)&#45;&gt;(7, 0)</title>\n<path fill=\"none\" stroke=\"#0000ff\" d=\"M25.6483,-15.5703C34.0495,-13.6563 69.4981,-6 99,-6 99,-6 99,-6 148.6,-6 179.1103,-6 215.551,-12.0562 227.6617,-14.2327\"/>\n<polygon fill=\"#0000ff\" stroke=\"#0000ff\" points=\"229.7505,-14.6133 227.5812,-15.3614 228.7667,-14.434 227.7829,-14.2547 227.7829,-14.2547 227.7829,-14.2547 228.7667,-14.434 227.9846,-13.1479 229.7505,-14.6133 229.7505,-14.6133\"/>\n</g>\n<!-- (1, 0) -->\n<g id=\"node5\" class=\"node\">\n<title>(1, 0)</title>\n<ellipse fill=\"#0000ff\" stroke=\"#0000ff\" cx=\"231.8\" cy=\"-45\" rx=\"1.8\" ry=\"1.8\"/>\n<text text-anchor=\"middle\" x=\"219\" y=\"-36.8\" font-family=\"Courier,monospace\" font-size=\"8.00\" fill=\"#000000\">q[0]</text>\n</g>\n<!-- (3, 0) -->\n<g id=\"node6\" class=\"node\">\n<title>(3, 0)</title>\n<ellipse fill=\"#0000ff\" stroke=\"#0000ff\" cx=\"231.8\" cy=\"-60\" rx=\"1.8\" ry=\"1.8\"/>\n<text text-anchor=\"middle\" x=\"219\" y=\"-51.8\" font-family=\"Courier,monospace\" font-size=\"8.00\" fill=\"#000000\">q[1]</text>\n</g>\n<!-- (9, 1) -->\n<g id=\"node12\" class=\"node\">\n<title>(9, 1)</title>\n<ellipse fill=\"#000000\" stroke=\"#000000\" cx=\"99\" cy=\"-51\" rx=\"1.8\" ry=\"1.8\"/>\n<text text-anchor=\"middle\" x=\"94.7\" y=\"-42.8\" font-family=\"Helvetica,sans-Serif\" font-size=\"8.00\" fill=\"#000000\">1</text>\n</g>\n<!-- (8, 0)&#45;&gt;(9, 1) -->\n<g id=\"edge5\" class=\"edge\">\n<title>(8, 0)&#45;&gt;(9, 1)</title>\n<path fill=\"none\" stroke=\"#0000ff\" d=\"M59.6366,-49.1075C66.2437,-49.4252 85.7619,-50.3636 94.5832,-50.7877\"/>\n<polygon fill=\"#0000ff\" stroke=\"#0000ff\" points=\"96.9512,-50.9015 94.8995,-51.9291 95.9524,-50.8534 94.9535,-50.8054 94.9535,-50.8054 94.9535,-50.8054 95.9524,-50.8534 95.0076,-49.6817 96.9512,-50.9015 96.9512,-50.9015\"/>\n</g>\n<!-- (9, 0) -->\n<g id=\"node11\" class=\"node\">\n<title>(9, 0)</title>\n<ellipse fill=\"#000000\" stroke=\"#000000\" cx=\"99\" cy=\"-66\" rx=\"1.8\" ry=\"1.8\"/>\n<text text-anchor=\"middle\" x=\"94.7\" y=\"-57.8\" font-family=\"Helvetica,sans-Serif\" font-size=\"8.00\" fill=\"#000000\">0</text>\n</g>\n<!-- (8, 1)&#45;&gt;(9, 0) -->\n<g id=\"edge6\" class=\"edge\">\n<title>(8, 1)&#45;&gt;(9, 0)</title>\n<path fill=\"none\" stroke=\"#0000ff\" d=\"M59.6366,-64.1075C66.2437,-64.4252 85.7619,-65.3636 94.5832,-65.7877\"/>\n<polygon fill=\"#0000ff\" stroke=\"#0000ff\" points=\"96.9512,-65.9015 94.8995,-66.9291 95.9524,-65.8534 94.9535,-65.8054 94.9535,-65.8054 94.9535,-65.8054 95.9524,-65.8534 95.0076,-64.6817 96.9512,-65.9015 96.9512,-65.9015\"/>\n</g>\n<!-- (10, 0) -->\n<g id=\"node13\" class=\"node\">\n<title>(10, 0)</title>\n<ellipse fill=\"#000000\" stroke=\"#000000\" cx=\"148.6\" cy=\"-71\" rx=\"1.8\" ry=\"1.8\"/>\n</g>\n<!-- (9, 0)&#45;&gt;(10, 0) -->\n<g id=\"edge8\" class=\"edge\">\n<title>(9, 0)&#45;&gt;(10, 0)</title>\n<path fill=\"none\" stroke=\"#0000ff\" d=\"M101.1312,-66.2148C108.7163,-66.9795 134.4815,-69.5768 144.5351,-70.5902\"/>\n<polygon fill=\"#0000ff\" stroke=\"#0000ff\" points=\"146.5319,-70.7915 144.4291,-71.7102 145.5369,-70.6912 144.542,-70.5908 144.542,-70.5908 144.542,-70.5908 145.5369,-70.6912 144.6549,-69.4715 146.5319,-70.7915 146.5319,-70.7915\"/>\n</g>\n<!-- (11, 0) -->\n<g id=\"node14\" class=\"node\">\n<title>(11, 0)</title>\n<ellipse fill=\"#000000\" stroke=\"#000000\" cx=\"198.2\" cy=\"-50\" rx=\"1.8\" ry=\"1.8\"/>\n<text text-anchor=\"middle\" x=\"193.9\" y=\"-41.8\" font-family=\"Helvetica,sans-Serif\" font-size=\"8.00\" fill=\"#000000\">0</text>\n</g>\n<!-- (9, 1)&#45;&gt;(11, 0) -->\n<g id=\"edge7\" class=\"edge\">\n<title>(9, 1)&#45;&gt;(11, 0)</title>\n<path fill=\"none\" stroke=\"#0000ff\" d=\"M101.0719,-50.9791C113.3767,-50.8551 176.8915,-50.2148 193.9685,-50.0427\"/>\n<polygon fill=\"#0000ff\" stroke=\"#0000ff\" points=\"196.1395,-50.0208 194.151,-51.166 195.1395,-50.0309 194.1396,-50.041 194.1396,-50.041 194.1396,-50.041 195.1395,-50.0309 194.1282,-48.9161 196.1395,-50.0208 196.1395,-50.0208\"/>\n</g>\n<!-- (11, 1) -->\n<g id=\"node15\" class=\"node\">\n<title>(11, 1)</title>\n<ellipse fill=\"#000000\" stroke=\"#000000\" cx=\"198.2\" cy=\"-65\" rx=\"1.8\" ry=\"1.8\"/>\n<text text-anchor=\"middle\" x=\"193.9\" y=\"-56.8\" font-family=\"Helvetica,sans-Serif\" font-size=\"8.00\" fill=\"#000000\">1</text>\n</g>\n<!-- (10, 0)&#45;&gt;(11, 1) -->\n<g id=\"edge9\" class=\"edge\">\n<title>(10, 0)&#45;&gt;(11, 1)</title>\n<path fill=\"none\" stroke=\"#0000ff\" d=\"M150.7312,-70.7422C158.3163,-69.8246 184.0815,-66.7079 194.1351,-65.4917\"/>\n<polygon fill=\"#0000ff\" stroke=\"#0000ff\" points=\"196.1319,-65.2502 194.2815,-66.6073 195.1391,-65.3703 194.1464,-65.4904 194.1464,-65.4904 194.1464,-65.4904 195.1391,-65.3703 194.0112,-64.3736 196.1319,-65.2502 196.1319,-65.2502\"/>\n</g>\n<!-- (11, 0)&#45;&gt;(1, 0) -->\n<g id=\"edge11\" class=\"edge\">\n<title>(11, 0)&#45;&gt;(1, 0)</title>\n<path fill=\"none\" stroke=\"#0000ff\" d=\"M200.0065,-49.7312C205.2442,-48.9518 220.5274,-46.6775 227.828,-45.5911\"/>\n<polygon fill=\"#0000ff\" stroke=\"#0000ff\" points=\"229.8174,-45.295 228.0048,-46.7022 228.8283,-45.4423 227.8392,-45.5895 227.8392,-45.5895 227.8392,-45.5895 228.8283,-45.4423 227.6736,-44.4767 229.8174,-45.295 229.8174,-45.295\"/>\n</g>\n<!-- (11, 1)&#45;&gt;(3, 0) -->\n<g id=\"edge10\" class=\"edge\">\n<title>(11, 1)&#45;&gt;(3, 0)</title>\n<path fill=\"none\" stroke=\"#0000ff\" d=\"M200.0065,-64.7312C205.2442,-63.9518 220.5274,-61.6775 227.828,-60.5911\"/>\n<polygon fill=\"#0000ff\" stroke=\"#0000ff\" points=\"229.8174,-60.295 228.0048,-61.7022 228.8283,-60.4423 227.8392,-60.5895 227.8392,-60.5895 227.8392,-60.5895 228.8283,-60.4423 227.6736,-59.4767 229.8174,-60.295 229.8174,-60.295\"/>\n</g>\n</g>\n</svg>\n",
            "text/plain": [
              "<graphviz.graphs.Digraph at 0x7f45bb661f10>"
            ]
          },
          "metadata": {},
          "execution_count": 108
        }
      ]
    },
    {
      "cell_type": "code",
      "source": [
        "from pytket.passes import CliffordSimp\n",
        "CliffordSimp().apply(circ)\n",
        "print(circ.get_commands())\n",
        "print(circ.implicit_qubit_permutation())\n",
        "Graph(circ).get_DAG()"
      ],
      "metadata": {
        "colab": {
          "base_uri": "https://localhost:8080/",
          "height": 220
        },
        "id": "j_QG5YiHxrIq",
        "outputId": "9012839b-1abd-4166-82ff-5d7ae1ae0983"
      },
      "execution_count": null,
      "outputs": [
        {
          "output_type": "stream",
          "name": "stdout",
          "text": [
            "[TK1(1.5, 2.2, 0) q[0];, TK1(0, 0, 0.5) q[1];, CX q[1], q[0];, TK1(0, 0, 0.5) q[0];]\n",
            "{q[0]: q[1], q[1]: q[0], q[2]: q[2], q[3]: q[3]}\n"
          ]
        },
        {
          "output_type": "execute_result",
          "data": {
            "image/svg+xml": "<?xml version=\"1.0\" encoding=\"UTF-8\" standalone=\"no\"?>\n<!DOCTYPE svg PUBLIC \"-//W3C//DTD SVG 1.1//EN\"\n \"http://www.w3.org/Graphics/SVG/1.1/DTD/svg11.dtd\">\n<!-- Generated by graphviz version 2.40.1 (20161225.0304)\n -->\n<!-- Title: Circuit Pages: 1 -->\n<svg width=\"289pt\" height=\"123pt\"\n viewBox=\"0.00 0.00 289.00 123.00\" xmlns=\"http://www.w3.org/2000/svg\" xmlns:xlink=\"http://www.w3.org/1999/xlink\">\n<g id=\"graph0\" class=\"graph\" transform=\"scale(1 1) rotate(0) translate(4 119)\">\n<title>Circuit</title>\n<polygon fill=\"#ffffff\" stroke=\"transparent\" points=\"-4,4 -4,-119 285,-119 285,4 -4,4\"/>\n<g id=\"clust1\" class=\"cluster\">\n<title>cluster_q_inputs</title>\n<path fill=\"#d3d3d3\" stroke=\"#d3d3d3\" d=\"M21.5333,-9C21.5333,-9 26.0667,-9 26.0667,-9 28.3333,-9 30.6,-11.2667 30.6,-13.5333 30.6,-13.5333 30.6,-63.4667 30.6,-63.4667 30.6,-65.7333 28.3333,-68 26.0667,-68 26.0667,-68 21.5333,-68 21.5333,-68 19.2667,-68 17,-65.7333 17,-63.4667 17,-63.4667 17,-13.5333 17,-13.5333 17,-11.2667 19.2667,-9 21.5333,-9\"/>\n</g>\n<g id=\"clust3\" class=\"cluster\">\n<title>cluster_q_outputs</title>\n<path fill=\"#d3d3d3\" stroke=\"#d3d3d3\" d=\"M263.9333,-8C263.9333,-8 268.4667,-8 268.4667,-8 270.7333,-8 273,-10.2667 273,-12.5333 273,-12.5333 273,-62.4667 273,-62.4667 273,-64.7333 270.7333,-67 268.4667,-67 268.4667,-67 263.9333,-67 263.9333,-67 261.6667,-67 259.4,-64.7333 259.4,-62.4667 259.4,-62.4667 259.4,-12.5333 259.4,-12.5333 259.4,-10.2667 261.6667,-8 263.9333,-8\"/>\n</g>\n<g id=\"clust5\" class=\"cluster\">\n<title>cluster_8</title>\n<path fill=\"#add8e6\" stroke=\"#add8e6\" d=\"M144.0667,-50C144.0667,-50 153.9333,-50 153.9333,-50 158.8667,-50 163.8,-54.9333 163.8,-59.8667 163.8,-59.8667 163.8,-88.1333 163.8,-88.1333 163.8,-93.0667 158.8667,-98 153.9333,-98 153.9333,-98 144.0667,-98 144.0667,-98 139.1333,-98 134.2,-93.0667 134.2,-88.1333 134.2,-88.1333 134.2,-59.8667 134.2,-59.8667 134.2,-54.9333 139.1333,-50 144.0667,-50\"/>\n<text text-anchor=\"middle\" x=\"149\" y=\"-86\" font-family=\"Times,serif\" font-size=\"10.00\" fill=\"#000000\">CX</text>\n</g>\n<g id=\"clust6\" class=\"cluster\">\n<title>cluster_9</title>\n<path fill=\"#add8e6\" stroke=\"#add8e6\" d=\"M53.6,-74C53.6,-74 111.2,-74 111.2,-74 116.7,-74 122.2,-79.5 122.2,-85 122.2,-85 122.2,-96 122.2,-96 122.2,-101.5 116.7,-107 111.2,-107 111.2,-107 53.6,-107 53.6,-107 48.1,-107 42.6,-101.5 42.6,-96 42.6,-96 42.6,-85 42.6,-85 42.6,-79.5 48.1,-74 53.6,-74\"/>\n<text text-anchor=\"middle\" x=\"82.4\" y=\"-95\" font-family=\"Times,serif\" font-size=\"10.00\" fill=\"#000000\">TK1(1.5, 2.2, 0)</text>\n</g>\n<g id=\"clust7\" class=\"cluster\">\n<title>cluster_10</title>\n<path fill=\"#add8e6\" stroke=\"#add8e6\" d=\"M186.8,-41C186.8,-41 237.4,-41 237.4,-41 242.9,-41 248.4,-46.5 248.4,-52 248.4,-52 248.4,-63 248.4,-63 248.4,-68.5 242.9,-74 237.4,-74 237.4,-74 186.8,-74 186.8,-74 181.3,-74 175.8,-68.5 175.8,-63 175.8,-63 175.8,-52 175.8,-52 175.8,-46.5 181.3,-41 186.8,-41\"/>\n<text text-anchor=\"middle\" x=\"212.1\" y=\"-62\" font-family=\"Times,serif\" font-size=\"10.00\" fill=\"#000000\">TK1(0, 0, 0.5)</text>\n</g>\n<g id=\"clust8\" class=\"cluster\">\n<title>cluster_11</title>\n<path fill=\"#add8e6\" stroke=\"#add8e6\" d=\"M57.6,-41C57.6,-41 108.2,-41 108.2,-41 113.7,-41 119.2,-46.5 119.2,-52 119.2,-52 119.2,-63 119.2,-63 119.2,-68.5 113.7,-74 108.2,-74 108.2,-74 57.6,-74 57.6,-74 52.1,-74 46.6,-68.5 46.6,-63 46.6,-63 46.6,-52 46.6,-52 46.6,-46.5 52.1,-41 57.6,-41\"/>\n<text text-anchor=\"middle\" x=\"82.9\" y=\"-62\" font-family=\"Times,serif\" font-size=\"10.00\" fill=\"#000000\">TK1(0, 0, 0.5)</text>\n</g>\n<!-- (0, 0) -->\n<g id=\"node1\" class=\"node\">\n<title>(0, 0)</title>\n<ellipse fill=\"#0000ff\" stroke=\"#0000ff\" cx=\"23.8\" cy=\"-61\" rx=\"1.8\" ry=\"1.8\"/>\n<text text-anchor=\"middle\" x=\"11\" y=\"-52.8\" font-family=\"Courier,monospace\" font-size=\"8.00\" fill=\"#000000\">q[0]</text>\n</g>\n<!-- (9, 0) -->\n<g id=\"node11\" class=\"node\">\n<title>(9, 0)</title>\n<ellipse fill=\"#000000\" stroke=\"#000000\" cx=\"82.4\" cy=\"-81\" rx=\"1.8\" ry=\"1.8\"/>\n</g>\n<!-- (0, 0)&#45;&gt;(9, 0) -->\n<g id=\"edge1\" class=\"edge\">\n<title>(0, 0)&#45;&gt;(9, 0)</title>\n<path fill=\"none\" stroke=\"#0000ff\" d=\"M25.3852,-62.6239C28.4189,-65.6222 35.3879,-71.9944 42.6,-75 54.7786,-80.0754 70.6429,-80.9279 78.1313,-81.0259\"/>\n<polygon fill=\"#0000ff\" stroke=\"#0000ff\" points=\"80.4888,-81.0342 78.4848,-82.152 79.4888,-81.0306 78.4888,-81.027 78.4888,-81.027 78.4888,-81.027 79.4888,-81.0306 78.4929,-79.9021 80.4888,-81.0342 80.4888,-81.0342\"/>\n</g>\n<!-- (2, 0) -->\n<g id=\"node2\" class=\"node\">\n<title>(2, 0)</title>\n<ellipse fill=\"#0000ff\" stroke=\"#0000ff\" cx=\"23.8\" cy=\"-46\" rx=\"1.8\" ry=\"1.8\"/>\n<text text-anchor=\"middle\" x=\"11\" y=\"-37.8\" font-family=\"Courier,monospace\" font-size=\"8.00\" fill=\"#000000\">q[1]</text>\n</g>\n<!-- (11, 0) -->\n<g id=\"node13\" class=\"node\">\n<title>(11, 0)</title>\n<ellipse fill=\"#000000\" stroke=\"#000000\" cx=\"82.4\" cy=\"-48\" rx=\"1.8\" ry=\"1.8\"/>\n</g>\n<!-- (2, 0)&#45;&gt;(11, 0) -->\n<g id=\"edge2\" class=\"edge\">\n<title>(2, 0)&#45;&gt;(11, 0)</title>\n<path fill=\"none\" stroke=\"#0000ff\" d=\"M25.7497,-46.0665C34.0907,-46.3512 66.8679,-47.4699 78.378,-47.8627\"/>\n<polygon fill=\"#0000ff\" stroke=\"#0000ff\" points=\"80.3829,-47.9312 78.3456,-48.9872 79.3834,-47.897 78.384,-47.8628 78.384,-47.8628 78.384,-47.8628 79.3834,-47.897 78.4224,-46.7385 80.3829,-47.9312 80.3829,-47.9312\"/>\n</g>\n<!-- (4, 0) -->\n<g id=\"node3\" class=\"node\">\n<title>(4, 0)</title>\n<ellipse fill=\"#0000ff\" stroke=\"#0000ff\" cx=\"23.8\" cy=\"-31\" rx=\"1.8\" ry=\"1.8\"/>\n<text text-anchor=\"middle\" x=\"11\" y=\"-22.8\" font-family=\"Courier,monospace\" font-size=\"8.00\" fill=\"#000000\">q[2]</text>\n</g>\n<!-- (5, 0) -->\n<g id=\"node7\" class=\"node\">\n<title>(5, 0)</title>\n<ellipse fill=\"#0000ff\" stroke=\"#0000ff\" cx=\"266.2\" cy=\"-30\" rx=\"1.8\" ry=\"1.8\"/>\n<text text-anchor=\"middle\" x=\"253.4\" y=\"-21.8\" font-family=\"Courier,monospace\" font-size=\"8.00\" fill=\"#000000\">q[2]</text>\n</g>\n<!-- (4, 0)&#45;&gt;(5, 0) -->\n<g id=\"edge3\" class=\"edge\">\n<title>(4, 0)&#45;&gt;(5, 0)</title>\n<path fill=\"none\" stroke=\"#0000ff\" d=\"M25.6118,-30.9925C46.0072,-30.9084 232.2936,-30.1399 262.1668,-30.0166\"/>\n<polygon fill=\"#0000ff\" stroke=\"#0000ff\" points=\"264.3082,-30.0078 262.3129,-31.1411 263.3082,-30.012 262.3083,-30.0161 262.3083,-30.0161 262.3083,-30.0161 263.3082,-30.012 262.3036,-28.8912 264.3082,-30.0078 264.3082,-30.0078\"/>\n</g>\n<!-- (6, 0) -->\n<g id=\"node4\" class=\"node\">\n<title>(6, 0)</title>\n<ellipse fill=\"#0000ff\" stroke=\"#0000ff\" cx=\"23.8\" cy=\"-16\" rx=\"1.8\" ry=\"1.8\"/>\n<text text-anchor=\"middle\" x=\"11\" y=\"-7.8\" font-family=\"Courier,monospace\" font-size=\"8.00\" fill=\"#000000\">q[3]</text>\n</g>\n<!-- (7, 0) -->\n<g id=\"node8\" class=\"node\">\n<title>(7, 0)</title>\n<ellipse fill=\"#0000ff\" stroke=\"#0000ff\" cx=\"266.2\" cy=\"-15\" rx=\"1.8\" ry=\"1.8\"/>\n<text text-anchor=\"middle\" x=\"253.4\" y=\"-6.8\" font-family=\"Courier,monospace\" font-size=\"8.00\" fill=\"#000000\">q[3]</text>\n</g>\n<!-- (6, 0)&#45;&gt;(7, 0) -->\n<g id=\"edge4\" class=\"edge\">\n<title>(6, 0)&#45;&gt;(7, 0)</title>\n<path fill=\"none\" stroke=\"#0000ff\" d=\"M25.6118,-15.9925C46.0072,-15.9084 232.2936,-15.1399 262.1668,-15.0166\"/>\n<polygon fill=\"#0000ff\" stroke=\"#0000ff\" points=\"264.3082,-15.0078 262.3129,-16.1411 263.3082,-15.012 262.3083,-15.0161 262.3083,-15.0161 262.3083,-15.0161 263.3082,-15.012 262.3036,-13.8912 264.3082,-15.0078 264.3082,-15.0078\"/>\n</g>\n<!-- (1, 0) -->\n<g id=\"node5\" class=\"node\">\n<title>(1, 0)</title>\n<ellipse fill=\"#0000ff\" stroke=\"#0000ff\" cx=\"266.2\" cy=\"-60\" rx=\"1.8\" ry=\"1.8\"/>\n<text text-anchor=\"middle\" x=\"253.4\" y=\"-51.8\" font-family=\"Courier,monospace\" font-size=\"8.00\" fill=\"#000000\">q[0]</text>\n</g>\n<!-- (3, 0) -->\n<g id=\"node6\" class=\"node\">\n<title>(3, 0)</title>\n<ellipse fill=\"#0000ff\" stroke=\"#0000ff\" cx=\"266.2\" cy=\"-45\" rx=\"1.8\" ry=\"1.8\"/>\n<text text-anchor=\"middle\" x=\"253.4\" y=\"-36.8\" font-family=\"Courier,monospace\" font-size=\"8.00\" fill=\"#000000\">q[1]</text>\n</g>\n<!-- (8, 0) -->\n<g id=\"node9\" class=\"node\">\n<title>(8, 0)</title>\n<ellipse fill=\"#000000\" stroke=\"#000000\" cx=\"149\" cy=\"-57\" rx=\"1.8\" ry=\"1.8\"/>\n<text text-anchor=\"middle\" x=\"144.7\" y=\"-48.8\" font-family=\"Helvetica,sans-Serif\" font-size=\"8.00\" fill=\"#000000\">0</text>\n</g>\n<!-- (8, 0)&#45;&gt;(1, 0) -->\n<g id=\"edge5\" class=\"edge\">\n<title>(8, 0)&#45;&gt;(1, 0)</title>\n<path fill=\"none\" stroke=\"#0000ff\" d=\"M150.7975,-57.8275C153.651,-59.1724 159.3497,-61.987 163.8,-65 169.5488,-68.8921 169.2722,-72.6366 175.8,-75 206.1394,-85.9844 218.0909,-86.0678 248.4,-75 254.8058,-72.6608 260.5009,-66.8878 263.6388,-63.2243\"/>\n<polygon fill=\"#0000ff\" stroke=\"#0000ff\" points=\"265.1073,-61.4413 264.7042,-63.7004 264.4715,-62.2132 263.8357,-62.9851 263.8357,-62.9851 263.8357,-62.9851 264.4715,-62.2132 262.9673,-62.2699 265.1073,-61.4413 265.1073,-61.4413\"/>\n</g>\n<!-- (8, 1) -->\n<g id=\"node10\" class=\"node\">\n<title>(8, 1)</title>\n<ellipse fill=\"#000000\" stroke=\"#000000\" cx=\"149\" cy=\"-72\" rx=\"1.8\" ry=\"1.8\"/>\n<text text-anchor=\"middle\" x=\"144.7\" y=\"-63.8\" font-family=\"Helvetica,sans-Serif\" font-size=\"8.00\" fill=\"#000000\">1</text>\n</g>\n<!-- (10, 0) -->\n<g id=\"node12\" class=\"node\">\n<title>(10, 0)</title>\n<ellipse fill=\"#000000\" stroke=\"#000000\" cx=\"211.6\" cy=\"-48\" rx=\"1.8\" ry=\"1.8\"/>\n</g>\n<!-- (8, 1)&#45;&gt;(10, 0) -->\n<g id=\"edge6\" class=\"edge\">\n<title>(8, 1)&#45;&gt;(10, 0)</title>\n<path fill=\"none\" stroke=\"#0000ff\" d=\"M150.806,-71.3076C159.376,-68.022 196.0179,-53.974 207.8792,-49.4265\"/>\n<polygon fill=\"#0000ff\" stroke=\"#0000ff\" points=\"209.9053,-48.6497 208.4406,-50.4162 208.9716,-49.0077 208.0379,-49.3657 208.0379,-49.3657 208.0379,-49.3657 208.9716,-49.0077 207.6351,-48.3153 209.9053,-48.6497 209.9053,-48.6497\"/>\n</g>\n<!-- (9, 0)&#45;&gt;(8, 1) -->\n<g id=\"edge7\" class=\"edge\">\n<title>(9, 0)&#45;&gt;(8, 1)</title>\n<path fill=\"none\" stroke=\"#0000ff\" d=\"M84.3214,-80.7404C93.439,-79.5082 132.4222,-74.2402 145.0414,-72.5349\"/>\n<polygon fill=\"#0000ff\" stroke=\"#0000ff\" points=\"147.1971,-72.2436 145.3658,-73.6264 146.2061,-72.3776 145.2151,-72.5116 145.2151,-72.5116 145.2151,-72.5116 146.2061,-72.3776 145.0644,-71.3967 147.1971,-72.2436 147.1971,-72.2436\"/>\n</g>\n<!-- (10, 0)&#45;&gt;(3, 0) -->\n<g id=\"edge8\" class=\"edge\">\n<title>(10, 0)&#45;&gt;(3, 0)</title>\n<path fill=\"none\" stroke=\"#0000ff\" d=\"M213.4166,-47.9002C221.1235,-47.4767 251.2207,-45.823 262.1803,-45.2209\"/>\n<polygon fill=\"#0000ff\" stroke=\"#0000ff\" points=\"264.3205,-45.1033 262.3853,-46.3364 263.3221,-45.1582 262.3236,-45.2131 262.3236,-45.2131 262.3236,-45.2131 263.3221,-45.1582 262.2618,-44.0898 264.3205,-45.1033 264.3205,-45.1033\"/>\n</g>\n<!-- (11, 0)&#45;&gt;(8, 0) -->\n<g id=\"edge9\" class=\"edge\">\n<title>(11, 0)&#45;&gt;(8, 0)</title>\n<path fill=\"none\" stroke=\"#0000ff\" d=\"M84.3214,-48.2596C93.439,-49.4918 132.4222,-54.7598 145.0414,-56.4651\"/>\n<polygon fill=\"#0000ff\" stroke=\"#0000ff\" points=\"147.1971,-56.7564 145.0644,-57.6033 146.2061,-56.6224 145.2151,-56.4884 145.2151,-56.4884 145.2151,-56.4884 146.2061,-56.6224 145.3658,-55.3736 147.1971,-56.7564 147.1971,-56.7564\"/>\n</g>\n</g>\n</svg>\n",
            "text/plain": [
              "<graphviz.graphs.Digraph at 0x7f45b5638e80>"
            ]
          },
          "metadata": {},
          "execution_count": 109
        }
      ]
    },
    {
      "cell_type": "markdown",
      "source": [
        "## Modifying Operations Within Circuits"
      ],
      "metadata": {
        "id": "50VBqDPtxvBH"
      }
    },
    {
      "cell_type": "code",
      "source": [
        "from pytket.circuit import Circuit, CircBox\n",
        "\n",
        "circ = Circuit(3)\n",
        "circ.Rz(0.25, 0, opgroup=\"rotations\")\n",
        "circ.CX(0, 1)\n",
        "circ.Ry(0.75, 1, opgroup=\"rotations\")\n",
        "circ.H(2, opgroup=\"special one\")\n",
        "circ.CX(2, 1)\n",
        "cbox = CircBox(Circuit(2).S(0).CY(0,1))\n",
        "circ.add_circbox(cbox, [0,1], opgroup=\"Fred\")\n",
        "circ.CX(1, 2, opgroup=\"Fred\")\n",
        "\n",
        "print(circ.get_commands())"
      ],
      "metadata": {
        "colab": {
          "base_uri": "https://localhost:8080/"
        },
        "id": "8r85Y3O9xyrL",
        "outputId": "4c84d779-ed9e-4d51-948a-eccad5ed5263"
      },
      "execution_count": null,
      "outputs": [
        {
          "output_type": "stream",
          "name": "stdout",
          "text": [
            "[[rotations] Rz(0.25) q[0];, [special one] H q[2];, CX q[0], q[1];, [rotations] Ry(0.75) q[1];, CX q[2], q[1];, [Fred] CircBox q[0], q[1];, [Fred] CX q[1], q[2];]\n"
          ]
        }
      ]
    },
    {
      "cell_type": "code",
      "source": [
        "from pytket.circuit import Op\n",
        "\n",
        "# Substitute a new 1-qubit circuit for all ops in the \"rotations\" group:\n",
        "newcirc = Circuit(1).Rx(0.125, 0).Ry(0.875, 0)\n",
        "circ.substitute_named(newcirc, \"rotations\")\n",
        "# Replace the \"special one\" with a different op:\n",
        "newop = Op.create(OpType.T)\n",
        "circ.substitute_named(newop, \"special one\")\n",
        "# Substitute a box for the \"Fred\" group:\n",
        "newcbox = CircBox(Circuit(2).H(1).CX(1,0))\n",
        "circ.substitute_named(newcbox, \"Fred\")\n",
        "\n",
        "print(circ.get_commands())"
      ],
      "metadata": {
        "colab": {
          "base_uri": "https://localhost:8080/"
        },
        "id": "p7DiHg3lx3I8",
        "outputId": "f1be310f-12f6-4fcc-bdd9-990132ddf296"
      },
      "execution_count": null,
      "outputs": [
        {
          "output_type": "stream",
          "name": "stdout",
          "text": [
            "[Rx(0.125) q[0];, [special one] T q[2];, Ry(0.875) q[0];, CX q[0], q[1];, Rx(0.125) q[1];, Ry(0.875) q[1];, CX q[2], q[1];, [Fred] CircBox q[0], q[1];, [Fred] CircBox q[1], q[2];]\n"
          ]
        }
      ]
    },
    {
      "cell_type": "code",
      "source": [
        "from pytket.circuit import QControlBox\n",
        "\n",
        "def with_empty_qubit(op: Op) -> CircBox:\n",
        "    n_qb = op.n_qubits\n",
        "    return CircBox(Circuit(n_qb + 1).add_gate(op, list(range(1, n_qb + 1))))\n",
        "def with_control_qubit(op: Op) -> QControlBox:\n",
        "    return QControlBox(op, 1)\n",
        "c = Circuit(3)\n",
        "h_op = Op.create(OpType.H)\n",
        "cx_op = Op.create(OpType.CX)\n",
        "h_0_cbox = with_empty_qubit(h_op)\n",
        "h_q_qbox = with_control_qubit(h_op)\n",
        "cx_0_cbox = with_empty_qubit(cx_op)\n",
        "cx_q_qbox = with_control_qubit(cx_op)\n",
        "c.X(0).Y(1)\n",
        "c.add_circbox(h_0_cbox, [2, 0], opgroup=\"hgroup\")\n",
        "c.add_circbox(cx_0_cbox, [2, 0, 1], opgroup=\"cxgroup\")\n",
        "c.Y(0).X(1)\n",
        "c.add_circbox(h_0_cbox, [2, 1], opgroup=\"hgroup\")\n",
        "c.add_circbox(cx_0_cbox, [2, 1, 0], opgroup=\"cxgroup\")\n",
        "c.X(0).Y(1)\n",
        "c.substitute_named(h_q_qbox, \"hgroup\")\n",
        "c.substitute_named(cx_q_qbox, \"cxgroup\")\n",
        "\n",
        "print(c.get_commands())"
      ],
      "metadata": {
        "colab": {
          "base_uri": "https://localhost:8080/"
        },
        "id": "Tq2Dv5WIx6ti",
        "outputId": "99fe2f66-8e40-4882-979d-dd6e2272521a"
      },
      "execution_count": null,
      "outputs": [
        {
          "output_type": "stream",
          "name": "stdout",
          "text": [
            "[X q[0];, Y q[1];, [hgroup] qif (q[2]) H q[0];, [cxgroup] qif (q[2]) CX q[0], q[1];, Y q[0];, X q[1];, [hgroup] qif (q[2]) H q[1];, [cxgroup] qif (q[2]) CX q[1], q[0];, X q[0];, Y q[1];]\n"
          ]
        }
      ]
    },
    {
      "cell_type": "markdown",
      "source": [
        "## Running on Backends\n",
        "### Backend Requirements"
      ],
      "metadata": {
        "id": "3-G8XTEeyp1m"
      }
    },
    {
      "cell_type": "code",
      "source": [
        "from pytket.extensions.qiskit import IBMQBackend, AerStateBackend\n",
        "from qiskit import IBMQ\n",
        "# IBMQ.save_account('3916efce754d71288ced70245b4226bddebbb417fef0c00884099c10b53d1a3bf1ad7744c1f55da4ce6cfa362405ecd186d0e6ad80252f0c492916b8674b819f', overwrite=True)\n",
        "# IBMQ.load_account()\n",
        "# provider=IBMQ.get_provider('ibm-q')\n",
        "# dev_b= provider.get_backend('ibmq_lima')\n",
        "dev_b = IBMQBackend(\"ibmq_quito\")\n",
        "sim_b = AerStateBackend()\n",
        "print(dev_b.required_predicates)\n",
        "print(sim_b.required_predicates)"
      ],
      "metadata": {
        "id": "zT_rQIvPyYPw",
        "colab": {
          "base_uri": "https://localhost:8080/",
          "height": 380
        },
        "outputId": "8cc35f4d-b3ea-4dee-c73a-0af8e98e4e54"
      },
      "execution_count": null,
      "outputs": [
        {
          "output_type": "error",
          "ename": "AccountNotFoundError",
          "evalue": "ignored",
          "traceback": [
            "\u001b[0;31m---------------------------------------------------------------------------\u001b[0m",
            "\u001b[0;31mAccountNotFoundError\u001b[0m                      Traceback (most recent call last)",
            "\u001b[0;32m<ipython-input-118-ac0b1eb1bf32>\u001b[0m in \u001b[0;36m<module>\u001b[0;34m\u001b[0m\n\u001b[1;32m      5\u001b[0m \u001b[0;31m# provider=IBMQ.get_provider('ibm-q')\u001b[0m\u001b[0;34m\u001b[0m\u001b[0;34m\u001b[0m\u001b[0;34m\u001b[0m\u001b[0m\n\u001b[1;32m      6\u001b[0m \u001b[0;31m# dev_b= provider.get_backend('ibmq_lima')\u001b[0m\u001b[0;34m\u001b[0m\u001b[0;34m\u001b[0m\u001b[0;34m\u001b[0m\u001b[0m\n\u001b[0;32m----> 7\u001b[0;31m \u001b[0mdev_b\u001b[0m \u001b[0;34m=\u001b[0m \u001b[0mIBMQBackend\u001b[0m\u001b[0;34m(\u001b[0m\u001b[0;34m\"ibmq_quito\"\u001b[0m\u001b[0;34m)\u001b[0m\u001b[0;34m\u001b[0m\u001b[0;34m\u001b[0m\u001b[0m\n\u001b[0m\u001b[1;32m      8\u001b[0m \u001b[0msim_b\u001b[0m \u001b[0;34m=\u001b[0m \u001b[0mAerStateBackend\u001b[0m\u001b[0;34m(\u001b[0m\u001b[0;34m)\u001b[0m\u001b[0;34m\u001b[0m\u001b[0;34m\u001b[0m\u001b[0m\n\u001b[1;32m      9\u001b[0m \u001b[0mprint\u001b[0m\u001b[0;34m(\u001b[0m\u001b[0mdev_b\u001b[0m\u001b[0;34m.\u001b[0m\u001b[0mrequired_predicates\u001b[0m\u001b[0;34m)\u001b[0m\u001b[0;34m\u001b[0m\u001b[0;34m\u001b[0m\u001b[0m\n",
            "\u001b[0;32m/usr/local/lib/python3.8/dist-packages/pytket/extensions/qiskit/backends/ibm.py\u001b[0m in \u001b[0;36m__init__\u001b[0;34m(self, backend_name, hub, group, project, monitor, account_provider, token)\u001b[0m\n\u001b[1;32m    171\u001b[0m         \u001b[0mself\u001b[0m\u001b[0;34m.\u001b[0m\u001b[0m_backend_info\u001b[0m \u001b[0;34m=\u001b[0m \u001b[0mself\u001b[0m\u001b[0;34m.\u001b[0m\u001b[0m_get_backend_info\u001b[0m\u001b[0;34m(\u001b[0m\u001b[0mself\u001b[0m\u001b[0;34m.\u001b[0m\u001b[0m_backend\u001b[0m\u001b[0;34m)\u001b[0m\u001b[0;34m\u001b[0m\u001b[0;34m\u001b[0m\u001b[0m\n\u001b[1;32m    172\u001b[0m \u001b[0;34m\u001b[0m\u001b[0m\n\u001b[0;32m--> 173\u001b[0;31m         \u001b[0mself\u001b[0m\u001b[0;34m.\u001b[0m\u001b[0m_service\u001b[0m \u001b[0;34m=\u001b[0m \u001b[0mQiskitRuntimeService\u001b[0m\u001b[0;34m(\u001b[0m\u001b[0mchannel\u001b[0m\u001b[0;34m=\u001b[0m\u001b[0;34m\"ibm_quantum\"\u001b[0m\u001b[0;34m,\u001b[0m \u001b[0mtoken\u001b[0m\u001b[0;34m=\u001b[0m\u001b[0mtoken\u001b[0m\u001b[0;34m)\u001b[0m\u001b[0;34m\u001b[0m\u001b[0;34m\u001b[0m\u001b[0m\n\u001b[0m\u001b[1;32m    174\u001b[0m         \u001b[0mself\u001b[0m\u001b[0;34m.\u001b[0m\u001b[0m_session\u001b[0m \u001b[0;34m=\u001b[0m \u001b[0mSession\u001b[0m\u001b[0;34m(\u001b[0m\u001b[0mservice\u001b[0m\u001b[0;34m=\u001b[0m\u001b[0mself\u001b[0m\u001b[0;34m.\u001b[0m\u001b[0m_service\u001b[0m\u001b[0;34m,\u001b[0m \u001b[0mbackend\u001b[0m\u001b[0;34m=\u001b[0m\u001b[0mbackend_name\u001b[0m\u001b[0;34m)\u001b[0m\u001b[0;34m\u001b[0m\u001b[0;34m\u001b[0m\u001b[0m\n\u001b[1;32m    175\u001b[0m \u001b[0;34m\u001b[0m\u001b[0m\n",
            "\u001b[0;32m/usr/local/lib/python3.8/dist-packages/qiskit_ibm_runtime/qiskit_runtime_service.py\u001b[0m in \u001b[0;36m__init__\u001b[0;34m(self, channel, auth, token, url, name, instance, proxies, verify)\u001b[0m\n\u001b[1;32m    180\u001b[0m             \u001b[0mself\u001b[0m\u001b[0;34m.\u001b[0m\u001b[0m_auth_warning\u001b[0m\u001b[0;34m(\u001b[0m\u001b[0;34m)\u001b[0m\u001b[0;34m\u001b[0m\u001b[0;34m\u001b[0m\u001b[0m\n\u001b[1;32m    181\u001b[0m \u001b[0;34m\u001b[0m\u001b[0m\n\u001b[0;32m--> 182\u001b[0;31m         self._account = self._discover_account(\n\u001b[0m\u001b[1;32m    183\u001b[0m             \u001b[0mtoken\u001b[0m\u001b[0;34m=\u001b[0m\u001b[0mtoken\u001b[0m\u001b[0;34m,\u001b[0m\u001b[0;34m\u001b[0m\u001b[0;34m\u001b[0m\u001b[0m\n\u001b[1;32m    184\u001b[0m             \u001b[0murl\u001b[0m\u001b[0;34m=\u001b[0m\u001b[0murl\u001b[0m\u001b[0;34m,\u001b[0m\u001b[0;34m\u001b[0m\u001b[0;34m\u001b[0m\u001b[0m\n",
            "\u001b[0;32m/usr/local/lib/python3.8/dist-packages/qiskit_ibm_runtime/qiskit_runtime_service.py\u001b[0m in \u001b[0;36m_discover_account\u001b[0;34m(self, token, url, instance, channel, auth, name, proxies, verify)\u001b[0m\n\u001b[1;32m    280\u001b[0m                         \u001b[0;34m\"Loading default %s account. Input 'url' is ignored.\"\u001b[0m\u001b[0;34m,\u001b[0m \u001b[0mchannel\u001b[0m\u001b[0;34m\u001b[0m\u001b[0;34m\u001b[0m\u001b[0m\n\u001b[1;32m    281\u001b[0m                     )\n\u001b[0;32m--> 282\u001b[0;31m                 \u001b[0maccount\u001b[0m \u001b[0;34m=\u001b[0m \u001b[0mAccountManager\u001b[0m\u001b[0;34m.\u001b[0m\u001b[0mget\u001b[0m\u001b[0;34m(\u001b[0m\u001b[0mchannel\u001b[0m\u001b[0;34m=\u001b[0m\u001b[0mchannel\u001b[0m\u001b[0;34m)\u001b[0m\u001b[0;34m\u001b[0m\u001b[0;34m\u001b[0m\u001b[0m\n\u001b[0m\u001b[1;32m    283\u001b[0m         \u001b[0;32melif\u001b[0m \u001b[0many\u001b[0m\u001b[0;34m(\u001b[0m\u001b[0;34m[\u001b[0m\u001b[0mtoken\u001b[0m\u001b[0;34m,\u001b[0m \u001b[0murl\u001b[0m\u001b[0;34m]\u001b[0m\u001b[0;34m)\u001b[0m\u001b[0;34m:\u001b[0m\u001b[0;34m\u001b[0m\u001b[0;34m\u001b[0m\u001b[0m\n\u001b[1;32m    284\u001b[0m             \u001b[0;31m# Let's not infer based on these attributes as they may change in the future.\u001b[0m\u001b[0;34m\u001b[0m\u001b[0;34m\u001b[0m\u001b[0;34m\u001b[0m\u001b[0m\n",
            "\u001b[0;32m/usr/local/lib/python3.8/dist-packages/qiskit_ibm_runtime/accounts/management.py\u001b[0m in \u001b[0;36mget\u001b[0;34m(cls, name, channel)\u001b[0m\n\u001b[1;32m    157\u001b[0m             )\n\u001b[1;32m    158\u001b[0m             \u001b[0;32mif\u001b[0m \u001b[0msaved_account\u001b[0m \u001b[0;32mis\u001b[0m \u001b[0;32mNone\u001b[0m\u001b[0;34m:\u001b[0m\u001b[0;34m\u001b[0m\u001b[0;34m\u001b[0m\u001b[0m\n\u001b[0;32m--> 159\u001b[0;31m                 \u001b[0;32mraise\u001b[0m \u001b[0mAccountNotFoundError\u001b[0m\u001b[0;34m(\u001b[0m\u001b[0;34mf\"No default {channel} account saved.\"\u001b[0m\u001b[0;34m)\u001b[0m\u001b[0;34m\u001b[0m\u001b[0;34m\u001b[0m\u001b[0m\n\u001b[0m\u001b[1;32m    160\u001b[0m             \u001b[0;32mreturn\u001b[0m \u001b[0mAccount\u001b[0m\u001b[0;34m.\u001b[0m\u001b[0mfrom_saved_format\u001b[0m\u001b[0;34m(\u001b[0m\u001b[0msaved_account\u001b[0m\u001b[0;34m)\u001b[0m\u001b[0;34m\u001b[0m\u001b[0;34m\u001b[0m\u001b[0m\n\u001b[1;32m    161\u001b[0m \u001b[0;34m\u001b[0m\u001b[0m\n",
            "\u001b[0;31mAccountNotFoundError\u001b[0m: 'No default ibm_quantum account saved.'"
          ]
        }
      ]
    },
    {
      "cell_type": "code",
      "source": [
        "from pytket import Circuit\n",
        "from pytket.extensions.qiskit import AerBackend\n",
        "\n",
        "circ = Circuit(2, 2)\n",
        "circ.Rx(0.3, 0).Ry(0.5, 1).CRz(-0.6, 1, 0).measure_all()\n",
        "\n",
        "backend = AerBackend()\n",
        "if not backend.valid_circuit(circ):\n",
        "    compiled_circ = backend.get_compiled_circuit(circ)\n",
        "    assert backend.valid_circuit(compiled_circ)\n",
        "\n",
        "print(compiled_circ.get_commands())"
      ],
      "metadata": {
        "colab": {
          "base_uri": "https://localhost:8080/"
        },
        "id": "nlgubQFGyj_9",
        "outputId": "39a3b75f-21e9-4a3e-afac-d20fd58f6195"
      },
      "execution_count": null,
      "outputs": [
        {
          "output_type": "stream",
          "name": "stdout",
          "text": [
            "[TK1(3.7, 0.3, 0) q[0];, TK1(0.5, 0.5, 3.5) q[1];, CX q[1], q[0];, TK1(0, 0, 0.3) q[0];, CX q[1], q[0];, Measure q[0] --> c[0];, Measure q[1] --> c[1];]\n"
          ]
        }
      ]
    },
    {
      "cell_type": "markdown",
      "source": [
        "## Shots and Sampling"
      ],
      "metadata": {
        "id": "q8-iiqfJy3X6"
      }
    },
    {
      "cell_type": "code",
      "source": [
        "from pytket import Circuit\n",
        "from pytket.extensions.qiskit import AerBackend\n",
        "circ = Circuit(2, 2)\n",
        "circ.H(0).X(1).measure_all()\n",
        "backend = AerBackend()\n",
        "compiled_circ = backend.get_compiled_circuit(circ)\n",
        "\n",
        "handle = backend.process_circuit(compiled_circ, n_shots=20)\n",
        "shots = backend.get_result(handle).get_shots()\n",
        "print(shots)"
      ],
      "metadata": {
        "colab": {
          "base_uri": "https://localhost:8080/"
        },
        "id": "1xLWzDcRy6mO",
        "outputId": "d87a7e9b-4ac7-4986-d1c7-314aba628de4"
      },
      "execution_count": null,
      "outputs": [
        {
          "output_type": "stream",
          "name": "stdout",
          "text": [
            "[[1 1]\n",
            " [0 1]\n",
            " [1 1]\n",
            " [1 1]\n",
            " [0 1]\n",
            " [0 1]\n",
            " [1 1]\n",
            " [0 1]\n",
            " [1 1]\n",
            " [1 1]\n",
            " [0 1]\n",
            " [0 1]\n",
            " [0 1]\n",
            " [0 1]\n",
            " [0 1]\n",
            " [1 1]\n",
            " [0 1]\n",
            " [1 1]\n",
            " [1 1]\n",
            " [1 1]]\n"
          ]
        }
      ]
    },
    {
      "cell_type": "code",
      "source": [
        "from pytket import Circuit\n",
        "from pytket.extensions.qiskit import AerBackend\n",
        "from pytket.utils import probs_from_counts\n",
        "circ = Circuit(2, 2)\n",
        "circ.H(0).X(1).measure_all()\n",
        "backend = AerBackend()\n",
        "compiled_circ = backend.get_compiled_circuit(circ)\n",
        "\n",
        "handle = backend.process_circuit(compiled_circ, n_shots=2000)\n",
        "counts = backend.get_result(handle).get_counts()\n",
        "print(counts)\n",
        "\n",
        "print(probs_from_counts(counts))"
      ],
      "metadata": {
        "colab": {
          "base_uri": "https://localhost:8080/"
        },
        "id": "BZ5jL-jny_pK",
        "outputId": "7cb86b56-7511-47a4-dced-08657a535a53"
      },
      "execution_count": null,
      "outputs": [
        {
          "output_type": "stream",
          "name": "stdout",
          "text": [
            "Counter({(0, 1): 1024, (1, 1): 976})\n",
            "{(0, 1): 0.512, (1, 1): 0.488}\n"
          ]
        }
      ]
    },
    {
      "cell_type": "markdown",
      "source": [
        "## Statevectors and Unitaries"
      ],
      "metadata": {
        "id": "dIqw97Ruz809"
      }
    },
    {
      "cell_type": "code",
      "source": [
        "from pytket import Circuit\n",
        "from pytket.extensions.qiskit import AerStateBackend\n",
        "circ = Circuit(3)\n",
        "circ.H(0).CX(0, 1).S(1).X(2)\n",
        "backend = AerStateBackend()\n",
        "compiled_circ = backend.get_compiled_circuit(circ)\n",
        "\n",
        "state = backend.run_circuit(compiled_circ).get_state()\n",
        "print(state.round(5))"
      ],
      "metadata": {
        "colab": {
          "base_uri": "https://localhost:8080/"
        },
        "id": "Whi9NHCK0Bnn",
        "outputId": "8e2de67c-aa1e-4892-fd7d-d7b35a210d51"
      },
      "execution_count": null,
      "outputs": [
        {
          "output_type": "stream",
          "name": "stdout",
          "text": [
            "[ 0.     +0.j       0.70711+0.j       0.     +0.j       0.     +0.j\n",
            "  0.     +0.j       0.     +0.j      -0.     +0.j       0.     +0.70711j]\n"
          ]
        }
      ]
    },
    {
      "cell_type": "code",
      "source": [
        "from pytket import Circuit\n",
        "from pytket.extensions.qiskit import AerUnitaryBackend\n",
        "circ = Circuit(2)\n",
        "circ.H(0).CX(0, 1)\n",
        "backend = AerUnitaryBackend()\n",
        "compiled_circ = backend.get_compiled_circuit(circ)\n",
        "\n",
        "unitary = backend.run_circuit(compiled_circ).get_unitary()\n",
        "print(unitary.round(5))"
      ],
      "metadata": {
        "colab": {
          "base_uri": "https://localhost:8080/"
        },
        "id": "Kj34SwSQ0Fxr",
        "outputId": "f9943b11-f401-4cee-f8e5-79c75b96b91e"
      },
      "execution_count": null,
      "outputs": [
        {
          "output_type": "stream",
          "name": "stdout",
          "text": [
            "[[ 0.70711+0.j  0.     +0.j  0.70711-0.j  0.     +0.j]\n",
            " [ 0.     +0.j  0.70711+0.j  0.     +0.j  0.70711-0.j]\n",
            " [ 0.     +0.j  0.70711-0.j  0.     +0.j -0.70711+0.j]\n",
            " [ 0.70711-0.j  0.     +0.j -0.70711+0.j  0.     +0.j]]\n"
          ]
        }
      ]
    },
    {
      "cell_type": "code",
      "source": [
        "from pytket.utils.results import compare_statevectors\n",
        "import numpy as np\n",
        "\n",
        "ref_state = np.asarray([1, 0, 1, 0]) / np.sqrt(2.)      # |+0>\n",
        "gph_state = np.asarray([1, 0, 1, 0]) * 1j / np.sqrt(2.) # i|+0>\n",
        "prm_state = np.asarray([1, 1, 0, 0]) / np.sqrt(2.)      # |0+>\n",
        "\n",
        "print(compare_statevectors(ref_state, gph_state))   # Differ by global phase\n",
        "print(compare_statevectors(ref_state, prm_state))   # Differ by qubit permutation"
      ],
      "metadata": {
        "colab": {
          "base_uri": "https://localhost:8080/"
        },
        "id": "WxA1aa7m0JHV",
        "outputId": "c6d0e833-fce4-4d79-efc8-474478c9a95c"
      },
      "execution_count": null,
      "outputs": [
        {
          "output_type": "stream",
          "name": "stdout",
          "text": [
            "True\n",
            "False\n"
          ]
        }
      ]
    },
    {
      "cell_type": "markdown",
      "source": [
        "## Interpreting Results"
      ],
      "metadata": {
        "id": "ShKhMCvO0RaK"
      }
    },
    {
      "cell_type": "code",
      "source": [
        "from pytket.circuit import Circuit, BasisOrder\n",
        "from pytket.extensions.qiskit import AerBackend\n",
        "circ = Circuit(2, 2)\n",
        "circ.X(1).measure_all()     # write 0 to c[0] and 1 to c[1]\n",
        "backend = AerBackend()\n",
        "compiled_circ = backend.get_compiled_circuit(circ)\n",
        "handle = backend.process_circuit(compiled_circ, n_shots=10)\n",
        "result = backend.get_result(handle)\n",
        "\n",
        "print(result.get_counts())   # ILO gives (c[0], c[1]) == (0, 1)\n",
        "print(result.get_counts(basis=BasisOrder.dlo))\n",
        "                                    # DLO gives (c[1], c[0]) == (1, 0)"
      ],
      "metadata": {
        "colab": {
          "base_uri": "https://localhost:8080/"
        },
        "id": "lbs5P1Bq0X09",
        "outputId": "fef9c3cd-eee7-4781-ef38-7f848fe90636"
      },
      "execution_count": null,
      "outputs": [
        {
          "output_type": "stream",
          "name": "stdout",
          "text": [
            "Counter({(0, 1): 10})\n",
            "Counter({(1, 0): 10})\n"
          ]
        }
      ]
    },
    {
      "cell_type": "code",
      "source": [
        "from pytket import Circuit, Bit\n",
        "from pytket.extensions.qiskit import AerBackend\n",
        "from pytket.utils import expectation_from_shots\n",
        "circ = Circuit(3, 3)\n",
        "circ.Rx(0.3, 0).CX(0, 1).CZ(1, 2)   # Generate the state we want to consider\n",
        "\n",
        "circ.H(1)                           # Measure ZXY operator qubit-wise\n",
        "circ.Rx(0.5, 2)\n",
        "circ.measure_all()\n",
        "\n",
        "backend = AerBackend()\n",
        "compiled_circ = backend.get_compiled_circuit(circ)\n",
        "handle = backend.process_circuit(compiled_circ, 2000)\n",
        "shots = backend.get_result(handle).get_shots()\n",
        "\n",
        "# To extract the expectation value for ZIY, we only want to consider bits c[0] and c[2]\n",
        "bitmap = compiled_circ.bit_readout\n",
        "shots = shots[:, [bitmap[Bit(0)], bitmap[Bit(2)]]]\n",
        "print(expectation_from_shots(shots))"
      ],
      "metadata": {
        "colab": {
          "base_uri": "https://localhost:8080/"
        },
        "id": "5T4WLKwn0rMX",
        "outputId": "59fec6b4-3dca-430c-bd64-e0eb5ef19936"
      },
      "execution_count": null,
      "outputs": [
        {
          "output_type": "stream",
          "name": "stdout",
          "text": [
            "-0.018999999999999906\n"
          ]
        }
      ]
    },
    {
      "cell_type": "code",
      "source": [
        "from pytket import Circuit, Qubit, Bit\n",
        "circ = Circuit(3, 2)\n",
        "circ.Rx(0.3, 0).CX(0, 1).CZ(1, 2)\n",
        "circ.Measure(0, 0)\n",
        "circ.Measure(2, 1)\n",
        "\n",
        "print(circ.bit_readout)\n",
        "print(circ.qubit_readout)\n",
        "print(circ.qubit_to_bit_map)"
      ],
      "metadata": {
        "colab": {
          "base_uri": "https://localhost:8080/"
        },
        "id": "Pbxm7L590xoA",
        "outputId": "e7dd0200-7dc6-420a-b091-39fd20b3e779"
      },
      "execution_count": null,
      "outputs": [
        {
          "output_type": "stream",
          "name": "stdout",
          "text": [
            "{c[0]: 0, c[1]: 1}\n",
            "{q[0]: 0, q[2]: 1}\n",
            "{q[0]: c[0], q[2]: c[1]}\n"
          ]
        }
      ]
    },
    {
      "cell_type": "code",
      "source": [
        "from pytket import Circuit, Bit, Qubit\n",
        "from pytket.extensions.qiskit import AerBackend, AerStateBackend\n",
        "circ = Circuit(3)\n",
        "circ.H(0).Ry(-0.3, 2)\n",
        "state_b = AerStateBackend()\n",
        "circ = state_b.get_compiled_circuit(circ)\n",
        "handle = state_b.process_circuit(circ)\n",
        "\n",
        "# Make q[1] the most-significant qubit, so interesting state uses consecutive coefficients\n",
        "result = state_b.get_result(handle)\n",
        "print(result.get_state([Qubit(1), Qubit(0), Qubit(2)]))\n",
        "\n",
        "circ.measure_all()\n",
        "shot_b = AerBackend()\n",
        "circ = shot_b.get_compiled_circuit(circ)\n",
        "handle = shot_b.process_circuit(circ, n_shots=2000)\n",
        "result = shot_b.get_result(handle)\n",
        "\n",
        "# Marginalise out q[0] from counts\n",
        "print(result.get_counts())\n",
        "print(result.get_counts([Bit(1), Bit(2)]))"
      ],
      "metadata": {
        "colab": {
          "base_uri": "https://localhost:8080/"
        },
        "id": "q7a5qChe00vN",
        "outputId": "7ec47f3e-b711-41fa-a177-728c28169f8b"
      },
      "execution_count": null,
      "outputs": [
        {
          "output_type": "stream",
          "name": "stdout",
          "text": [
            "[ 0.63003676+0.00000000e+00j -0.32101976+1.96567911e-17j\n",
            "  0.63003676-3.85786248e-17j -0.32101976+3.93135823e-17j\n",
            "  0.        +0.00000000e+00j  0.        +0.00000000e+00j\n",
            "  0.        +0.00000000e+00j  0.        +0.00000000e+00j]\n",
            "Counter({(0, 0, 0): 811, (1, 0, 0): 780, (1, 0, 1): 205, (0, 0, 1): 204})\n",
            "Counter({(0, 0): 1591, (0, 1): 409})\n"
          ]
        }
      ]
    },
    {
      "cell_type": "markdown",
      "source": [
        "## Expectation Value Calculations"
      ],
      "metadata": {
        "id": "Wh_mb4BA1YKR"
      }
    },
    {
      "cell_type": "code",
      "source": [
        "from pytket import Circuit, Qubit\n",
        "from pytket.extensions.qiskit import AerBackend\n",
        "from pytket.partition import PauliPartitionStrat\n",
        "from pytket.pauli import Pauli, QubitPauliString\n",
        "from pytket.utils import get_pauli_expectation_value, get_operator_expectation_value\n",
        "from pytket.utils.operators import QubitPauliOperator\n",
        "circ = Circuit(3)\n",
        "circ.Rx(0.3, 0).CX(0, 1).CZ(1, 2)   # Generate the state we want to consider\n",
        "backend = AerBackend()\n",
        "\n",
        "zxy = QubitPauliString({\n",
        "        Qubit(0) : Pauli.Z,\n",
        "        Qubit(1) : Pauli.X,\n",
        "        Qubit(2) : Pauli.Y})\n",
        "xzi = QubitPauliString({\n",
        "        Qubit(0) : Pauli.X,\n",
        "        Qubit(1) : Pauli.Z})\n",
        "op = QubitPauliOperator({\n",
        "        QubitPauliString() : 0.3,\n",
        "        zxy : -1,\n",
        "        xzi : 1})\n",
        "print(get_pauli_expectation_value(\n",
        "        circ,\n",
        "        zxy,\n",
        "        backend,\n",
        "        n_shots=2000))\n",
        "print(get_operator_expectation_value(\n",
        "        circ,\n",
        "        op,\n",
        "        backend,\n",
        "        n_shots=2000,\n",
        "        partition_strat=PauliPartitionStrat.CommutingSets))"
      ],
      "metadata": {
        "colab": {
          "base_uri": "https://localhost:8080/"
        },
        "id": "v7xihRmi1PWb",
        "outputId": "61e2427c-83eb-4529-a154-1e10d1e8a493"
      },
      "execution_count": null,
      "outputs": [
        {
          "output_type": "stream",
          "name": "stdout",
          "text": [
            "0.031000000000000028\n",
            "(0.303+0j)\n"
          ]
        }
      ]
    },
    {
      "cell_type": "code",
      "source": [
        "from pytket import Circuit\n",
        "from pytket.extensions.qiskit import AerBackend\n",
        "from pytket.utils import expectation_from_counts\n",
        "circ = Circuit(3, 3)\n",
        "circ.Rx(0.3, 0).CX(0, 1).CZ(1, 2)   # Generate the state we want to consider\n",
        "\n",
        "circ.H(1)                           # Want to measure expectation for Pauli ZXY\n",
        "circ.Rx(0.5, 2)                     # Measure ZII, IXI, IIY separately\n",
        "circ.measure_all()\n",
        "\n",
        "backend = AerBackend()\n",
        "compiled_circ = backend.get_compiled_circuit(circ)\n",
        "handle = backend.process_circuit(compiled_circ, 2000)\n",
        "counts = backend.get_result(handle).get_counts()\n",
        "print(counts)\n",
        "print(expectation_from_counts(counts))"
      ],
      "metadata": {
        "colab": {
          "base_uri": "https://localhost:8080/"
        },
        "id": "FGuvORdq1dRT",
        "outputId": "a10cf65e-d4e8-4f2c-a144-bd317676fe2b"
      },
      "execution_count": null,
      "outputs": [
        {
          "output_type": "stream",
          "name": "stdout",
          "text": [
            "Counter({(0, 0, 0): 426, (0, 1, 1): 405, (0, 1, 0): 385, (0, 0, 1): 378, (1, 0, 0): 113, (1, 1, 1): 110, (1, 1, 0): 99, (1, 0, 1): 84})\n",
            "0.014000000000000012\n"
          ]
        }
      ]
    },
    {
      "cell_type": "markdown",
      "source": [
        "## Guidance for Writing Hardware-Agnostic Code"
      ],
      "metadata": {
        "id": "t86MTNAY1gxf"
      }
    },
    {
      "cell_type": "code",
      "source": [
        "from pytket import Circuit\n",
        "from pytket.extensions.qiskit import AerBackend #, AerStateBackend\n",
        "from pytket.predicates import NoMidMeasurePredicate\n",
        "backend = AerBackend()      # Choose backend in one place\n",
        "# backend = AerStateBackend()   # A backend that is incompatible with the experiment\n",
        "\n",
        "# For algorithms using mid-circuit measurement, we can assert this is valid\n",
        "qkd = Circuit(1, 3)\n",
        "qkd.H(0).Measure(0, 0)      # Prepare a random bit in the Z basis\n",
        "qkd.H(0).Measure(0, 1).H(0) # Eavesdropper measures in the X basis\n",
        "qkd.Measure(0, 2)           # Recipient measures in the Z basis\n",
        "\n",
        "assert backend.supports_counts  # Using AerStateBackend would fail at this check\n",
        "assert NoMidMeasurePredicate() not in backend.required_predicates\n",
        "compiled_qkd = backend.get_compiled_circuit(qkd)\n",
        "handle = backend.process_circuit(compiled_qkd, n_shots=1000)\n",
        "print(backend.get_result(handle).get_counts())"
      ],
      "metadata": {
        "colab": {
          "base_uri": "https://localhost:8080/"
        },
        "id": "XFx0eFf-1nFW",
        "outputId": "89962326-9c2a-4820-e60f-41fe9f8355ee"
      },
      "execution_count": null,
      "outputs": [
        {
          "output_type": "stream",
          "name": "stdout",
          "text": [
            "Counter({(1, 0, 0): 142, (0, 0, 1): 136, (1, 0, 1): 133, (1, 1, 0): 125, (1, 1, 1): 124, (0, 1, 0): 116, (0, 1, 1): 113, (0, 0, 0): 111})\n"
          ]
        }
      ]
    },
    {
      "cell_type": "code",
      "source": [
        "from pytket import Circuit\n",
        "from pytket.extensions.qiskit import AerBackend #, AerStateBackend\n",
        "from pytket.utils import expectation_from_counts\n",
        "import numpy as np\n",
        "backend = AerBackend()      # Choose backend in one place\n",
        "# backend = AerStateBackend()   # Alternative backend with different requirements and result type\n",
        "\n",
        "# For many algorithms, we can separate the state preparation from measurements\n",
        "circ = Circuit(2)           # Apply e^{0.135 i pi XY} to the initial state\n",
        "circ.H(0).V(1).CX(0, 1).Rz(-0.27, 1).CX(0, 1).H(0).Vdg(1)\n",
        "measure = Circuit(2, 2)     # Measure the YZ operator via YI and IZ\n",
        "measure.V(0).measure_all()\n",
        "\n",
        "if backend.supports_counts:\n",
        "    circ.append(measure)\n",
        "\n",
        "circ = backend.get_compiled_circuit(circ)\n",
        "handle = backend.process_circuit(circ, n_shots=2000)\n",
        "\n",
        "expectation = 0\n",
        "if backend.supports_state:\n",
        "    yz = np.asarray([\n",
        "        [0, 0, -1j, 0],\n",
        "        [0, 0, 0, 1j],\n",
        "        [1j, 0, 0, 0],\n",
        "        [0, -1j, 0, 0]])\n",
        "    svec = backend.get_result(handle).get_state()\n",
        "    expectation = np.vdot(svec, yz.dot(svec))\n",
        "else:\n",
        "    counts = backend.get_result(handle).get_counts()\n",
        "    expectation = expectation_from_counts(counts)\n",
        "\n",
        "print(expectation)"
      ],
      "metadata": {
        "colab": {
          "base_uri": "https://localhost:8080/"
        },
        "id": "GIwDknkp1w8W",
        "outputId": "17db469d-cffa-48e4-bcc7-2f03f2572ff5"
      },
      "execution_count": null,
      "outputs": [
        {
          "output_type": "stream",
          "name": "stdout",
          "text": [
            "0.026000000000000023\n"
          ]
        }
      ]
    },
    {
      "cell_type": "markdown",
      "source": [
        "## Batch Submission"
      ],
      "metadata": {
        "id": "jJ0bDa6711Kt"
      }
    },
    {
      "cell_type": "code",
      "source": [
        "from pytket import Circuit\n",
        "from pytket.extensions.qiskit import IBMQBackend\n",
        "from pytket.utils import expectation_from_counts\n",
        "backend = IBMQBackend(\"ibmq_quito\")\n",
        "\n",
        "state = Circuit(3)\n",
        "state.H(0).CX(0, 1).CX(1, 2).X(0)\n",
        "# Compute expectation value for -0.3i ZZZ + 0.8 XZZ + 1.2 XXX\n",
        "zzz = Circuit(3, 3)\n",
        "zzz.measure_all()\n",
        "xzz = Circuit(3, 3)\n",
        "xzz.H(0).measure_all()\n",
        "xxx = Circuit(3, 3)\n",
        "xxx.H(0).H(1).H(2).measure_all()\n",
        "circ_list = []\n",
        "for m in [zzz, xzz, xxx]:\n",
        "    c = state.copy()\n",
        "    c.append(m)\n",
        "    circ_list.append(c)\n",
        "coeff_list = [\n",
        "    -0.3j,  # ZZZ\n",
        "    0.8,    # XZZ\n",
        "    1.2     # XXX\n",
        "]\n",
        "circ_list = backend.get_compiled_circuits(circ_list)\n",
        "\n",
        "handle_list = backend.process_circuits(circ_list, n_shots=2000)\n",
        "result_list = backend.get_results(handle_list)\n",
        "\n",
        "expectation = 0\n",
        "for coeff, result in zip(coeff_list, result_list):\n",
        "    counts = result.get_counts()\n",
        "    expectation += coeff * expectation_from_counts(counts)\n",
        "\n",
        "print(expectation)"
      ],
      "metadata": {
        "id": "RbAwlahf14Pa",
        "colab": {
          "base_uri": "https://localhost:8080/",
          "height": 380
        },
        "outputId": "a4834f5d-f9f9-4b18-b8d4-3db80ff5eba3"
      },
      "execution_count": null,
      "outputs": [
        {
          "output_type": "error",
          "ename": "AccountNotFoundError",
          "evalue": "ignored",
          "traceback": [
            "\u001b[0;31m---------------------------------------------------------------------------\u001b[0m",
            "\u001b[0;31mAccountNotFoundError\u001b[0m                      Traceback (most recent call last)",
            "\u001b[0;32m<ipython-input-134-243aa1220fb3>\u001b[0m in \u001b[0;36m<module>\u001b[0;34m\u001b[0m\n\u001b[1;32m      2\u001b[0m \u001b[0;32mfrom\u001b[0m \u001b[0mpytket\u001b[0m\u001b[0;34m.\u001b[0m\u001b[0mextensions\u001b[0m\u001b[0;34m.\u001b[0m\u001b[0mqiskit\u001b[0m \u001b[0;32mimport\u001b[0m \u001b[0mIBMQBackend\u001b[0m\u001b[0;34m\u001b[0m\u001b[0;34m\u001b[0m\u001b[0m\n\u001b[1;32m      3\u001b[0m \u001b[0;32mfrom\u001b[0m \u001b[0mpytket\u001b[0m\u001b[0;34m.\u001b[0m\u001b[0mutils\u001b[0m \u001b[0;32mimport\u001b[0m \u001b[0mexpectation_from_counts\u001b[0m\u001b[0;34m\u001b[0m\u001b[0;34m\u001b[0m\u001b[0m\n\u001b[0;32m----> 4\u001b[0;31m \u001b[0mbackend\u001b[0m \u001b[0;34m=\u001b[0m \u001b[0mIBMQBackend\u001b[0m\u001b[0;34m(\u001b[0m\u001b[0;34m\"ibmq_quito\"\u001b[0m\u001b[0;34m)\u001b[0m\u001b[0;34m\u001b[0m\u001b[0;34m\u001b[0m\u001b[0m\n\u001b[0m\u001b[1;32m      5\u001b[0m \u001b[0;34m\u001b[0m\u001b[0m\n\u001b[1;32m      6\u001b[0m \u001b[0mstate\u001b[0m \u001b[0;34m=\u001b[0m \u001b[0mCircuit\u001b[0m\u001b[0;34m(\u001b[0m\u001b[0;36m3\u001b[0m\u001b[0;34m)\u001b[0m\u001b[0;34m\u001b[0m\u001b[0;34m\u001b[0m\u001b[0m\n",
            "\u001b[0;32m/usr/local/lib/python3.8/dist-packages/pytket/extensions/qiskit/backends/ibm.py\u001b[0m in \u001b[0;36m__init__\u001b[0;34m(self, backend_name, hub, group, project, monitor, account_provider, token)\u001b[0m\n\u001b[1;32m    171\u001b[0m         \u001b[0mself\u001b[0m\u001b[0;34m.\u001b[0m\u001b[0m_backend_info\u001b[0m \u001b[0;34m=\u001b[0m \u001b[0mself\u001b[0m\u001b[0;34m.\u001b[0m\u001b[0m_get_backend_info\u001b[0m\u001b[0;34m(\u001b[0m\u001b[0mself\u001b[0m\u001b[0;34m.\u001b[0m\u001b[0m_backend\u001b[0m\u001b[0;34m)\u001b[0m\u001b[0;34m\u001b[0m\u001b[0;34m\u001b[0m\u001b[0m\n\u001b[1;32m    172\u001b[0m \u001b[0;34m\u001b[0m\u001b[0m\n\u001b[0;32m--> 173\u001b[0;31m         \u001b[0mself\u001b[0m\u001b[0;34m.\u001b[0m\u001b[0m_service\u001b[0m \u001b[0;34m=\u001b[0m \u001b[0mQiskitRuntimeService\u001b[0m\u001b[0;34m(\u001b[0m\u001b[0mchannel\u001b[0m\u001b[0;34m=\u001b[0m\u001b[0;34m\"ibm_quantum\"\u001b[0m\u001b[0;34m,\u001b[0m \u001b[0mtoken\u001b[0m\u001b[0;34m=\u001b[0m\u001b[0mtoken\u001b[0m\u001b[0;34m)\u001b[0m\u001b[0;34m\u001b[0m\u001b[0;34m\u001b[0m\u001b[0m\n\u001b[0m\u001b[1;32m    174\u001b[0m         \u001b[0mself\u001b[0m\u001b[0;34m.\u001b[0m\u001b[0m_session\u001b[0m \u001b[0;34m=\u001b[0m \u001b[0mSession\u001b[0m\u001b[0;34m(\u001b[0m\u001b[0mservice\u001b[0m\u001b[0;34m=\u001b[0m\u001b[0mself\u001b[0m\u001b[0;34m.\u001b[0m\u001b[0m_service\u001b[0m\u001b[0;34m,\u001b[0m \u001b[0mbackend\u001b[0m\u001b[0;34m=\u001b[0m\u001b[0mbackend_name\u001b[0m\u001b[0;34m)\u001b[0m\u001b[0;34m\u001b[0m\u001b[0;34m\u001b[0m\u001b[0m\n\u001b[1;32m    175\u001b[0m \u001b[0;34m\u001b[0m\u001b[0m\n",
            "\u001b[0;32m/usr/local/lib/python3.8/dist-packages/qiskit_ibm_runtime/qiskit_runtime_service.py\u001b[0m in \u001b[0;36m__init__\u001b[0;34m(self, channel, auth, token, url, name, instance, proxies, verify)\u001b[0m\n\u001b[1;32m    180\u001b[0m             \u001b[0mself\u001b[0m\u001b[0;34m.\u001b[0m\u001b[0m_auth_warning\u001b[0m\u001b[0;34m(\u001b[0m\u001b[0;34m)\u001b[0m\u001b[0;34m\u001b[0m\u001b[0;34m\u001b[0m\u001b[0m\n\u001b[1;32m    181\u001b[0m \u001b[0;34m\u001b[0m\u001b[0m\n\u001b[0;32m--> 182\u001b[0;31m         self._account = self._discover_account(\n\u001b[0m\u001b[1;32m    183\u001b[0m             \u001b[0mtoken\u001b[0m\u001b[0;34m=\u001b[0m\u001b[0mtoken\u001b[0m\u001b[0;34m,\u001b[0m\u001b[0;34m\u001b[0m\u001b[0;34m\u001b[0m\u001b[0m\n\u001b[1;32m    184\u001b[0m             \u001b[0murl\u001b[0m\u001b[0;34m=\u001b[0m\u001b[0murl\u001b[0m\u001b[0;34m,\u001b[0m\u001b[0;34m\u001b[0m\u001b[0;34m\u001b[0m\u001b[0m\n",
            "\u001b[0;32m/usr/local/lib/python3.8/dist-packages/qiskit_ibm_runtime/qiskit_runtime_service.py\u001b[0m in \u001b[0;36m_discover_account\u001b[0;34m(self, token, url, instance, channel, auth, name, proxies, verify)\u001b[0m\n\u001b[1;32m    280\u001b[0m                         \u001b[0;34m\"Loading default %s account. Input 'url' is ignored.\"\u001b[0m\u001b[0;34m,\u001b[0m \u001b[0mchannel\u001b[0m\u001b[0;34m\u001b[0m\u001b[0;34m\u001b[0m\u001b[0m\n\u001b[1;32m    281\u001b[0m                     )\n\u001b[0;32m--> 282\u001b[0;31m                 \u001b[0maccount\u001b[0m \u001b[0;34m=\u001b[0m \u001b[0mAccountManager\u001b[0m\u001b[0;34m.\u001b[0m\u001b[0mget\u001b[0m\u001b[0;34m(\u001b[0m\u001b[0mchannel\u001b[0m\u001b[0;34m=\u001b[0m\u001b[0mchannel\u001b[0m\u001b[0;34m)\u001b[0m\u001b[0;34m\u001b[0m\u001b[0;34m\u001b[0m\u001b[0m\n\u001b[0m\u001b[1;32m    283\u001b[0m         \u001b[0;32melif\u001b[0m \u001b[0many\u001b[0m\u001b[0;34m(\u001b[0m\u001b[0;34m[\u001b[0m\u001b[0mtoken\u001b[0m\u001b[0;34m,\u001b[0m \u001b[0murl\u001b[0m\u001b[0;34m]\u001b[0m\u001b[0;34m)\u001b[0m\u001b[0;34m:\u001b[0m\u001b[0;34m\u001b[0m\u001b[0;34m\u001b[0m\u001b[0m\n\u001b[1;32m    284\u001b[0m             \u001b[0;31m# Let's not infer based on these attributes as they may change in the future.\u001b[0m\u001b[0;34m\u001b[0m\u001b[0;34m\u001b[0m\u001b[0;34m\u001b[0m\u001b[0m\n",
            "\u001b[0;32m/usr/local/lib/python3.8/dist-packages/qiskit_ibm_runtime/accounts/management.py\u001b[0m in \u001b[0;36mget\u001b[0;34m(cls, name, channel)\u001b[0m\n\u001b[1;32m    157\u001b[0m             )\n\u001b[1;32m    158\u001b[0m             \u001b[0;32mif\u001b[0m \u001b[0msaved_account\u001b[0m \u001b[0;32mis\u001b[0m \u001b[0;32mNone\u001b[0m\u001b[0;34m:\u001b[0m\u001b[0;34m\u001b[0m\u001b[0;34m\u001b[0m\u001b[0m\n\u001b[0;32m--> 159\u001b[0;31m                 \u001b[0;32mraise\u001b[0m \u001b[0mAccountNotFoundError\u001b[0m\u001b[0;34m(\u001b[0m\u001b[0;34mf\"No default {channel} account saved.\"\u001b[0m\u001b[0;34m)\u001b[0m\u001b[0;34m\u001b[0m\u001b[0;34m\u001b[0m\u001b[0m\n\u001b[0m\u001b[1;32m    160\u001b[0m             \u001b[0;32mreturn\u001b[0m \u001b[0mAccount\u001b[0m\u001b[0;34m.\u001b[0m\u001b[0mfrom_saved_format\u001b[0m\u001b[0;34m(\u001b[0m\u001b[0msaved_account\u001b[0m\u001b[0;34m)\u001b[0m\u001b[0;34m\u001b[0m\u001b[0;34m\u001b[0m\u001b[0m\n\u001b[1;32m    161\u001b[0m \u001b[0;34m\u001b[0m\u001b[0m\n",
            "\u001b[0;31mAccountNotFoundError\u001b[0m: 'No default ibm_quantum account saved.'"
          ]
        }
      ]
    },
    {
      "cell_type": "markdown",
      "source": [
        "## Embedding into Qiskit"
      ],
      "metadata": {
        "id": "SxvJDOFA1_Ng"
      }
    },
    {
      "cell_type": "code",
      "source": [
        "from qiskit.utils import QuantumInstance\n",
        "from qiskit.algorithms import Grover, AmplificationProblem\n",
        "from qiskit.circuit import QuantumCircuit\n",
        "\n",
        "from pytket.extensions.qulacs import QulacsBackend\n",
        "from pytket.extensions.qiskit.tket_backend import TketBackend\n",
        "\n",
        "b = QulacsBackend()\n",
        "backend = TketBackend(b, b.default_compilation_pass())\n",
        "qinstance = QuantumInstance(backend)\n",
        "\n",
        "oracle = QuantumCircuit(2)\n",
        "oracle.cz(0, 1)\n",
        "\n",
        "def is_good_state(bitstr):\n",
        "    return sum(map(int, bitstr)) == 2\n",
        "\n",
        "problem = AmplificationProblem(oracle=oracle, is_good_state=is_good_state)\n",
        "grover = Grover(quantum_instance=qinstance)\n",
        "result = grover.amplify(problem)\n",
        "print(\"Top measurement:\", result.top_measurement)"
      ],
      "metadata": {
        "id": "Y27oMs2f2E7f",
        "colab": {
          "base_uri": "https://localhost:8080/",
          "height": 373
        },
        "outputId": "d19effa5-0316-4ee4-cc96-0999f9e29155"
      },
      "execution_count": null,
      "outputs": [
        {
          "output_type": "error",
          "ename": "ModuleNotFoundError",
          "evalue": "ignored",
          "traceback": [
            "\u001b[0;31m---------------------------------------------------------------------------\u001b[0m",
            "\u001b[0;31mModuleNotFoundError\u001b[0m                       Traceback (most recent call last)",
            "\u001b[0;32m<ipython-input-136-77752b693098>\u001b[0m in \u001b[0;36m<module>\u001b[0;34m\u001b[0m\n\u001b[1;32m      3\u001b[0m \u001b[0;32mfrom\u001b[0m \u001b[0mqiskit\u001b[0m\u001b[0;34m.\u001b[0m\u001b[0mcircuit\u001b[0m \u001b[0;32mimport\u001b[0m \u001b[0mQuantumCircuit\u001b[0m\u001b[0;34m\u001b[0m\u001b[0;34m\u001b[0m\u001b[0m\n\u001b[1;32m      4\u001b[0m \u001b[0;34m\u001b[0m\u001b[0m\n\u001b[0;32m----> 5\u001b[0;31m \u001b[0;32mfrom\u001b[0m \u001b[0mpytket\u001b[0m\u001b[0;34m.\u001b[0m\u001b[0mextensions\u001b[0m\u001b[0;34m.\u001b[0m\u001b[0mqulacs\u001b[0m \u001b[0;32mimport\u001b[0m \u001b[0mQulacsBackend\u001b[0m\u001b[0;34m\u001b[0m\u001b[0;34m\u001b[0m\u001b[0m\n\u001b[0m\u001b[1;32m      6\u001b[0m \u001b[0;32mfrom\u001b[0m \u001b[0mpytket\u001b[0m\u001b[0;34m.\u001b[0m\u001b[0mextensions\u001b[0m\u001b[0;34m.\u001b[0m\u001b[0mqiskit\u001b[0m\u001b[0;34m.\u001b[0m\u001b[0mtket_backend\u001b[0m \u001b[0;32mimport\u001b[0m \u001b[0mTketBackend\u001b[0m\u001b[0;34m\u001b[0m\u001b[0;34m\u001b[0m\u001b[0m\n\u001b[1;32m      7\u001b[0m \u001b[0;34m\u001b[0m\u001b[0m\n",
            "\u001b[0;31mModuleNotFoundError\u001b[0m: No module named 'pytket.extensions.qulacs'",
            "",
            "\u001b[0;31m---------------------------------------------------------------------------\u001b[0;32m\nNOTE: If your import is failing due to a missing package, you can\nmanually install dependencies using either !pip or !apt.\n\nTo view examples of installing some common dependencies, click the\n\"Open Examples\" button below.\n\u001b[0;31m---------------------------------------------------------------------------\u001b[0m\n"
          ],
          "errorDetails": {
            "actions": [
              {
                "action": "open_url",
                "actionText": "Open Examples",
                "url": "/notebooks/snippets/importing_libraries.ipynb"
              }
            ]
          }
        }
      ]
    },
    {
      "cell_type": "markdown",
      "source": [
        "## Advanced Topics\n",
        "### Simulator Support for Expectation Values"
      ],
      "metadata": {
        "id": "yYs7nD7V3tGh"
      }
    },
    {
      "cell_type": "code",
      "source": [
        "from pytket import Circuit, Qubit\n",
        "from pytket.extensions.qiskit import AerStateBackend\n",
        "from pytket.pauli import Pauli, QubitPauliString\n",
        "from pytket.utils.operators import QubitPauliOperator\n",
        "backend = AerStateBackend()\n",
        "\n",
        "state = Circuit(3)\n",
        "state.H(0).CX(0, 1).V(2)\n",
        "\n",
        "xxy = QubitPauliString({\n",
        "    Qubit(0) : Pauli.X,\n",
        "    Qubit(1) : Pauli.X,\n",
        "    Qubit(2) : Pauli.Y})\n",
        "zzi = QubitPauliString({\n",
        "    Qubit(0) : Pauli.Z,\n",
        "    Qubit(1) : Pauli.Z})\n",
        "iiz = QubitPauliString({\n",
        "    Qubit(2) : Pauli.Z})\n",
        "op = QubitPauliOperator({\n",
        "    QubitPauliString() : -0.5,\n",
        "    xxy : 0.7,\n",
        "    zzi : 1.4,\n",
        "    iiz : 3.2})\n",
        "\n",
        "assert backend.supports_expectation\n",
        "state = backend.get_compiled_circuit(state)\n",
        "print(backend.get_pauli_expectation_value(state, xxy))\n",
        "print(backend.get_operator_expectation_value(state, op))"
      ],
      "metadata": {
        "colab": {
          "base_uri": "https://localhost:8080/"
        },
        "id": "WIw9jE6M3zEJ",
        "outputId": "441ce66b-4842-4c6a-94e9-4a98559de41a"
      },
      "execution_count": null,
      "outputs": [
        {
          "output_type": "stream",
          "name": "stdout",
          "text": [
            "-1.0\n",
            "0.20000000000000068\n"
          ]
        }
      ]
    },
    {
      "cell_type": "markdown",
      "source": [
        "## Asynchronous Job Submission"
      ],
      "metadata": {
        "id": "Q6e7Xcb234Tj"
      }
    },
    {
      "cell_type": "code",
      "source": [
        "import asyncio\n",
        "from pytket import Circuit\n",
        "from pytket.backends import StatusEnum\n",
        "from pytket.extensions.qiskit import IBMQBackend\n",
        "from pytket.utils import expectation_from_counts\n",
        "backend = IBMQBackend(\"ibmq_quito\")\n",
        "\n",
        "state = Circuit(3)\n",
        "state.H(0).CX(0, 1).CX(1, 2).X(0)\n",
        "# Compute expectation value for -0.3i ZZZ + 0.8 XZZ + 1.2 XXX\n",
        "zzz = Circuit(3, 3)\n",
        "zzz.measure_all()\n",
        "xzz = Circuit(3, 3)\n",
        "xzz.H(0).measure_all()\n",
        "xxx = Circuit(3, 3)\n",
        "xxx.H(0).H(1).H(2).measure_all()\n",
        "circ_list = []\n",
        "for m in [zzz, xzz, xxx]:\n",
        "    c = state.copy()\n",
        "    c.append(m)\n",
        "    circ_list.append(backend.get_compiled_circuit(c))\n",
        "coeff_list = [\n",
        "    -0.3j,  # ZZZ\n",
        "    0.8,    # XZZ\n",
        "    1.2     # XXX\n",
        "]\n",
        "\n",
        "handle_list = backend.process_circuits(circ_list, n_shots=2000)\n",
        "\n",
        "async def check_at_intervals(backend, handle, interval):\n",
        "    while True:\n",
        "        await asyncio.sleep(interval)\n",
        "        status = backend.circuit_status(handle)\n",
        "        if status.status in (StatusEnum.COMPLETED, StatusEnum.ERROR):\n",
        "            return status\n",
        "\n",
        "async def expectation(backend, handle, coeff):\n",
        "    await check_at_intervals(backend, handle, 5)\n",
        "    counts = backend.get_result(handle).get_counts()\n",
        "    return coeff * expectation_from_counts(counts)\n",
        "\n",
        "async def main():\n",
        "    task_set = set([asyncio.create_task(expectation(backend, h, c)) for h, c in zip(handle_list, coeff_list)])\n",
        "    done, pending = await asyncio.wait(task_set, return_when=asyncio.ALL_COMPLETED)\n",
        "    sum = 0\n",
        "    for t in done:\n",
        "        sum += await t\n",
        "\n",
        "    print(sum)\n",
        "\n",
        "asyncio.run(main())"
      ],
      "metadata": {
        "id": "sFzfW98c37TN",
        "colab": {
          "base_uri": "https://localhost:8080/",
          "height": 380
        },
        "outputId": "08aa13f7-c700-4da8-e58e-c5e9e234ca9e"
      },
      "execution_count": null,
      "outputs": [
        {
          "output_type": "error",
          "ename": "AccountNotFoundError",
          "evalue": "ignored",
          "traceback": [
            "\u001b[0;31m---------------------------------------------------------------------------\u001b[0m",
            "\u001b[0;31mAccountNotFoundError\u001b[0m                      Traceback (most recent call last)",
            "\u001b[0;32m<ipython-input-138-7d98b406cd38>\u001b[0m in \u001b[0;36m<module>\u001b[0;34m\u001b[0m\n\u001b[1;32m      4\u001b[0m \u001b[0;32mfrom\u001b[0m \u001b[0mpytket\u001b[0m\u001b[0;34m.\u001b[0m\u001b[0mextensions\u001b[0m\u001b[0;34m.\u001b[0m\u001b[0mqiskit\u001b[0m \u001b[0;32mimport\u001b[0m \u001b[0mIBMQBackend\u001b[0m\u001b[0;34m\u001b[0m\u001b[0;34m\u001b[0m\u001b[0m\n\u001b[1;32m      5\u001b[0m \u001b[0;32mfrom\u001b[0m \u001b[0mpytket\u001b[0m\u001b[0;34m.\u001b[0m\u001b[0mutils\u001b[0m \u001b[0;32mimport\u001b[0m \u001b[0mexpectation_from_counts\u001b[0m\u001b[0;34m\u001b[0m\u001b[0;34m\u001b[0m\u001b[0m\n\u001b[0;32m----> 6\u001b[0;31m \u001b[0mbackend\u001b[0m \u001b[0;34m=\u001b[0m \u001b[0mIBMQBackend\u001b[0m\u001b[0;34m(\u001b[0m\u001b[0;34m\"ibmq_quito\"\u001b[0m\u001b[0;34m)\u001b[0m\u001b[0;34m\u001b[0m\u001b[0;34m\u001b[0m\u001b[0m\n\u001b[0m\u001b[1;32m      7\u001b[0m \u001b[0;34m\u001b[0m\u001b[0m\n\u001b[1;32m      8\u001b[0m \u001b[0mstate\u001b[0m \u001b[0;34m=\u001b[0m \u001b[0mCircuit\u001b[0m\u001b[0;34m(\u001b[0m\u001b[0;36m3\u001b[0m\u001b[0;34m)\u001b[0m\u001b[0;34m\u001b[0m\u001b[0;34m\u001b[0m\u001b[0m\n",
            "\u001b[0;32m/usr/local/lib/python3.8/dist-packages/pytket/extensions/qiskit/backends/ibm.py\u001b[0m in \u001b[0;36m__init__\u001b[0;34m(self, backend_name, hub, group, project, monitor, account_provider, token)\u001b[0m\n\u001b[1;32m    171\u001b[0m         \u001b[0mself\u001b[0m\u001b[0;34m.\u001b[0m\u001b[0m_backend_info\u001b[0m \u001b[0;34m=\u001b[0m \u001b[0mself\u001b[0m\u001b[0;34m.\u001b[0m\u001b[0m_get_backend_info\u001b[0m\u001b[0;34m(\u001b[0m\u001b[0mself\u001b[0m\u001b[0;34m.\u001b[0m\u001b[0m_backend\u001b[0m\u001b[0;34m)\u001b[0m\u001b[0;34m\u001b[0m\u001b[0;34m\u001b[0m\u001b[0m\n\u001b[1;32m    172\u001b[0m \u001b[0;34m\u001b[0m\u001b[0m\n\u001b[0;32m--> 173\u001b[0;31m         \u001b[0mself\u001b[0m\u001b[0;34m.\u001b[0m\u001b[0m_service\u001b[0m \u001b[0;34m=\u001b[0m \u001b[0mQiskitRuntimeService\u001b[0m\u001b[0;34m(\u001b[0m\u001b[0mchannel\u001b[0m\u001b[0;34m=\u001b[0m\u001b[0;34m\"ibm_quantum\"\u001b[0m\u001b[0;34m,\u001b[0m \u001b[0mtoken\u001b[0m\u001b[0;34m=\u001b[0m\u001b[0mtoken\u001b[0m\u001b[0;34m)\u001b[0m\u001b[0;34m\u001b[0m\u001b[0;34m\u001b[0m\u001b[0m\n\u001b[0m\u001b[1;32m    174\u001b[0m         \u001b[0mself\u001b[0m\u001b[0;34m.\u001b[0m\u001b[0m_session\u001b[0m \u001b[0;34m=\u001b[0m \u001b[0mSession\u001b[0m\u001b[0;34m(\u001b[0m\u001b[0mservice\u001b[0m\u001b[0;34m=\u001b[0m\u001b[0mself\u001b[0m\u001b[0;34m.\u001b[0m\u001b[0m_service\u001b[0m\u001b[0;34m,\u001b[0m \u001b[0mbackend\u001b[0m\u001b[0;34m=\u001b[0m\u001b[0mbackend_name\u001b[0m\u001b[0;34m)\u001b[0m\u001b[0;34m\u001b[0m\u001b[0;34m\u001b[0m\u001b[0m\n\u001b[1;32m    175\u001b[0m \u001b[0;34m\u001b[0m\u001b[0m\n",
            "\u001b[0;32m/usr/local/lib/python3.8/dist-packages/qiskit_ibm_runtime/qiskit_runtime_service.py\u001b[0m in \u001b[0;36m__init__\u001b[0;34m(self, channel, auth, token, url, name, instance, proxies, verify)\u001b[0m\n\u001b[1;32m    180\u001b[0m             \u001b[0mself\u001b[0m\u001b[0;34m.\u001b[0m\u001b[0m_auth_warning\u001b[0m\u001b[0;34m(\u001b[0m\u001b[0;34m)\u001b[0m\u001b[0;34m\u001b[0m\u001b[0;34m\u001b[0m\u001b[0m\n\u001b[1;32m    181\u001b[0m \u001b[0;34m\u001b[0m\u001b[0m\n\u001b[0;32m--> 182\u001b[0;31m         self._account = self._discover_account(\n\u001b[0m\u001b[1;32m    183\u001b[0m             \u001b[0mtoken\u001b[0m\u001b[0;34m=\u001b[0m\u001b[0mtoken\u001b[0m\u001b[0;34m,\u001b[0m\u001b[0;34m\u001b[0m\u001b[0;34m\u001b[0m\u001b[0m\n\u001b[1;32m    184\u001b[0m             \u001b[0murl\u001b[0m\u001b[0;34m=\u001b[0m\u001b[0murl\u001b[0m\u001b[0;34m,\u001b[0m\u001b[0;34m\u001b[0m\u001b[0;34m\u001b[0m\u001b[0m\n",
            "\u001b[0;32m/usr/local/lib/python3.8/dist-packages/qiskit_ibm_runtime/qiskit_runtime_service.py\u001b[0m in \u001b[0;36m_discover_account\u001b[0;34m(self, token, url, instance, channel, auth, name, proxies, verify)\u001b[0m\n\u001b[1;32m    280\u001b[0m                         \u001b[0;34m\"Loading default %s account. Input 'url' is ignored.\"\u001b[0m\u001b[0;34m,\u001b[0m \u001b[0mchannel\u001b[0m\u001b[0;34m\u001b[0m\u001b[0;34m\u001b[0m\u001b[0m\n\u001b[1;32m    281\u001b[0m                     )\n\u001b[0;32m--> 282\u001b[0;31m                 \u001b[0maccount\u001b[0m \u001b[0;34m=\u001b[0m \u001b[0mAccountManager\u001b[0m\u001b[0;34m.\u001b[0m\u001b[0mget\u001b[0m\u001b[0;34m(\u001b[0m\u001b[0mchannel\u001b[0m\u001b[0;34m=\u001b[0m\u001b[0mchannel\u001b[0m\u001b[0;34m)\u001b[0m\u001b[0;34m\u001b[0m\u001b[0;34m\u001b[0m\u001b[0m\n\u001b[0m\u001b[1;32m    283\u001b[0m         \u001b[0;32melif\u001b[0m \u001b[0many\u001b[0m\u001b[0;34m(\u001b[0m\u001b[0;34m[\u001b[0m\u001b[0mtoken\u001b[0m\u001b[0;34m,\u001b[0m \u001b[0murl\u001b[0m\u001b[0;34m]\u001b[0m\u001b[0;34m)\u001b[0m\u001b[0;34m:\u001b[0m\u001b[0;34m\u001b[0m\u001b[0;34m\u001b[0m\u001b[0m\n\u001b[1;32m    284\u001b[0m             \u001b[0;31m# Let's not infer based on these attributes as they may change in the future.\u001b[0m\u001b[0;34m\u001b[0m\u001b[0;34m\u001b[0m\u001b[0;34m\u001b[0m\u001b[0m\n",
            "\u001b[0;32m/usr/local/lib/python3.8/dist-packages/qiskit_ibm_runtime/accounts/management.py\u001b[0m in \u001b[0;36mget\u001b[0;34m(cls, name, channel)\u001b[0m\n\u001b[1;32m    157\u001b[0m             )\n\u001b[1;32m    158\u001b[0m             \u001b[0;32mif\u001b[0m \u001b[0msaved_account\u001b[0m \u001b[0;32mis\u001b[0m \u001b[0;32mNone\u001b[0m\u001b[0;34m:\u001b[0m\u001b[0;34m\u001b[0m\u001b[0;34m\u001b[0m\u001b[0m\n\u001b[0;32m--> 159\u001b[0;31m                 \u001b[0;32mraise\u001b[0m \u001b[0mAccountNotFoundError\u001b[0m\u001b[0;34m(\u001b[0m\u001b[0;34mf\"No default {channel} account saved.\"\u001b[0m\u001b[0;34m)\u001b[0m\u001b[0;34m\u001b[0m\u001b[0;34m\u001b[0m\u001b[0m\n\u001b[0m\u001b[1;32m    160\u001b[0m             \u001b[0;32mreturn\u001b[0m \u001b[0mAccount\u001b[0m\u001b[0;34m.\u001b[0m\u001b[0mfrom_saved_format\u001b[0m\u001b[0;34m(\u001b[0m\u001b[0msaved_account\u001b[0m\u001b[0;34m)\u001b[0m\u001b[0;34m\u001b[0m\u001b[0;34m\u001b[0m\u001b[0m\n\u001b[1;32m    161\u001b[0m \u001b[0;34m\u001b[0m\u001b[0m\n",
            "\u001b[0;31mAccountNotFoundError\u001b[0m: 'No default ibm_quantum account saved.'"
          ]
        }
      ]
    },
    {
      "cell_type": "markdown",
      "source": [
        "## Persistent Handles"
      ],
      "metadata": {
        "id": "aAzajraq4DIe"
      }
    },
    {
      "cell_type": "code",
      "source": [
        "from pytket import Circuit\n",
        "from pytket.extensions.qiskit import IBMQBackend\n",
        "backend = IBMQBackend(\"ibmq_quito\")\n",
        "\n",
        "circ = Circuit(3, 3)\n",
        "circ.X(1).CZ(0, 1).CX(1, 2).measure_all()\n",
        "circ = backend.get_compiled_circuit(circ)\n",
        "handle = backend.process_circuit(circ, n_shots=1000)\n",
        "\n",
        "# assert backend.persistent_handles\n",
        "print(str(handle))\n",
        "counts = backend.get_result(handle).get_counts()\n",
        "print(counts)"
      ],
      "metadata": {
        "id": "PapIXFgk4HOI",
        "colab": {
          "base_uri": "https://localhost:8080/",
          "height": 380
        },
        "outputId": "8dd40fb3-3211-49e3-9d1b-a91380b5e5f9"
      },
      "execution_count": null,
      "outputs": [
        {
          "output_type": "error",
          "ename": "AccountNotFoundError",
          "evalue": "ignored",
          "traceback": [
            "\u001b[0;31m---------------------------------------------------------------------------\u001b[0m",
            "\u001b[0;31mAccountNotFoundError\u001b[0m                      Traceback (most recent call last)",
            "\u001b[0;32m<ipython-input-139-7ac241510840>\u001b[0m in \u001b[0;36m<module>\u001b[0;34m\u001b[0m\n\u001b[1;32m      1\u001b[0m \u001b[0;32mfrom\u001b[0m \u001b[0mpytket\u001b[0m \u001b[0;32mimport\u001b[0m \u001b[0mCircuit\u001b[0m\u001b[0;34m\u001b[0m\u001b[0;34m\u001b[0m\u001b[0m\n\u001b[1;32m      2\u001b[0m \u001b[0;32mfrom\u001b[0m \u001b[0mpytket\u001b[0m\u001b[0;34m.\u001b[0m\u001b[0mextensions\u001b[0m\u001b[0;34m.\u001b[0m\u001b[0mqiskit\u001b[0m \u001b[0;32mimport\u001b[0m \u001b[0mIBMQBackend\u001b[0m\u001b[0;34m\u001b[0m\u001b[0;34m\u001b[0m\u001b[0m\n\u001b[0;32m----> 3\u001b[0;31m \u001b[0mbackend\u001b[0m \u001b[0;34m=\u001b[0m \u001b[0mIBMQBackend\u001b[0m\u001b[0;34m(\u001b[0m\u001b[0;34m\"ibmq_quito\"\u001b[0m\u001b[0;34m)\u001b[0m\u001b[0;34m\u001b[0m\u001b[0;34m\u001b[0m\u001b[0m\n\u001b[0m\u001b[1;32m      4\u001b[0m \u001b[0;34m\u001b[0m\u001b[0m\n\u001b[1;32m      5\u001b[0m \u001b[0mcirc\u001b[0m \u001b[0;34m=\u001b[0m \u001b[0mCircuit\u001b[0m\u001b[0;34m(\u001b[0m\u001b[0;36m3\u001b[0m\u001b[0;34m,\u001b[0m \u001b[0;36m3\u001b[0m\u001b[0;34m)\u001b[0m\u001b[0;34m\u001b[0m\u001b[0;34m\u001b[0m\u001b[0m\n",
            "\u001b[0;32m/usr/local/lib/python3.8/dist-packages/pytket/extensions/qiskit/backends/ibm.py\u001b[0m in \u001b[0;36m__init__\u001b[0;34m(self, backend_name, hub, group, project, monitor, account_provider, token)\u001b[0m\n\u001b[1;32m    171\u001b[0m         \u001b[0mself\u001b[0m\u001b[0;34m.\u001b[0m\u001b[0m_backend_info\u001b[0m \u001b[0;34m=\u001b[0m \u001b[0mself\u001b[0m\u001b[0;34m.\u001b[0m\u001b[0m_get_backend_info\u001b[0m\u001b[0;34m(\u001b[0m\u001b[0mself\u001b[0m\u001b[0;34m.\u001b[0m\u001b[0m_backend\u001b[0m\u001b[0;34m)\u001b[0m\u001b[0;34m\u001b[0m\u001b[0;34m\u001b[0m\u001b[0m\n\u001b[1;32m    172\u001b[0m \u001b[0;34m\u001b[0m\u001b[0m\n\u001b[0;32m--> 173\u001b[0;31m         \u001b[0mself\u001b[0m\u001b[0;34m.\u001b[0m\u001b[0m_service\u001b[0m \u001b[0;34m=\u001b[0m \u001b[0mQiskitRuntimeService\u001b[0m\u001b[0;34m(\u001b[0m\u001b[0mchannel\u001b[0m\u001b[0;34m=\u001b[0m\u001b[0;34m\"ibm_quantum\"\u001b[0m\u001b[0;34m,\u001b[0m \u001b[0mtoken\u001b[0m\u001b[0;34m=\u001b[0m\u001b[0mtoken\u001b[0m\u001b[0;34m)\u001b[0m\u001b[0;34m\u001b[0m\u001b[0;34m\u001b[0m\u001b[0m\n\u001b[0m\u001b[1;32m    174\u001b[0m         \u001b[0mself\u001b[0m\u001b[0;34m.\u001b[0m\u001b[0m_session\u001b[0m \u001b[0;34m=\u001b[0m \u001b[0mSession\u001b[0m\u001b[0;34m(\u001b[0m\u001b[0mservice\u001b[0m\u001b[0;34m=\u001b[0m\u001b[0mself\u001b[0m\u001b[0;34m.\u001b[0m\u001b[0m_service\u001b[0m\u001b[0;34m,\u001b[0m \u001b[0mbackend\u001b[0m\u001b[0;34m=\u001b[0m\u001b[0mbackend_name\u001b[0m\u001b[0;34m)\u001b[0m\u001b[0;34m\u001b[0m\u001b[0;34m\u001b[0m\u001b[0m\n\u001b[1;32m    175\u001b[0m \u001b[0;34m\u001b[0m\u001b[0m\n",
            "\u001b[0;32m/usr/local/lib/python3.8/dist-packages/qiskit_ibm_runtime/qiskit_runtime_service.py\u001b[0m in \u001b[0;36m__init__\u001b[0;34m(self, channel, auth, token, url, name, instance, proxies, verify)\u001b[0m\n\u001b[1;32m    180\u001b[0m             \u001b[0mself\u001b[0m\u001b[0;34m.\u001b[0m\u001b[0m_auth_warning\u001b[0m\u001b[0;34m(\u001b[0m\u001b[0;34m)\u001b[0m\u001b[0;34m\u001b[0m\u001b[0;34m\u001b[0m\u001b[0m\n\u001b[1;32m    181\u001b[0m \u001b[0;34m\u001b[0m\u001b[0m\n\u001b[0;32m--> 182\u001b[0;31m         self._account = self._discover_account(\n\u001b[0m\u001b[1;32m    183\u001b[0m             \u001b[0mtoken\u001b[0m\u001b[0;34m=\u001b[0m\u001b[0mtoken\u001b[0m\u001b[0;34m,\u001b[0m\u001b[0;34m\u001b[0m\u001b[0;34m\u001b[0m\u001b[0m\n\u001b[1;32m    184\u001b[0m             \u001b[0murl\u001b[0m\u001b[0;34m=\u001b[0m\u001b[0murl\u001b[0m\u001b[0;34m,\u001b[0m\u001b[0;34m\u001b[0m\u001b[0;34m\u001b[0m\u001b[0m\n",
            "\u001b[0;32m/usr/local/lib/python3.8/dist-packages/qiskit_ibm_runtime/qiskit_runtime_service.py\u001b[0m in \u001b[0;36m_discover_account\u001b[0;34m(self, token, url, instance, channel, auth, name, proxies, verify)\u001b[0m\n\u001b[1;32m    280\u001b[0m                         \u001b[0;34m\"Loading default %s account. Input 'url' is ignored.\"\u001b[0m\u001b[0;34m,\u001b[0m \u001b[0mchannel\u001b[0m\u001b[0;34m\u001b[0m\u001b[0;34m\u001b[0m\u001b[0m\n\u001b[1;32m    281\u001b[0m                     )\n\u001b[0;32m--> 282\u001b[0;31m                 \u001b[0maccount\u001b[0m \u001b[0;34m=\u001b[0m \u001b[0mAccountManager\u001b[0m\u001b[0;34m.\u001b[0m\u001b[0mget\u001b[0m\u001b[0;34m(\u001b[0m\u001b[0mchannel\u001b[0m\u001b[0;34m=\u001b[0m\u001b[0mchannel\u001b[0m\u001b[0;34m)\u001b[0m\u001b[0;34m\u001b[0m\u001b[0;34m\u001b[0m\u001b[0m\n\u001b[0m\u001b[1;32m    283\u001b[0m         \u001b[0;32melif\u001b[0m \u001b[0many\u001b[0m\u001b[0;34m(\u001b[0m\u001b[0;34m[\u001b[0m\u001b[0mtoken\u001b[0m\u001b[0;34m,\u001b[0m \u001b[0murl\u001b[0m\u001b[0;34m]\u001b[0m\u001b[0;34m)\u001b[0m\u001b[0;34m:\u001b[0m\u001b[0;34m\u001b[0m\u001b[0;34m\u001b[0m\u001b[0m\n\u001b[1;32m    284\u001b[0m             \u001b[0;31m# Let's not infer based on these attributes as they may change in the future.\u001b[0m\u001b[0;34m\u001b[0m\u001b[0;34m\u001b[0m\u001b[0;34m\u001b[0m\u001b[0m\n",
            "\u001b[0;32m/usr/local/lib/python3.8/dist-packages/qiskit_ibm_runtime/accounts/management.py\u001b[0m in \u001b[0;36mget\u001b[0;34m(cls, name, channel)\u001b[0m\n\u001b[1;32m    157\u001b[0m             )\n\u001b[1;32m    158\u001b[0m             \u001b[0;32mif\u001b[0m \u001b[0msaved_account\u001b[0m \u001b[0;32mis\u001b[0m \u001b[0;32mNone\u001b[0m\u001b[0;34m:\u001b[0m\u001b[0;34m\u001b[0m\u001b[0;34m\u001b[0m\u001b[0m\n\u001b[0;32m--> 159\u001b[0;31m                 \u001b[0;32mraise\u001b[0m \u001b[0mAccountNotFoundError\u001b[0m\u001b[0;34m(\u001b[0m\u001b[0;34mf\"No default {channel} account saved.\"\u001b[0m\u001b[0;34m)\u001b[0m\u001b[0;34m\u001b[0m\u001b[0;34m\u001b[0m\u001b[0m\n\u001b[0m\u001b[1;32m    160\u001b[0m             \u001b[0;32mreturn\u001b[0m \u001b[0mAccount\u001b[0m\u001b[0;34m.\u001b[0m\u001b[0mfrom_saved_format\u001b[0m\u001b[0;34m(\u001b[0m\u001b[0msaved_account\u001b[0m\u001b[0;34m)\u001b[0m\u001b[0;34m\u001b[0m\u001b[0;34m\u001b[0m\u001b[0m\n\u001b[1;32m    161\u001b[0m \u001b[0;34m\u001b[0m\u001b[0m\n",
            "\u001b[0;31mAccountNotFoundError\u001b[0m: 'No default ibm_quantum account saved.'"
          ]
        }
      ]
    },
    {
      "cell_type": "code",
      "source": [
        "from pytket.backends import ResultHandle\n",
        "from pytket.extensions.qiskit import IBMQBackend\n",
        "backend = IBMQBackend(\"ibmq_quito\")\n",
        "\n",
        "handle = ResultHandle.from_str(\"('5e8f3dcbbb7d8500119cfbf6', 0)\")\n",
        "counts = backend.get_result(handle).get_counts()\n",
        "print(counts)"
      ],
      "metadata": {
        "id": "cDhelt194OfY"
      },
      "execution_count": null,
      "outputs": []
    },
    {
      "cell_type": "markdown",
      "source": [
        "## Result Serialization"
      ],
      "metadata": {
        "id": "_lctGCT04QjF"
      }
    },
    {
      "cell_type": "code",
      "source": [
        "import tempfile\n",
        "import json\n",
        "from pytket import Circuit\n",
        "from pytket.backends.backendresult import BackendResult\n",
        "from pytket.extensions.qiskit import AerBackend\n",
        "\n",
        "circ = Circuit(2, 2)\n",
        "circ.H(0).CX(0, 1).measure_all()\n",
        "\n",
        "backend = AerBackend()\n",
        "handle = backend.process_circuit(circ, 10)\n",
        "res = backend.get_result(handle)\n",
        "\n",
        "with tempfile.TemporaryFile('w+') as fp:\n",
        "    json.dump(res.to_dict(), fp)\n",
        "    fp.seek(0)\n",
        "    new_res = BackendResult.from_dict(json.load(fp))\n",
        "\n",
        "print(new_res.get_counts())"
      ],
      "metadata": {
        "colab": {
          "base_uri": "https://localhost:8080/"
        },
        "id": "ugZBoEBJ4T7F",
        "outputId": "a54abe3a-90c7-4a73-8e38-31bf0951f351"
      },
      "execution_count": null,
      "outputs": [
        {
          "output_type": "stream",
          "name": "stdout",
          "text": [
            "Counter({(1, 1): 6, (0, 0): 4})\n"
          ]
        }
      ]
    },
    {
      "cell_type": "markdown",
      "source": [
        "## Compilation"
      ],
      "metadata": {
        "id": "SzS3oEAo4ew6"
      }
    },
    {
      "cell_type": "markdown",
      "source": [
        "## Predicates"
      ],
      "metadata": {
        "id": "_55Sh7Cj4nuc"
      }
    },
    {
      "cell_type": "code",
      "source": [
        "from pytket import Circuit, OpType\n",
        "from pytket.predicates import GateSetPredicate, NoMidMeasurePredicate\n",
        "\n",
        "circ = Circuit(2, 2)\n",
        "circ.Rx(0.2, 0).CX(0, 1).Rz(-0.7, 1).measure_all()\n",
        "\n",
        "gateset = GateSetPredicate({OpType.Rx, OpType.CX, OpType.Rz, OpType.Measure})\n",
        "midmeasure = NoMidMeasurePredicate()\n",
        "\n",
        "print(gateset.verify(circ))\n",
        "print(midmeasure.verify(circ))\n",
        "\n",
        "circ.S(0)\n",
        "\n",
        "print(gateset.verify(circ))\n",
        "print(midmeasure.verify(circ))"
      ],
      "metadata": {
        "colab": {
          "base_uri": "https://localhost:8080/"
        },
        "id": "TaZTDerT4sGh",
        "outputId": "e3907aa4-9be2-4672-c95a-68832d51f46c"
      },
      "execution_count": null,
      "outputs": [
        {
          "output_type": "stream",
          "name": "stdout",
          "text": [
            "True\n",
            "True\n",
            "False\n",
            "False\n"
          ]
        }
      ]
    },
    {
      "cell_type": "markdown",
      "source": [
        "## Rebases"
      ],
      "metadata": {
        "id": "e1QfOmlD4zwr"
      }
    },
    {
      "cell_type": "code",
      "source": [
        "from pytket import Circuit\n",
        "from pytket.passes import RebaseTket\n",
        "\n",
        "circ = Circuit(2, 2)\n",
        "circ.Rx(0.3, 0).Ry(-0.9, 1).CZ(0, 1).S(0).CX(1, 0).measure_all()\n",
        "\n",
        "RebaseTket().apply(circ)\n",
        "\n",
        "print(circ.get_commands())"
      ],
      "metadata": {
        "colab": {
          "base_uri": "https://localhost:8080/"
        },
        "id": "SjnG9Tgl43rg",
        "outputId": "b6978309-1050-4610-e9b3-8892e6431437"
      },
      "execution_count": null,
      "outputs": [
        {
          "output_type": "stream",
          "name": "stdout",
          "text": [
            "[TK1(0, 0.3, 0) q[0];, TK1(0.5, 3.1, 3.5) q[1];, TK1(0.5, 0.5, 0.5) q[1];, CX q[0], q[1];, TK1(0, 0, 0.5) q[0];, TK1(0.5, 0.5, 0.5) q[1];, CX q[1], q[0];, Measure q[0] --> c[0];, Measure q[1] --> c[1];]\n"
          ]
        }
      ]
    },
    {
      "cell_type": "code",
      "source": [
        "from pytket import Circuit, OpType\n",
        "from pytket.passes import RebaseCustom\n",
        "\n",
        "gates = {OpType.Rz, OpType.Ry, OpType.CY, OpType.ZZPhase}\n",
        "cx_in_cy = Circuit(2)\n",
        "cx_in_cy.Rz(0.5, 1).CY(0, 1).Rz(-0.5, 1)\n",
        "\n",
        "def tk1_to_rzry(a, b, c):\n",
        "    circ = Circuit(1)\n",
        "    circ.Rz(c + 0.5, 0).Ry(b, 0).Rz(a - 0.5, 0)\n",
        "    return circ\n",
        "\n",
        "custom = RebaseCustom(gates, cx_in_cy, tk1_to_rzry)\n",
        "\n",
        "circ = Circuit(3)\n",
        "circ.X(0).CX(0, 1).Ry(0.2, 1)\n",
        "circ.add_gate(OpType.ZZPhase, -0.83, [2, 1]).Rx(0.6, 2)\n",
        "\n",
        "custom.apply(circ)\n",
        "\n",
        "print(circ.get_commands())"
      ],
      "metadata": {
        "id": "V1rgNaJR47Np",
        "colab": {
          "base_uri": "https://localhost:8080/"
        },
        "outputId": "994bdb1c-69f1-497e-a31c-a75c2cde3e46"
      },
      "execution_count": null,
      "outputs": [
        {
          "output_type": "stream",
          "name": "stdout",
          "text": [
            "[Rz(0.5) q[0];, Rz(0.5) q[1];, Ry(1) q[0];, Rz(3.5) q[0];, CY q[0], q[1];, Rz(3.5) q[1];, Ry(0.2) q[1];, ZZPhase(3.17) q[2], q[1];, Rz(0.5) q[2];, Ry(0.6) q[2];, Rz(3.5) q[2];]\n"
          ]
        }
      ]
    },
    {
      "cell_type": "code",
      "source": [
        "from pytket.circuit import Circuit, OpType\n",
        "from pytket.passes import auto_squash_pass\n",
        "\n",
        "gates = {OpType.PhasedX, OpType.Rz, OpType.Rx, OpType.Ry}\n",
        "custom = auto_squash_pass(gates)\n",
        "\n",
        "circ = Circuit(1).H(0).Ry(0.5, 0).Rx(-0.5, 0).Rz(1.5, 0).Ry(0.5, 0).H(0)\n",
        "custom.apply(circ)\n",
        "print(circ.get_commands())"
      ],
      "metadata": {
        "id": "cE-9RDvl5B8b",
        "colab": {
          "base_uri": "https://localhost:8080/"
        },
        "outputId": "c5def066-9fd2-4c5c-cf15-17934e6b54e3"
      },
      "execution_count": null,
      "outputs": [
        {
          "output_type": "stream",
          "name": "stdout",
          "text": [
            "[PhasedX(2.5, 0) q[0];, Rz(0.5) q[0];]\n"
          ]
        }
      ]
    }
  ],
  "metadata": {
    "colab": {
      "provenance": [],
      "authorship_tag": "ABX9TyPTdqr43+UI3GfUY1lxVPIP",
      "include_colab_link": true
    },
    "kernelspec": {
      "display_name": "Python 3",
      "name": "python3"
    },
    "language_info": {
      "name": "python"
    }
  },
  "nbformat": 4,
  "nbformat_minor": 0
}